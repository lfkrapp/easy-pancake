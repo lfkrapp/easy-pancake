{
 "cells": [
  {
   "cell_type": "code",
   "execution_count": 84,
   "metadata": {
    "collapsed": false,
    "deletable": true,
    "editable": true
   },
   "outputs": [
    {
     "name": "stdout",
     "output_type": "stream",
     "text": [
      "The autoreload extension is already loaded. To reload it, use:\n",
      "  %reload_ext autoreload\n"
     ]
    }
   ],
   "source": [
    "%matplotlib inline\n",
    "import pandas as pd\n",
    "import numpy as np\n",
    "\n",
    "import matplotlib.pyplot as plt\n",
    "import matplotlib.patches as mpatches\n",
    "plt.style.use('ggplot')\n",
    "\n",
    "%load_ext autoreload\n",
    "%autoreload 2"
   ]
  },
  {
   "cell_type": "markdown",
   "metadata": {
    "deletable": true,
    "editable": true
   },
   "source": [
    "# Data Preprocessing"
   ]
  },
  {
   "cell_type": "markdown",
   "metadata": {
    "deletable": true,
    "editable": true
   },
   "source": [
    "## 0 - Loading data"
   ]
  },
  {
   "cell_type": "code",
   "execution_count": 85,
   "metadata": {
    "collapsed": false,
    "deletable": true,
    "editable": true
   },
   "outputs": [],
   "source": [
    "# set data path\n",
    "path_data_prot = \"data/ratiowt.csv\"\n",
    "path_data_ribo = \"data/summary_pat1_CDS_density_data_normalized_RPKM.txt\"\n",
    "\n",
    "# read data from files\n",
    "raw_data_prot = pd.read_csv(path_data_prot, index_col=0)\n",
    "raw_data_ribo = pd.read_csv(path_data_ribo, sep='\\t')"
   ]
  },
  {
   "cell_type": "markdown",
   "metadata": {
    "deletable": true,
    "editable": true
   },
   "source": [
    "## 1 - Datasets description"
   ]
  },
  {
   "cell_type": "markdown",
   "metadata": {
    "deletable": true,
    "editable": true
   },
   "source": [
    "### a) Proteins data"
   ]
  },
  {
   "cell_type": "code",
   "execution_count": 86,
   "metadata": {
    "collapsed": false,
    "deletable": true,
    "editable": true
   },
   "outputs": [
    {
     "name": "stdout",
     "output_type": "stream",
     "text": [
      "(3281, 33)\n"
     ]
    },
    {
     "data": {
      "text/html": [
       "<div>\n",
       "<table border=\"1\" class=\"dataframe\">\n",
       "  <thead>\n",
       "    <tr style=\"text-align: right;\">\n",
       "      <th></th>\n",
       "      <th>WT4_T00</th>\n",
       "      <th>WT4_T01</th>\n",
       "      <th>WT4_T02</th>\n",
       "      <th>WT4_T03</th>\n",
       "      <th>WT4_T04</th>\n",
       "      <th>WT4_T05</th>\n",
       "      <th>WT4_T06</th>\n",
       "      <th>WT4_T07</th>\n",
       "      <th>WT4_T08</th>\n",
       "      <th>WT4_T09</th>\n",
       "      <th>...</th>\n",
       "      <th>WT7_T01</th>\n",
       "      <th>WT7_T02</th>\n",
       "      <th>WT7_T03</th>\n",
       "      <th>WT7_T04</th>\n",
       "      <th>WT7_T05</th>\n",
       "      <th>WT7_T06</th>\n",
       "      <th>WT7_T07</th>\n",
       "      <th>WT7_T08</th>\n",
       "      <th>WT7_T09</th>\n",
       "      <th>WT7_T10</th>\n",
       "    </tr>\n",
       "  </thead>\n",
       "  <tbody>\n",
       "    <tr>\n",
       "      <th>CON__P00761</th>\n",
       "      <td>13.150281</td>\n",
       "      <td>9.407338</td>\n",
       "      <td>24.657872</td>\n",
       "      <td>10.264727</td>\n",
       "      <td>15.709685</td>\n",
       "      <td>28.330217</td>\n",
       "      <td>15.511812</td>\n",
       "      <td>9.484966</td>\n",
       "      <td>22.430577</td>\n",
       "      <td>7.535227</td>\n",
       "      <td>...</td>\n",
       "      <td>23.298076</td>\n",
       "      <td>111.804298</td>\n",
       "      <td>70.269131</td>\n",
       "      <td>46.431722</td>\n",
       "      <td>71.108583</td>\n",
       "      <td>59.157596</td>\n",
       "      <td>67.168189</td>\n",
       "      <td>18.576311</td>\n",
       "      <td>10.721906</td>\n",
       "      <td>30.374825</td>\n",
       "    </tr>\n",
       "    <tr>\n",
       "      <th>CON__P04264</th>\n",
       "      <td>5.610728</td>\n",
       "      <td>8.141996</td>\n",
       "      <td>11.312985</td>\n",
       "      <td>7.446016</td>\n",
       "      <td>4.232088</td>\n",
       "      <td>8.690362</td>\n",
       "      <td>5.367110</td>\n",
       "      <td>6.333122</td>\n",
       "      <td>3.213471</td>\n",
       "      <td>4.681867</td>\n",
       "      <td>...</td>\n",
       "      <td>7.684033</td>\n",
       "      <td>7.000350</td>\n",
       "      <td>5.529750</td>\n",
       "      <td>3.083089</td>\n",
       "      <td>5.549082</td>\n",
       "      <td>8.059966</td>\n",
       "      <td>4.581272</td>\n",
       "      <td>2.864099</td>\n",
       "      <td>6.615507</td>\n",
       "      <td>2.820079</td>\n",
       "    </tr>\n",
       "    <tr>\n",
       "      <th>CON__P13645</th>\n",
       "      <td>3.163556</td>\n",
       "      <td>3.937628</td>\n",
       "      <td>7.504690</td>\n",
       "      <td>3.456978</td>\n",
       "      <td>6.605892</td>\n",
       "      <td>1.881963</td>\n",
       "      <td>0.889442</td>\n",
       "      <td>6.892749</td>\n",
       "      <td>0.561703</td>\n",
       "      <td>1.760192</td>\n",
       "      <td>...</td>\n",
       "      <td>7.459903</td>\n",
       "      <td>10.434928</td>\n",
       "      <td>7.730365</td>\n",
       "      <td>5.783356</td>\n",
       "      <td>16.064515</td>\n",
       "      <td>4.615527</td>\n",
       "      <td>2.237787</td>\n",
       "      <td>8.932559</td>\n",
       "      <td>6.195019</td>\n",
       "      <td>7.190623</td>\n",
       "    </tr>\n",
       "    <tr>\n",
       "      <th>CON__P15636</th>\n",
       "      <td>20.156007</td>\n",
       "      <td>6.966699</td>\n",
       "      <td>4.828119</td>\n",
       "      <td>13.614333</td>\n",
       "      <td>16.808700</td>\n",
       "      <td>9.455371</td>\n",
       "      <td>12.878798</td>\n",
       "      <td>21.559158</td>\n",
       "      <td>14.028197</td>\n",
       "      <td>7.663422</td>\n",
       "      <td>...</td>\n",
       "      <td>10.987683</td>\n",
       "      <td>7.503564</td>\n",
       "      <td>5.772006</td>\n",
       "      <td>17.601295</td>\n",
       "      <td>9.832842</td>\n",
       "      <td>24.968789</td>\n",
       "      <td>9.896091</td>\n",
       "      <td>17.334928</td>\n",
       "      <td>22.422027</td>\n",
       "      <td>24.981888</td>\n",
       "    </tr>\n",
       "    <tr>\n",
       "      <th>CON__P35527</th>\n",
       "      <td>6.656903</td>\n",
       "      <td>3.573726</td>\n",
       "      <td>3.286339</td>\n",
       "      <td>3.203588</td>\n",
       "      <td>1.679995</td>\n",
       "      <td>1.941107</td>\n",
       "      <td>2.872820</td>\n",
       "      <td>3.753331</td>\n",
       "      <td>4.186027</td>\n",
       "      <td>2.490412</td>\n",
       "      <td>...</td>\n",
       "      <td>2.876456</td>\n",
       "      <td>0.330950</td>\n",
       "      <td>0.935541</td>\n",
       "      <td>3.802426</td>\n",
       "      <td>3.579611</td>\n",
       "      <td>10.761714</td>\n",
       "      <td>4.365478</td>\n",
       "      <td>1.076577</td>\n",
       "      <td>5.539552</td>\n",
       "      <td>3.279979</td>\n",
       "    </tr>\n",
       "  </tbody>\n",
       "</table>\n",
       "<p>5 rows × 33 columns</p>\n",
       "</div>"
      ],
      "text/plain": [
       "               WT4_T00   WT4_T01    WT4_T02    WT4_T03    WT4_T04    WT4_T05  \\\n",
       "CON__P00761  13.150281  9.407338  24.657872  10.264727  15.709685  28.330217   \n",
       "CON__P04264   5.610728  8.141996  11.312985   7.446016   4.232088   8.690362   \n",
       "CON__P13645   3.163556  3.937628   7.504690   3.456978   6.605892   1.881963   \n",
       "CON__P15636  20.156007  6.966699   4.828119  13.614333  16.808700   9.455371   \n",
       "CON__P35527   6.656903  3.573726   3.286339   3.203588   1.679995   1.941107   \n",
       "\n",
       "               WT4_T06    WT4_T07    WT4_T08   WT4_T09    ...        WT7_T01  \\\n",
       "CON__P00761  15.511812   9.484966  22.430577  7.535227    ...      23.298076   \n",
       "CON__P04264   5.367110   6.333122   3.213471  4.681867    ...       7.684033   \n",
       "CON__P13645   0.889442   6.892749   0.561703  1.760192    ...       7.459903   \n",
       "CON__P15636  12.878798  21.559158  14.028197  7.663422    ...      10.987683   \n",
       "CON__P35527   2.872820   3.753331   4.186027  2.490412    ...       2.876456   \n",
       "\n",
       "                WT7_T02    WT7_T03    WT7_T04    WT7_T05    WT7_T06  \\\n",
       "CON__P00761  111.804298  70.269131  46.431722  71.108583  59.157596   \n",
       "CON__P04264    7.000350   5.529750   3.083089   5.549082   8.059966   \n",
       "CON__P13645   10.434928   7.730365   5.783356  16.064515   4.615527   \n",
       "CON__P15636    7.503564   5.772006  17.601295   9.832842  24.968789   \n",
       "CON__P35527    0.330950   0.935541   3.802426   3.579611  10.761714   \n",
       "\n",
       "               WT7_T07    WT7_T08    WT7_T09    WT7_T10  \n",
       "CON__P00761  67.168189  18.576311  10.721906  30.374825  \n",
       "CON__P04264   4.581272   2.864099   6.615507   2.820079  \n",
       "CON__P13645   2.237787   8.932559   6.195019   7.190623  \n",
       "CON__P15636   9.896091  17.334928  22.422027  24.981888  \n",
       "CON__P35527   4.365478   1.076577   5.539552   3.279979  \n",
       "\n",
       "[5 rows x 33 columns]"
      ]
     },
     "execution_count": 86,
     "metadata": {},
     "output_type": "execute_result"
    }
   ],
   "source": [
    "# preview of the raw protein data\n",
    "print(raw_data_prot.shape)\n",
    "raw_data_prot.head()"
   ]
  },
  {
   "cell_type": "markdown",
   "metadata": {
    "deletable": true,
    "editable": true
   },
   "source": [
    "### b) Ribosomes data"
   ]
  },
  {
   "cell_type": "code",
   "execution_count": 87,
   "metadata": {
    "collapsed": false,
    "deletable": true,
    "editable": true
   },
   "outputs": [
    {
     "name": "stdout",
     "output_type": "stream",
     "text": [
      "(5175, 14)\n"
     ]
    },
    {
     "data": {
      "text/html": [
       "<div>\n",
       "<table border=\"1\" class=\"dataframe\">\n",
       "  <thead>\n",
       "    <tr style=\"text-align: right;\">\n",
       "      <th></th>\n",
       "      <th>pat1_exp_ribo</th>\n",
       "      <th>pat1_0h_ribo</th>\n",
       "      <th>pat1_1h_ribo</th>\n",
       "      <th>pat1_3h_ribo</th>\n",
       "      <th>pat1_5h_ribo</th>\n",
       "      <th>pat1_7h_ribo</th>\n",
       "      <th>pat1_10h_ribo</th>\n",
       "      <th>pat1_exp_mRNA</th>\n",
       "      <th>pat1_0h_mRNA</th>\n",
       "      <th>pat1_1h_mRNA</th>\n",
       "      <th>pat1_3h_mRNA</th>\n",
       "      <th>pat1_5h_mRNA</th>\n",
       "      <th>pat1_7h_mRNA</th>\n",
       "      <th>pat1_10h_mRNA</th>\n",
       "    </tr>\n",
       "  </thead>\n",
       "  <tbody>\n",
       "    <tr>\n",
       "      <th>SPBC337.03</th>\n",
       "      <td>22.925420</td>\n",
       "      <td>59.818450</td>\n",
       "      <td>8.296752</td>\n",
       "      <td>119.440621</td>\n",
       "      <td>31.742899</td>\n",
       "      <td>8.128106</td>\n",
       "      <td>8.342521</td>\n",
       "      <td>14.632602</td>\n",
       "      <td>9.707561</td>\n",
       "      <td>22.316031</td>\n",
       "      <td>27.109601</td>\n",
       "      <td>5.067587</td>\n",
       "      <td>5.536374</td>\n",
       "      <td>5.420566</td>\n",
       "    </tr>\n",
       "    <tr>\n",
       "      <th>SPAC1B3.15c</th>\n",
       "      <td>11.164113</td>\n",
       "      <td>14.918700</td>\n",
       "      <td>3.467528</td>\n",
       "      <td>21.511157</td>\n",
       "      <td>12.437912</td>\n",
       "      <td>22.807897</td>\n",
       "      <td>13.553825</td>\n",
       "      <td>15.801948</td>\n",
       "      <td>5.013840</td>\n",
       "      <td>2.830356</td>\n",
       "      <td>24.499555</td>\n",
       "      <td>0.971048</td>\n",
       "      <td>28.391740</td>\n",
       "      <td>18.452541</td>\n",
       "    </tr>\n",
       "    <tr>\n",
       "      <th>SPBCPT2R1.10</th>\n",
       "      <td>27.763147</td>\n",
       "      <td>60.265964</td>\n",
       "      <td>24.730075</td>\n",
       "      <td>12.767686</td>\n",
       "      <td>2.055611</td>\n",
       "      <td>1.062212</td>\n",
       "      <td>5.125196</td>\n",
       "      <td>3.556112</td>\n",
       "      <td>6.043840</td>\n",
       "      <td>7.949050</td>\n",
       "      <td>2.946470</td>\n",
       "      <td>0.213956</td>\n",
       "      <td>2.206976</td>\n",
       "      <td>15.975507</td>\n",
       "    </tr>\n",
       "    <tr>\n",
       "      <th>SPBC21B10.13c</th>\n",
       "      <td>5.825523</td>\n",
       "      <td>37.656982</td>\n",
       "      <td>115.101522</td>\n",
       "      <td>84.159902</td>\n",
       "      <td>4.018543</td>\n",
       "      <td>45.787367</td>\n",
       "      <td>13.210130</td>\n",
       "      <td>17.350575</td>\n",
       "      <td>13.882374</td>\n",
       "      <td>41.554121</td>\n",
       "      <td>240.125592</td>\n",
       "      <td>0.692884</td>\n",
       "      <td>29.218661</td>\n",
       "      <td>34.229620</td>\n",
       "    </tr>\n",
       "    <tr>\n",
       "      <th>SPAC19E9.03</th>\n",
       "      <td>15.117320</td>\n",
       "      <td>62.077835</td>\n",
       "      <td>44.578471</td>\n",
       "      <td>11.424813</td>\n",
       "      <td>2.356965</td>\n",
       "      <td>34.778644</td>\n",
       "      <td>5.435827</td>\n",
       "      <td>56.480683</td>\n",
       "      <td>89.356403</td>\n",
       "      <td>36.815561</td>\n",
       "      <td>30.734372</td>\n",
       "      <td>0.756267</td>\n",
       "      <td>16.420532</td>\n",
       "      <td>48.105336</td>\n",
       "    </tr>\n",
       "  </tbody>\n",
       "</table>\n",
       "</div>"
      ],
      "text/plain": [
       "                   pat1_exp_ribo  pat1_0h_ribo  pat1_1h_ribo  pat1_3h_ribo  \\\n",
       "SPBC337.03             22.925420     59.818450      8.296752    119.440621   \n",
       "SPAC1B3.15c            11.164113     14.918700      3.467528     21.511157   \n",
       "SPBCPT2R1.10           27.763147     60.265964     24.730075     12.767686   \n",
       "SPBC21B10.13c           5.825523     37.656982    115.101522     84.159902   \n",
       "SPAC19E9.03            15.117320     62.077835     44.578471     11.424813   \n",
       "\n",
       "               pat1_5h_ribo  pat1_7h_ribo  pat1_10h_ribo  pat1_exp_mRNA  \\\n",
       "SPBC337.03        31.742899      8.128106       8.342521      14.632602   \n",
       "SPAC1B3.15c       12.437912     22.807897      13.553825      15.801948   \n",
       "SPBCPT2R1.10       2.055611      1.062212       5.125196       3.556112   \n",
       "SPBC21B10.13c      4.018543     45.787367      13.210130      17.350575   \n",
       "SPAC19E9.03        2.356965     34.778644       5.435827      56.480683   \n",
       "\n",
       "               pat1_0h_mRNA  pat1_1h_mRNA  pat1_3h_mRNA  pat1_5h_mRNA  \\\n",
       "SPBC337.03         9.707561     22.316031     27.109601      5.067587   \n",
       "SPAC1B3.15c        5.013840      2.830356     24.499555      0.971048   \n",
       "SPBCPT2R1.10       6.043840      7.949050      2.946470      0.213956   \n",
       "SPBC21B10.13c     13.882374     41.554121    240.125592      0.692884   \n",
       "SPAC19E9.03       89.356403     36.815561     30.734372      0.756267   \n",
       "\n",
       "               pat1_7h_mRNA  pat1_10h_mRNA  \n",
       "SPBC337.03         5.536374       5.420566  \n",
       "SPAC1B3.15c       28.391740      18.452541  \n",
       "SPBCPT2R1.10       2.206976      15.975507  \n",
       "SPBC21B10.13c     29.218661      34.229620  \n",
       "SPAC19E9.03       16.420532      48.105336  "
      ]
     },
     "execution_count": 87,
     "metadata": {},
     "output_type": "execute_result"
    }
   ],
   "source": [
    "# preview of the raw ribo data\n",
    "print(raw_data_ribo.shape)\n",
    "raw_data_ribo.head()"
   ]
  },
  {
   "cell_type": "markdown",
   "metadata": {
    "deletable": true,
    "editable": true
   },
   "source": [
    "## 2 - Datasets preprocessing"
   ]
  },
  {
   "cell_type": "markdown",
   "metadata": {
    "deletable": true,
    "editable": true
   },
   "source": [
    "### a) Proteins data"
   ]
  },
  {
   "cell_type": "markdown",
   "metadata": {
    "deletable": true,
    "editable": true
   },
   "source": [
    "Our first preprocessing consists in averaging the triplicates at each time point. <br/>\n",
    "Indead, it would be more simple to compute corralation between ribo et proteins concentrations if we have a single value at each time point."
   ]
  },
  {
   "cell_type": "code",
   "execution_count": 88,
   "metadata": {
    "collapsed": false,
    "deletable": true,
    "editable": true
   },
   "outputs": [],
   "source": [
    "# split protein data into 3 sets\n",
    "data_prot_A = pd.DataFrame(raw_data_prot.ix[:,0:11].values)\n",
    "data_prot_B = pd.DataFrame(raw_data_prot.ix[:,11:22].values)\n",
    "data_prot_C = pd.DataFrame(raw_data_prot.ix[:,22:33].values)\n",
    "\n",
    "# compute average of the 3 data sets\n",
    "data_prot = (data_prot_A + data_prot_B + data_prot_C).copy()/3.0"
   ]
  },
  {
   "cell_type": "markdown",
   "metadata": {
    "deletable": true,
    "editable": true
   },
   "source": [
    "In order to get measures at the same time points in both datasets, we remove the 9th measure (= 9h, absent from the ribo dataset)."
   ]
  },
  {
   "cell_type": "code",
   "execution_count": 89,
   "metadata": {
    "collapsed": false,
    "deletable": true,
    "editable": true
   },
   "outputs": [],
   "source": [
    "data_prot = data_prot.iloc[:, [0, 1, 3, 5, 7, 10]]"
   ]
  },
  {
   "cell_type": "markdown",
   "metadata": {
    "deletable": true,
    "editable": true
   },
   "source": [
    "Finally, we choose to use the protein's name as index, and name the features as the time of the measurement."
   ]
  },
  {
   "cell_type": "code",
   "execution_count": 90,
   "metadata": {
    "collapsed": false,
    "deletable": true,
    "editable": true
   },
   "outputs": [
    {
     "name": "stdout",
     "output_type": "stream",
     "text": [
      "(3281, 6)\n"
     ]
    },
    {
     "data": {
      "text/html": [
       "<div>\n",
       "<table border=\"1\" class=\"dataframe\">\n",
       "  <thead>\n",
       "    <tr style=\"text-align: right;\">\n",
       "      <th></th>\n",
       "      <th>h0</th>\n",
       "      <th>h1</th>\n",
       "      <th>h3</th>\n",
       "      <th>h5</th>\n",
       "      <th>h7</th>\n",
       "      <th>h10</th>\n",
       "    </tr>\n",
       "  </thead>\n",
       "  <tbody>\n",
       "    <tr>\n",
       "      <th>CON__P00761</th>\n",
       "      <td>62.703297</td>\n",
       "      <td>14.396267</td>\n",
       "      <td>34.796653</td>\n",
       "      <td>38.255215</td>\n",
       "      <td>43.786914</td>\n",
       "      <td>29.969380</td>\n",
       "    </tr>\n",
       "    <tr>\n",
       "      <th>CON__P04264</th>\n",
       "      <td>6.844208</td>\n",
       "      <td>7.315701</td>\n",
       "      <td>7.077574</td>\n",
       "      <td>6.154198</td>\n",
       "      <td>5.591905</td>\n",
       "      <td>6.585900</td>\n",
       "    </tr>\n",
       "    <tr>\n",
       "      <th>CON__P13645</th>\n",
       "      <td>5.565627</td>\n",
       "      <td>7.004613</td>\n",
       "      <td>3.964237</td>\n",
       "      <td>7.828472</td>\n",
       "      <td>4.175028</td>\n",
       "      <td>5.982843</td>\n",
       "    </tr>\n",
       "    <tr>\n",
       "      <th>CON__P15636</th>\n",
       "      <td>13.634706</td>\n",
       "      <td>9.466882</td>\n",
       "      <td>9.907490</td>\n",
       "      <td>11.852809</td>\n",
       "      <td>14.847343</td>\n",
       "      <td>16.075755</td>\n",
       "    </tr>\n",
       "    <tr>\n",
       "      <th>CON__P35527</th>\n",
       "      <td>6.987298</td>\n",
       "      <td>4.176773</td>\n",
       "      <td>2.505684</td>\n",
       "      <td>2.966327</td>\n",
       "      <td>3.154968</td>\n",
       "      <td>4.038704</td>\n",
       "    </tr>\n",
       "  </tbody>\n",
       "</table>\n",
       "</div>"
      ],
      "text/plain": [
       "                    h0         h1         h3         h5         h7        h10\n",
       "CON__P00761  62.703297  14.396267  34.796653  38.255215  43.786914  29.969380\n",
       "CON__P04264   6.844208   7.315701   7.077574   6.154198   5.591905   6.585900\n",
       "CON__P13645   5.565627   7.004613   3.964237   7.828472   4.175028   5.982843\n",
       "CON__P15636  13.634706   9.466882   9.907490  11.852809  14.847343  16.075755\n",
       "CON__P35527   6.987298   4.176773   2.505684   2.966327   3.154968   4.038704"
      ]
     },
     "execution_count": 90,
     "metadata": {},
     "output_type": "execute_result"
    }
   ],
   "source": [
    "# set columns and rows indexes\n",
    "data_prot.columns = ['h'+str(k) for k in [0,1,3,5,7,10]]\n",
    "data_prot.index = raw_data_prot.index\n",
    "\n",
    "# show begining of dataframe\n",
    "print(data_prot.shape)\n",
    "data_prot.head()"
   ]
  },
  {
   "cell_type": "markdown",
   "metadata": {
    "deletable": true,
    "editable": true
   },
   "source": [
    "### b) Ribosomes data"
   ]
  },
  {
   "cell_type": "code",
   "execution_count": 91,
   "metadata": {
    "collapsed": false,
    "deletable": true,
    "editable": true,
    "scrolled": false
   },
   "outputs": [
    {
     "data": {
      "text/html": [
       "<div>\n",
       "<table border=\"1\" class=\"dataframe\">\n",
       "  <thead>\n",
       "    <tr style=\"text-align: right;\">\n",
       "      <th></th>\n",
       "      <th>pat1_0h_ribo</th>\n",
       "      <th>pat1_1h_ribo</th>\n",
       "      <th>pat1_3h_ribo</th>\n",
       "      <th>pat1_5h_ribo</th>\n",
       "      <th>pat1_7h_ribo</th>\n",
       "      <th>pat1_10h_ribo</th>\n",
       "    </tr>\n",
       "  </thead>\n",
       "  <tbody>\n",
       "    <tr>\n",
       "      <th>SPBC337.03</th>\n",
       "      <td>59.818450</td>\n",
       "      <td>8.296752</td>\n",
       "      <td>119.440621</td>\n",
       "      <td>31.742899</td>\n",
       "      <td>8.128106</td>\n",
       "      <td>8.342521</td>\n",
       "    </tr>\n",
       "    <tr>\n",
       "      <th>SPAC1B3.15c</th>\n",
       "      <td>14.918700</td>\n",
       "      <td>3.467528</td>\n",
       "      <td>21.511157</td>\n",
       "      <td>12.437912</td>\n",
       "      <td>22.807897</td>\n",
       "      <td>13.553825</td>\n",
       "    </tr>\n",
       "    <tr>\n",
       "      <th>SPBCPT2R1.10</th>\n",
       "      <td>60.265964</td>\n",
       "      <td>24.730075</td>\n",
       "      <td>12.767686</td>\n",
       "      <td>2.055611</td>\n",
       "      <td>1.062212</td>\n",
       "      <td>5.125196</td>\n",
       "    </tr>\n",
       "    <tr>\n",
       "      <th>SPBC21B10.13c</th>\n",
       "      <td>37.656982</td>\n",
       "      <td>115.101522</td>\n",
       "      <td>84.159902</td>\n",
       "      <td>4.018543</td>\n",
       "      <td>45.787367</td>\n",
       "      <td>13.210130</td>\n",
       "    </tr>\n",
       "    <tr>\n",
       "      <th>SPAC19E9.03</th>\n",
       "      <td>62.077835</td>\n",
       "      <td>44.578471</td>\n",
       "      <td>11.424813</td>\n",
       "      <td>2.356965</td>\n",
       "      <td>34.778644</td>\n",
       "      <td>5.435827</td>\n",
       "    </tr>\n",
       "  </tbody>\n",
       "</table>\n",
       "</div>"
      ],
      "text/plain": [
       "               pat1_0h_ribo  pat1_1h_ribo  pat1_3h_ribo  pat1_5h_ribo  \\\n",
       "SPBC337.03        59.818450      8.296752    119.440621     31.742899   \n",
       "SPAC1B3.15c       14.918700      3.467528     21.511157     12.437912   \n",
       "SPBCPT2R1.10      60.265964     24.730075     12.767686      2.055611   \n",
       "SPBC21B10.13c     37.656982    115.101522     84.159902      4.018543   \n",
       "SPAC19E9.03       62.077835     44.578471     11.424813      2.356965   \n",
       "\n",
       "               pat1_7h_ribo  pat1_10h_ribo  \n",
       "SPBC337.03         8.128106       8.342521  \n",
       "SPAC1B3.15c       22.807897      13.553825  \n",
       "SPBCPT2R1.10       1.062212       5.125196  \n",
       "SPBC21B10.13c     45.787367      13.210130  \n",
       "SPAC19E9.03       34.778644       5.435827  "
      ]
     },
     "execution_count": 91,
     "metadata": {},
     "output_type": "execute_result"
    }
   ],
   "source": [
    "# remove first unwanted columns\n",
    "data_ribo = raw_data_ribo.iloc[:,1:7]\n",
    "data_ribo.head()"
   ]
  },
  {
   "cell_type": "code",
   "execution_count": 92,
   "metadata": {
    "collapsed": false,
    "deletable": true,
    "editable": true
   },
   "outputs": [
    {
     "name": "stdout",
     "output_type": "stream",
     "text": [
      "(5175, 6)\n"
     ]
    },
    {
     "data": {
      "text/html": [
       "<div>\n",
       "<table border=\"1\" class=\"dataframe\">\n",
       "  <thead>\n",
       "    <tr style=\"text-align: right;\">\n",
       "      <th></th>\n",
       "      <th>h0</th>\n",
       "      <th>h1</th>\n",
       "      <th>h3</th>\n",
       "      <th>h5</th>\n",
       "      <th>h7</th>\n",
       "      <th>h10</th>\n",
       "    </tr>\n",
       "  </thead>\n",
       "  <tbody>\n",
       "    <tr>\n",
       "      <th>SPBC337.03</th>\n",
       "      <td>59.818450</td>\n",
       "      <td>8.296752</td>\n",
       "      <td>119.440621</td>\n",
       "      <td>31.742899</td>\n",
       "      <td>8.128106</td>\n",
       "      <td>8.342521</td>\n",
       "    </tr>\n",
       "    <tr>\n",
       "      <th>SPAC1B3.15c</th>\n",
       "      <td>14.918700</td>\n",
       "      <td>3.467528</td>\n",
       "      <td>21.511157</td>\n",
       "      <td>12.437912</td>\n",
       "      <td>22.807897</td>\n",
       "      <td>13.553825</td>\n",
       "    </tr>\n",
       "    <tr>\n",
       "      <th>SPBCPT2R1.10</th>\n",
       "      <td>60.265964</td>\n",
       "      <td>24.730075</td>\n",
       "      <td>12.767686</td>\n",
       "      <td>2.055611</td>\n",
       "      <td>1.062212</td>\n",
       "      <td>5.125196</td>\n",
       "    </tr>\n",
       "    <tr>\n",
       "      <th>SPBC21B10.13c</th>\n",
       "      <td>37.656982</td>\n",
       "      <td>115.101522</td>\n",
       "      <td>84.159902</td>\n",
       "      <td>4.018543</td>\n",
       "      <td>45.787367</td>\n",
       "      <td>13.210130</td>\n",
       "    </tr>\n",
       "    <tr>\n",
       "      <th>SPAC19E9.03</th>\n",
       "      <td>62.077835</td>\n",
       "      <td>44.578471</td>\n",
       "      <td>11.424813</td>\n",
       "      <td>2.356965</td>\n",
       "      <td>34.778644</td>\n",
       "      <td>5.435827</td>\n",
       "    </tr>\n",
       "  </tbody>\n",
       "</table>\n",
       "</div>"
      ],
      "text/plain": [
       "                      h0          h1          h3         h5         h7  \\\n",
       "SPBC337.03     59.818450    8.296752  119.440621  31.742899   8.128106   \n",
       "SPAC1B3.15c    14.918700    3.467528   21.511157  12.437912  22.807897   \n",
       "SPBCPT2R1.10   60.265964   24.730075   12.767686   2.055611   1.062212   \n",
       "SPBC21B10.13c  37.656982  115.101522   84.159902   4.018543  45.787367   \n",
       "SPAC19E9.03    62.077835   44.578471   11.424813   2.356965  34.778644   \n",
       "\n",
       "                     h10  \n",
       "SPBC337.03      8.342521  \n",
       "SPAC1B3.15c    13.553825  \n",
       "SPBCPT2R1.10    5.125196  \n",
       "SPBC21B10.13c  13.210130  \n",
       "SPAC19E9.03     5.435827  "
      ]
     },
     "execution_count": 92,
     "metadata": {},
     "output_type": "execute_result"
    }
   ],
   "source": [
    "# set columns indexes\n",
    "data_ribo.columns = ['h'+str(k) for k in [0,1,3,5,7,10]]\n",
    "\n",
    "print(data_ribo.shape)\n",
    "data_ribo.head()"
   ]
  },
  {
   "cell_type": "markdown",
   "metadata": {
    "deletable": true,
    "editable": true
   },
   "source": [
    "## 3 - Merging the ribo and protein data sets"
   ]
  },
  {
   "cell_type": "markdown",
   "metadata": {
    "deletable": true,
    "editable": true
   },
   "source": [
    "We've got 2969 entries in our proteins dataset and 4786 entries in the ribo one.<br/>\n",
    "We'll first reduce the 2 datasets to their common entries, and then join the 2 tables."
   ]
  },
  {
   "cell_type": "markdown",
   "metadata": {
    "deletable": true,
    "editable": true
   },
   "source": [
    "### a) Filtering data"
   ]
  },
  {
   "cell_type": "markdown",
   "metadata": {
    "deletable": true,
    "editable": true
   },
   "source": [
    "As ribo names can be composed of several names, we extract the ribo entries which name contains the one of our proteins."
   ]
  },
  {
   "cell_type": "code",
   "execution_count": 99,
   "metadata": {
    "collapsed": false,
    "deletable": true,
    "editable": true
   },
   "outputs": [
    {
     "name": "stdout",
     "output_type": "stream",
     "text": [
      "(3235, 6)\n"
     ]
    }
   ],
   "source": [
    "# create the pattern and the filter\n",
    "pattern = '|'.join(data_prot.index.values)\n",
    "filter_ = data_ribo.index.str.contains(pattern, case=False, na=False)\n",
    "\n",
    "# extract ribo data with corresponding protein name\n",
    "data_ribo = data_ribo[filter_]\n",
    "\n",
    "# remove duplicates\n",
    "data_ribo = data_ribo.drop_duplicates()\n",
    "\n",
    "# show preview\n",
    "print(data_ribo.shape)"
   ]
  },
  {
   "cell_type": "markdown",
   "metadata": {
    "deletable": true,
    "editable": true
   },
   "source": [
    "### b) Ending with ribo duplicates and Filtering proteins data"
   ]
  },
  {
   "cell_type": "markdown",
   "metadata": {
    "deletable": true,
    "editable": true
   },
   "source": [
    "Now, we have more proteins (2969) than we have ribo (2858). Before extracting the common entries from the protein dataset, let's check if we have remaining duplicates :"
   ]
  },
  {
   "cell_type": "code",
   "execution_count": 100,
   "metadata": {
    "collapsed": false,
    "deletable": true,
    "editable": true
   },
   "outputs": [],
   "source": [
    "duplicates = np.array([], dtype=object)\n",
    "\n",
    "for name in data_prot.index.values:\n",
    "    filter_ = data_ribo.index.str.contains(name, case=False, na=False)\n",
    "    \n",
    "    if len(data_ribo[filter_].index)>1:\n",
    "        print(data_ribo[filter_].index, name)\n",
    "        duplicates = np.append(duplicates, data_ribo[filter_].index)"
   ]
  },
  {
   "cell_type": "markdown",
   "metadata": {
    "deletable": true,
    "editable": true
   },
   "source": [
    "We still have one case of protein potentially produced by 2 distinct ribo. Let's aggregate it as we did previously :"
   ]
  },
  {
   "cell_type": "code",
   "execution_count": 101,
   "metadata": {
    "collapsed": false,
    "deletable": true,
    "editable": true
   },
   "outputs": [],
   "source": [
    "last_duplicate = data_ribo.loc[duplicates]\n",
    "last_duplicate_sum = last_duplicate.sum()\n",
    "last_duplicate_sum.name = 'SPAC20H4.10'\n",
    "\n",
    "data_ribo = data_ribo.drop(duplicates)\n",
    "data_ribo = data_ribo.append(last_duplicate_sum)"
   ]
  },
  {
   "cell_type": "markdown",
   "metadata": {
    "deletable": true,
    "editable": true
   },
   "source": [
    "Now, we can extract the common entries (the ARNm positions corresponding to proteins names) :"
   ]
  },
  {
   "cell_type": "code",
   "execution_count": 102,
   "metadata": {
    "collapsed": false,
    "deletable": true,
    "editable": true
   },
   "outputs": [],
   "source": [
    "# get list of indexes and names to sort\n",
    "idxname = np.array([], dtype=int)\n",
    "listname = np.array([], dtype=object)\n",
    "\n",
    "for name in data_prot.index.values:\n",
    "    filter_ = data_ribo.index.str.contains(name, case=False, na=False)\n",
    "    \n",
    "    if len(data_ribo[filter_].index)>0:\n",
    "        idxname = np.append(idxname, data_ribo.index.get_loc(data_ribo[filter_].index[0])) # ribo numeric positions\n",
    "        listname = np.append(listname, name) # Protein index"
   ]
  },
  {
   "cell_type": "markdown",
   "metadata": {
    "deletable": true,
    "editable": true
   },
   "source": [
    "Let's filter the proteins dataset :"
   ]
  },
  {
   "cell_type": "code",
   "execution_count": 103,
   "metadata": {
    "collapsed": false,
    "deletable": true,
    "editable": true
   },
   "outputs": [
    {
     "name": "stdout",
     "output_type": "stream",
     "text": [
      "(3236, 6)\n"
     ]
    },
    {
     "data": {
      "text/html": [
       "<div>\n",
       "<table border=\"1\" class=\"dataframe\">\n",
       "  <thead>\n",
       "    <tr style=\"text-align: right;\">\n",
       "      <th></th>\n",
       "      <th>h0</th>\n",
       "      <th>h1</th>\n",
       "      <th>h3</th>\n",
       "      <th>h5</th>\n",
       "      <th>h7</th>\n",
       "      <th>h10</th>\n",
       "    </tr>\n",
       "  </thead>\n",
       "  <tbody>\n",
       "    <tr>\n",
       "      <th>SPAC1002.01</th>\n",
       "      <td>0.559502</td>\n",
       "      <td>0.797365</td>\n",
       "      <td>0.908648</td>\n",
       "      <td>1.149922</td>\n",
       "      <td>1.056883</td>\n",
       "      <td>1.217080</td>\n",
       "    </tr>\n",
       "    <tr>\n",
       "      <th>SPAC1002.02</th>\n",
       "      <td>0.294818</td>\n",
       "      <td>0.409764</td>\n",
       "      <td>1.713490</td>\n",
       "      <td>1.714607</td>\n",
       "      <td>0.844587</td>\n",
       "      <td>0.423492</td>\n",
       "    </tr>\n",
       "    <tr>\n",
       "      <th>SPAC1002.03c</th>\n",
       "      <td>1.199934</td>\n",
       "      <td>1.098280</td>\n",
       "      <td>0.900738</td>\n",
       "      <td>0.933986</td>\n",
       "      <td>1.017834</td>\n",
       "      <td>0.996403</td>\n",
       "    </tr>\n",
       "    <tr>\n",
       "      <th>SPAC1002.04c</th>\n",
       "      <td>1.228882</td>\n",
       "      <td>1.183849</td>\n",
       "      <td>1.283379</td>\n",
       "      <td>1.406864</td>\n",
       "      <td>0.863794</td>\n",
       "      <td>0.997622</td>\n",
       "    </tr>\n",
       "    <tr>\n",
       "      <th>SPAC1002.07c</th>\n",
       "      <td>0.626058</td>\n",
       "      <td>0.687943</td>\n",
       "      <td>1.015540</td>\n",
       "      <td>1.316786</td>\n",
       "      <td>1.251533</td>\n",
       "      <td>1.105592</td>\n",
       "    </tr>\n",
       "  </tbody>\n",
       "</table>\n",
       "</div>"
      ],
      "text/plain": [
       "                    h0        h1        h3        h5        h7       h10\n",
       "SPAC1002.01   0.559502  0.797365  0.908648  1.149922  1.056883  1.217080\n",
       "SPAC1002.02   0.294818  0.409764  1.713490  1.714607  0.844587  0.423492\n",
       "SPAC1002.03c  1.199934  1.098280  0.900738  0.933986  1.017834  0.996403\n",
       "SPAC1002.04c  1.228882  1.183849  1.283379  1.406864  0.863794  0.997622\n",
       "SPAC1002.07c  0.626058  0.687943  1.015540  1.316786  1.251533  1.105592"
      ]
     },
     "execution_count": 103,
     "metadata": {},
     "output_type": "execute_result"
    }
   ],
   "source": [
    "# removing non existant keys in protein data\n",
    "data_prot = data_prot.loc[listname]\n",
    "print(data_prot.shape)\n",
    "data_prot.head()"
   ]
  },
  {
   "cell_type": "markdown",
   "metadata": {
    "deletable": true,
    "editable": true
   },
   "source": [
    "### c) Joining the 2 datasets"
   ]
  },
  {
   "cell_type": "markdown",
   "metadata": {
    "deletable": true,
    "editable": true
   },
   "source": [
    "Before merging the 2 datasets, we have to sort the ribo dataset in the same order than the protein one :"
   ]
  },
  {
   "cell_type": "code",
   "execution_count": 104,
   "metadata": {
    "collapsed": false,
    "deletable": true,
    "editable": true
   },
   "outputs": [
    {
     "data": {
      "text/html": [
       "<div>\n",
       "<table border=\"1\" class=\"dataframe\">\n",
       "  <thead>\n",
       "    <tr style=\"text-align: right;\">\n",
       "      <th></th>\n",
       "      <th>h0</th>\n",
       "      <th>h1</th>\n",
       "      <th>h3</th>\n",
       "      <th>h5</th>\n",
       "      <th>h7</th>\n",
       "      <th>h10</th>\n",
       "    </tr>\n",
       "  </thead>\n",
       "  <tbody>\n",
       "    <tr>\n",
       "      <th>SPAC1002.01</th>\n",
       "      <td>94.726178</td>\n",
       "      <td>43.214894</td>\n",
       "      <td>115.583562</td>\n",
       "      <td>100.703495</td>\n",
       "      <td>75.098539</td>\n",
       "      <td>7.917638</td>\n",
       "    </tr>\n",
       "    <tr>\n",
       "      <th>SPAC1002.02</th>\n",
       "      <td>111.177815</td>\n",
       "      <td>228.375045</td>\n",
       "      <td>1362.110144</td>\n",
       "      <td>69.428636</td>\n",
       "      <td>135.632005</td>\n",
       "      <td>48.754813</td>\n",
       "    </tr>\n",
       "    <tr>\n",
       "      <th>SPAC1002.03c</th>\n",
       "      <td>66.422367</td>\n",
       "      <td>25.939848</td>\n",
       "      <td>40.718125</td>\n",
       "      <td>33.354452</td>\n",
       "      <td>103.578822</td>\n",
       "      <td>15.223206</td>\n",
       "    </tr>\n",
       "    <tr>\n",
       "      <th>SPAC1002.04c</th>\n",
       "      <td>35.052994</td>\n",
       "      <td>59.509223</td>\n",
       "      <td>398.995782</td>\n",
       "      <td>88.526348</td>\n",
       "      <td>181.437065</td>\n",
       "      <td>72.384948</td>\n",
       "    </tr>\n",
       "    <tr>\n",
       "      <th>SPAC1002.07c</th>\n",
       "      <td>130.411811</td>\n",
       "      <td>85.784796</td>\n",
       "      <td>1121.422371</td>\n",
       "      <td>505.515368</td>\n",
       "      <td>23.491893</td>\n",
       "      <td>44.830133</td>\n",
       "    </tr>\n",
       "  </tbody>\n",
       "</table>\n",
       "</div>"
      ],
      "text/plain": [
       "                      h0          h1           h3          h5          h7  \\\n",
       "SPAC1002.01    94.726178   43.214894   115.583562  100.703495   75.098539   \n",
       "SPAC1002.02   111.177815  228.375045  1362.110144   69.428636  135.632005   \n",
       "SPAC1002.03c   66.422367   25.939848    40.718125   33.354452  103.578822   \n",
       "SPAC1002.04c   35.052994   59.509223   398.995782   88.526348  181.437065   \n",
       "SPAC1002.07c  130.411811   85.784796  1121.422371  505.515368   23.491893   \n",
       "\n",
       "                    h10  \n",
       "SPAC1002.01    7.917638  \n",
       "SPAC1002.02   48.754813  \n",
       "SPAC1002.03c  15.223206  \n",
       "SPAC1002.04c  72.384948  \n",
       "SPAC1002.07c  44.830133  "
      ]
     },
     "execution_count": 104,
     "metadata": {},
     "output_type": "execute_result"
    }
   ],
   "source": [
    "data_ribo = data_ribo.iloc[list(idxname)]\n",
    "data_ribo.set_index([listname.tolist()], inplace=True)\n",
    "data_ribo.head()"
   ]
  },
  {
   "cell_type": "markdown",
   "metadata": {
    "deletable": true,
    "editable": true
   },
   "source": [
    "Now, we can join the 2 datasets :"
   ]
  },
  {
   "cell_type": "code",
   "execution_count": 105,
   "metadata": {
    "collapsed": false,
    "deletable": true,
    "editable": true
   },
   "outputs": [
    {
     "name": "stdout",
     "output_type": "stream",
     "text": [
      "Size of joined data: (3236, 12)\n"
     ]
    },
    {
     "data": {
      "text/html": [
       "<div>\n",
       "<table border=\"1\" class=\"dataframe\">\n",
       "  <thead>\n",
       "    <tr>\n",
       "      <th></th>\n",
       "      <th colspan=\"6\" halign=\"left\">prot</th>\n",
       "      <th colspan=\"6\" halign=\"left\">ribo</th>\n",
       "    </tr>\n",
       "    <tr>\n",
       "      <th></th>\n",
       "      <th>h0</th>\n",
       "      <th>h1</th>\n",
       "      <th>h3</th>\n",
       "      <th>h5</th>\n",
       "      <th>h7</th>\n",
       "      <th>h10</th>\n",
       "      <th>h0</th>\n",
       "      <th>h1</th>\n",
       "      <th>h3</th>\n",
       "      <th>h5</th>\n",
       "      <th>h7</th>\n",
       "      <th>h10</th>\n",
       "    </tr>\n",
       "  </thead>\n",
       "  <tbody>\n",
       "    <tr>\n",
       "      <th>SPAC1002.01</th>\n",
       "      <td>0.559502</td>\n",
       "      <td>0.797365</td>\n",
       "      <td>0.908648</td>\n",
       "      <td>1.149922</td>\n",
       "      <td>1.056883</td>\n",
       "      <td>1.217080</td>\n",
       "      <td>94.726178</td>\n",
       "      <td>43.214894</td>\n",
       "      <td>115.583562</td>\n",
       "      <td>100.703495</td>\n",
       "      <td>75.098539</td>\n",
       "      <td>7.917638</td>\n",
       "    </tr>\n",
       "    <tr>\n",
       "      <th>SPAC1002.02</th>\n",
       "      <td>0.294818</td>\n",
       "      <td>0.409764</td>\n",
       "      <td>1.713490</td>\n",
       "      <td>1.714607</td>\n",
       "      <td>0.844587</td>\n",
       "      <td>0.423492</td>\n",
       "      <td>111.177815</td>\n",
       "      <td>228.375045</td>\n",
       "      <td>1362.110144</td>\n",
       "      <td>69.428636</td>\n",
       "      <td>135.632005</td>\n",
       "      <td>48.754813</td>\n",
       "    </tr>\n",
       "    <tr>\n",
       "      <th>SPAC1002.03c</th>\n",
       "      <td>1.199934</td>\n",
       "      <td>1.098280</td>\n",
       "      <td>0.900738</td>\n",
       "      <td>0.933986</td>\n",
       "      <td>1.017834</td>\n",
       "      <td>0.996403</td>\n",
       "      <td>66.422367</td>\n",
       "      <td>25.939848</td>\n",
       "      <td>40.718125</td>\n",
       "      <td>33.354452</td>\n",
       "      <td>103.578822</td>\n",
       "      <td>15.223206</td>\n",
       "    </tr>\n",
       "    <tr>\n",
       "      <th>SPAC1002.04c</th>\n",
       "      <td>1.228882</td>\n",
       "      <td>1.183849</td>\n",
       "      <td>1.283379</td>\n",
       "      <td>1.406864</td>\n",
       "      <td>0.863794</td>\n",
       "      <td>0.997622</td>\n",
       "      <td>35.052994</td>\n",
       "      <td>59.509223</td>\n",
       "      <td>398.995782</td>\n",
       "      <td>88.526348</td>\n",
       "      <td>181.437065</td>\n",
       "      <td>72.384948</td>\n",
       "    </tr>\n",
       "    <tr>\n",
       "      <th>SPAC1002.07c</th>\n",
       "      <td>0.626058</td>\n",
       "      <td>0.687943</td>\n",
       "      <td>1.015540</td>\n",
       "      <td>1.316786</td>\n",
       "      <td>1.251533</td>\n",
       "      <td>1.105592</td>\n",
       "      <td>130.411811</td>\n",
       "      <td>85.784796</td>\n",
       "      <td>1121.422371</td>\n",
       "      <td>505.515368</td>\n",
       "      <td>23.491893</td>\n",
       "      <td>44.830133</td>\n",
       "    </tr>\n",
       "  </tbody>\n",
       "</table>\n",
       "</div>"
      ],
      "text/plain": [
       "                  prot                                                    \\\n",
       "                    h0        h1        h3        h5        h7       h10   \n",
       "SPAC1002.01   0.559502  0.797365  0.908648  1.149922  1.056883  1.217080   \n",
       "SPAC1002.02   0.294818  0.409764  1.713490  1.714607  0.844587  0.423492   \n",
       "SPAC1002.03c  1.199934  1.098280  0.900738  0.933986  1.017834  0.996403   \n",
       "SPAC1002.04c  1.228882  1.183849  1.283379  1.406864  0.863794  0.997622   \n",
       "SPAC1002.07c  0.626058  0.687943  1.015540  1.316786  1.251533  1.105592   \n",
       "\n",
       "                    ribo                                                   \\\n",
       "                      h0          h1           h3          h5          h7   \n",
       "SPAC1002.01    94.726178   43.214894   115.583562  100.703495   75.098539   \n",
       "SPAC1002.02   111.177815  228.375045  1362.110144   69.428636  135.632005   \n",
       "SPAC1002.03c   66.422367   25.939848    40.718125   33.354452  103.578822   \n",
       "SPAC1002.04c   35.052994   59.509223   398.995782   88.526348  181.437065   \n",
       "SPAC1002.07c  130.411811   85.784796  1121.422371  505.515368   23.491893   \n",
       "\n",
       "                         \n",
       "                    h10  \n",
       "SPAC1002.01    7.917638  \n",
       "SPAC1002.02   48.754813  \n",
       "SPAC1002.03c  15.223206  \n",
       "SPAC1002.04c  72.384948  \n",
       "SPAC1002.07c  44.830133  "
      ]
     },
     "execution_count": 105,
     "metadata": {},
     "output_type": "execute_result"
    }
   ],
   "source": [
    "#We add a hierarchical column name\n",
    "data_ribo = pd.concat({\"ribo\": pd.DataFrame(data_ribo)}, axis=1)\n",
    "data_prot = pd.concat({\"prot\": pd.DataFrame(data_prot)}, axis=1)\n",
    "\n",
    "#And join\n",
    "data = data_prot.join(data_ribo)\n",
    "print('Size of joined data:', data.shape)\n",
    "data.head()"
   ]
  },
  {
   "cell_type": "markdown",
   "metadata": {},
   "source": [
    "Drop the 0 values"
   ]
  },
  {
   "cell_type": "code",
   "execution_count": 205,
   "metadata": {
    "collapsed": false
   },
   "outputs": [],
   "source": [
    "data = data.drop(data.ribo.iloc[np.where((data == 0))[0], :].index, axis=0)\n",
    "data_ribo = pd.concat({\"ribo\": pd.DataFrame(data.ribo)}, axis=1)\n",
    "data_prot = pd.concat({\"prot\": pd.DataFrame(data.prot)}, axis=1)"
   ]
  },
  {
   "cell_type": "markdown",
   "metadata": {
    "deletable": true,
    "editable": true
   },
   "source": [
    "## 4 - Data variants"
   ]
  },
  {
   "cell_type": "markdown",
   "metadata": {
    "deletable": true,
    "editable": true
   },
   "source": [
    "### a) Data in log2"
   ]
  },
  {
   "cell_type": "code",
   "execution_count": 206,
   "metadata": {
    "collapsed": false,
    "deletable": true,
    "editable": true
   },
   "outputs": [],
   "source": [
    "data_prot_log2 = np.log2(data_prot)\n",
    "data_ribo_log2 = np.log2(data_ribo)\n",
    "data_log2 = np.log2(data)"
   ]
  },
  {
   "cell_type": "markdown",
   "metadata": {
    "deletable": true,
    "editable": true
   },
   "source": [
    "### b) Data in difference of log2"
   ]
  },
  {
   "cell_type": "code",
   "execution_count": 207,
   "metadata": {
    "collapsed": true,
    "deletable": true,
    "editable": true
   },
   "outputs": [],
   "source": [
    "def create_diff_log2(df):\n",
    "    new_df = df.copy()\n",
    "    new_df = new_df.diff(axis=1)\n",
    "    new_df = new_df.drop('h0', axis=1)\n",
    "    new_df.columns = ['d'+str(k) for k in [1,3,5,7,10]]\n",
    "    \n",
    "    return new_df"
   ]
  },
  {
   "cell_type": "code",
   "execution_count": 208,
   "metadata": {
    "collapsed": false,
    "deletable": true,
    "editable": true
   },
   "outputs": [],
   "source": [
    "data_prot_geom = create_diff_log2(data_prot_log2.prot)\n",
    "data_ribo_geom = create_diff_log2(data_ribo_log2.ribo)\n",
    "\n",
    "#We add a hierarchical column name\n",
    "data_ribo_geom = pd.concat({\"ribo\": pd.DataFrame(data_ribo_geom)}, axis=1)\n",
    "data_prot_geom = pd.concat({\"prot\": pd.DataFrame(data_prot_geom)}, axis=1)\n",
    "\n",
    "#And join\n",
    "data_geom = data_prot_geom.join(data_ribo_geom)"
   ]
  },
  {
   "cell_type": "markdown",
   "metadata": {
    "deletable": true,
    "editable": true
   },
   "source": [
    "### c) Data Standardization (log2 and z-score)"
   ]
  },
  {
   "cell_type": "markdown",
   "metadata": {
    "deletable": true,
    "editable": true
   },
   "source": [
    "As we will need to cluster our data, it could be useful to standardize them.<br/>\n",
    "First of all, we define a suitable standization function :"
   ]
  },
  {
   "cell_type": "code",
   "execution_count": 209,
   "metadata": {
    "collapsed": true,
    "deletable": true,
    "editable": true
   },
   "outputs": [],
   "source": [
    "def standardize_by_row(df):\n",
    "    mean_rows = df.mean(axis=1)\n",
    "    std_rows = df.std(axis=1)\n",
    "    \n",
    "    df = df.sub(mean_rows, axis=0)\n",
    "    df = df.div(std_rows, axis=0)\n",
    "\n",
    "    return df"
   ]
  },
  {
   "cell_type": "markdown",
   "metadata": {
    "deletable": true,
    "editable": true
   },
   "source": [
    "We standardize the 10 measures of each ribo and proteins independently :"
   ]
  },
  {
   "cell_type": "code",
   "execution_count": 210,
   "metadata": {
    "collapsed": false,
    "deletable": true,
    "editable": true,
    "scrolled": true
   },
   "outputs": [],
   "source": [
    "data_prot_norm = standardize_by_row(data_prot_log2)\n",
    "data_ribo_norm = standardize_by_row(data_ribo_log2)"
   ]
  },
  {
   "cell_type": "markdown",
   "metadata": {
    "deletable": true,
    "editable": true
   },
   "source": [
    "And finally join the standardized datasets :"
   ]
  },
  {
   "cell_type": "code",
   "execution_count": 211,
   "metadata": {
    "collapsed": false,
    "deletable": true,
    "editable": true
   },
   "outputs": [],
   "source": [
    "data_norm = data_prot_norm.join(data_ribo_norm)"
   ]
  },
  {
   "cell_type": "markdown",
   "metadata": {
    "deletable": true,
    "editable": true
   },
   "source": [
    "### Saving datasets"
   ]
  },
  {
   "cell_type": "code",
   "execution_count": 212,
   "metadata": {
    "collapsed": false,
    "deletable": true,
    "editable": true
   },
   "outputs": [],
   "source": [
    "# Unstandardized data\n",
    "data_prot.to_csv('data2/data_prot.csv')\n",
    "data_ribo.to_csv('data2/data_ribo.csv')\n",
    "data.to_csv('data2/data.csv')\n",
    "\n",
    "# Standardized data\n",
    "data_prot_norm.to_csv('data2/data_prot_log2_zscore.csv')\n",
    "data_ribo_norm.to_csv('data2/data_ribo_log2_zscore.csv')\n",
    "data_norm.to_csv('data2/data_log2_zscore.csv')\n",
    "\n",
    "# Log2 data\n",
    "data_prot_log2.to_csv('data2/data_prot_log2.csv')\n",
    "data_ribo_log2.to_csv('data2/data_ribo_log2.csv')\n",
    "data_log2.to_csv('data2/data_log2.csv')\n",
    "\n",
    "# Diff Log2 data\n",
    "data_prot_geom.to_csv('data2/data_prot_diff_log2.csv')\n",
    "data_ribo_geom.to_csv('data2/data_ribo_diff_log2.csv')\n",
    "data_geom.to_csv('data2/data_diff_log2.csv')"
   ]
  },
  {
   "cell_type": "code",
   "execution_count": null,
   "metadata": {
    "collapsed": true,
    "deletable": true,
    "editable": true
   },
   "outputs": [],
   "source": []
  }
 ],
 "metadata": {
  "anaconda-cloud": {},
  "kernelspec": {
   "display_name": "Python 3",
   "language": "python",
   "name": "python3"
  },
  "language_info": {
   "codemirror_mode": {
    "name": "ipython",
    "version": 3
   },
   "file_extension": ".py",
   "mimetype": "text/x-python",
   "name": "python",
   "nbconvert_exporter": "python",
   "pygments_lexer": "ipython3",
   "version": "3.5.3"
  }
 },
 "nbformat": 4,
 "nbformat_minor": 1
}
