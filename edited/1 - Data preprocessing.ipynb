{
 "cells": [
  {
   "cell_type": "code",
   "execution_count": 1,
   "metadata": {
    "collapsed": false,
    "deletable": true,
    "editable": true
   },
   "outputs": [],
   "source": [
    "%matplotlib inline\n",
    "import pandas as pd\n",
    "import numpy as np\n",
    "\n",
    "import matplotlib.pyplot as plt\n",
    "import matplotlib.patches as mpatches\n",
    "plt.style.use('ggplot')\n",
    "\n",
    "%load_ext autoreload\n",
    "%autoreload 2"
   ]
  },
  {
   "cell_type": "markdown",
   "metadata": {
    "deletable": true,
    "editable": true
   },
   "source": [
    "# Data Preprocessing"
   ]
  },
  {
   "cell_type": "markdown",
   "metadata": {
    "deletable": true,
    "editable": true
   },
   "source": [
    "In this first part, we will process our two datasets :\n",
    "- The first one is related to the **mRNA**, provided by the *Bälherlab (ULC)*.\n",
    "- The second one is related to the **proteins**, provided by the *Sismanis-lab (EPFL)*."
   ]
  },
  {
   "cell_type": "markdown",
   "metadata": {
    "deletable": true,
    "editable": true
   },
   "source": [
    "We want to merge these 2 dataset into a coherent one, before further studies. We will proceed in 3 parts :\n",
    "+ First we will describe our datasets;\n",
    "+ Then we will process them independently;\n",
    "+ Finally we will merge them."
   ]
  },
  {
   "cell_type": "markdown",
   "metadata": {
    "deletable": true,
    "editable": true
   },
   "source": [
    "## 0 - Loading data"
   ]
  },
  {
   "cell_type": "code",
   "execution_count": 2,
   "metadata": {
    "collapsed": true,
    "deletable": true,
    "editable": true
   },
   "outputs": [],
   "source": [
    "# set data path\n",
    "path_data_prot = \"data/ratiowt.csv\"\n",
    "path_data_mRNA = \"data/pat1_average_modified.txt\"\n",
    "\n",
    "# read data from files\n",
    "raw_data_prot = pd.read_csv(path_data_prot, index_col=0)\n",
    "raw_data_mRNA = pd.read_csv(path_data_mRNA, sep='\\t', header=None)"
   ]
  },
  {
   "cell_type": "markdown",
   "metadata": {
    "deletable": true,
    "editable": true
   },
   "source": [
    "## 1 - Datasets description"
   ]
  },
  {
   "cell_type": "markdown",
   "metadata": {
    "deletable": true,
    "editable": true
   },
   "source": [
    "### a) Proteins data"
   ]
  },
  {
   "cell_type": "code",
   "execution_count": 3,
   "metadata": {
    "collapsed": false,
    "deletable": true,
    "editable": true
   },
   "outputs": [
    {
     "name": "stdout",
     "output_type": "stream",
     "text": [
      "(3281, 33)\n"
     ]
    },
    {
     "data": {
      "text/html": [
       "<div>\n",
       "<table border=\"1\" class=\"dataframe\">\n",
       "  <thead>\n",
       "    <tr style=\"text-align: right;\">\n",
       "      <th></th>\n",
       "      <th>WT4_T00</th>\n",
       "      <th>WT4_T01</th>\n",
       "      <th>WT4_T02</th>\n",
       "      <th>WT4_T03</th>\n",
       "      <th>WT4_T04</th>\n",
       "      <th>WT4_T05</th>\n",
       "      <th>WT4_T06</th>\n",
       "      <th>WT4_T07</th>\n",
       "      <th>WT4_T08</th>\n",
       "      <th>WT4_T09</th>\n",
       "      <th>...</th>\n",
       "      <th>WT7_T01</th>\n",
       "      <th>WT7_T02</th>\n",
       "      <th>WT7_T03</th>\n",
       "      <th>WT7_T04</th>\n",
       "      <th>WT7_T05</th>\n",
       "      <th>WT7_T06</th>\n",
       "      <th>WT7_T07</th>\n",
       "      <th>WT7_T08</th>\n",
       "      <th>WT7_T09</th>\n",
       "      <th>WT7_T10</th>\n",
       "    </tr>\n",
       "  </thead>\n",
       "  <tbody>\n",
       "    <tr>\n",
       "      <th>CON__P00761</th>\n",
       "      <td>13.150281</td>\n",
       "      <td>9.407338</td>\n",
       "      <td>24.657872</td>\n",
       "      <td>10.264727</td>\n",
       "      <td>15.709685</td>\n",
       "      <td>28.330217</td>\n",
       "      <td>15.511812</td>\n",
       "      <td>9.484966</td>\n",
       "      <td>22.430577</td>\n",
       "      <td>7.535227</td>\n",
       "      <td>...</td>\n",
       "      <td>23.298076</td>\n",
       "      <td>111.804298</td>\n",
       "      <td>70.269131</td>\n",
       "      <td>46.431722</td>\n",
       "      <td>71.108583</td>\n",
       "      <td>59.157596</td>\n",
       "      <td>67.168189</td>\n",
       "      <td>18.576311</td>\n",
       "      <td>10.721906</td>\n",
       "      <td>30.374825</td>\n",
       "    </tr>\n",
       "    <tr>\n",
       "      <th>CON__P04264</th>\n",
       "      <td>5.610728</td>\n",
       "      <td>8.141996</td>\n",
       "      <td>11.312985</td>\n",
       "      <td>7.446016</td>\n",
       "      <td>4.232088</td>\n",
       "      <td>8.690362</td>\n",
       "      <td>5.367110</td>\n",
       "      <td>6.333122</td>\n",
       "      <td>3.213471</td>\n",
       "      <td>4.681867</td>\n",
       "      <td>...</td>\n",
       "      <td>7.684033</td>\n",
       "      <td>7.000350</td>\n",
       "      <td>5.529750</td>\n",
       "      <td>3.083089</td>\n",
       "      <td>5.549082</td>\n",
       "      <td>8.059966</td>\n",
       "      <td>4.581272</td>\n",
       "      <td>2.864099</td>\n",
       "      <td>6.615507</td>\n",
       "      <td>2.820079</td>\n",
       "    </tr>\n",
       "    <tr>\n",
       "      <th>CON__P13645</th>\n",
       "      <td>3.163556</td>\n",
       "      <td>3.937628</td>\n",
       "      <td>7.504690</td>\n",
       "      <td>3.456978</td>\n",
       "      <td>6.605892</td>\n",
       "      <td>1.881963</td>\n",
       "      <td>0.889442</td>\n",
       "      <td>6.892749</td>\n",
       "      <td>0.561703</td>\n",
       "      <td>1.760192</td>\n",
       "      <td>...</td>\n",
       "      <td>7.459903</td>\n",
       "      <td>10.434928</td>\n",
       "      <td>7.730365</td>\n",
       "      <td>5.783356</td>\n",
       "      <td>16.064515</td>\n",
       "      <td>4.615527</td>\n",
       "      <td>2.237787</td>\n",
       "      <td>8.932559</td>\n",
       "      <td>6.195019</td>\n",
       "      <td>7.190623</td>\n",
       "    </tr>\n",
       "    <tr>\n",
       "      <th>CON__P15636</th>\n",
       "      <td>20.156007</td>\n",
       "      <td>6.966699</td>\n",
       "      <td>4.828119</td>\n",
       "      <td>13.614333</td>\n",
       "      <td>16.808700</td>\n",
       "      <td>9.455371</td>\n",
       "      <td>12.878798</td>\n",
       "      <td>21.559158</td>\n",
       "      <td>14.028197</td>\n",
       "      <td>7.663422</td>\n",
       "      <td>...</td>\n",
       "      <td>10.987683</td>\n",
       "      <td>7.503564</td>\n",
       "      <td>5.772006</td>\n",
       "      <td>17.601295</td>\n",
       "      <td>9.832842</td>\n",
       "      <td>24.968789</td>\n",
       "      <td>9.896091</td>\n",
       "      <td>17.334928</td>\n",
       "      <td>22.422027</td>\n",
       "      <td>24.981888</td>\n",
       "    </tr>\n",
       "    <tr>\n",
       "      <th>CON__P35527</th>\n",
       "      <td>6.656903</td>\n",
       "      <td>3.573726</td>\n",
       "      <td>3.286339</td>\n",
       "      <td>3.203588</td>\n",
       "      <td>1.679995</td>\n",
       "      <td>1.941107</td>\n",
       "      <td>2.872820</td>\n",
       "      <td>3.753331</td>\n",
       "      <td>4.186027</td>\n",
       "      <td>2.490412</td>\n",
       "      <td>...</td>\n",
       "      <td>2.876456</td>\n",
       "      <td>0.330950</td>\n",
       "      <td>0.935541</td>\n",
       "      <td>3.802426</td>\n",
       "      <td>3.579611</td>\n",
       "      <td>10.761714</td>\n",
       "      <td>4.365478</td>\n",
       "      <td>1.076577</td>\n",
       "      <td>5.539552</td>\n",
       "      <td>3.279979</td>\n",
       "    </tr>\n",
       "  </tbody>\n",
       "</table>\n",
       "<p>5 rows × 33 columns</p>\n",
       "</div>"
      ],
      "text/plain": [
       "               WT4_T00   WT4_T01    WT4_T02    WT4_T03    WT4_T04    WT4_T05  \\\n",
       "CON__P00761  13.150281  9.407338  24.657872  10.264727  15.709685  28.330217   \n",
       "CON__P04264   5.610728  8.141996  11.312985   7.446016   4.232088   8.690362   \n",
       "CON__P13645   3.163556  3.937628   7.504690   3.456978   6.605892   1.881963   \n",
       "CON__P15636  20.156007  6.966699   4.828119  13.614333  16.808700   9.455371   \n",
       "CON__P35527   6.656903  3.573726   3.286339   3.203588   1.679995   1.941107   \n",
       "\n",
       "               WT4_T06    WT4_T07    WT4_T08   WT4_T09    ...        WT7_T01  \\\n",
       "CON__P00761  15.511812   9.484966  22.430577  7.535227    ...      23.298076   \n",
       "CON__P04264   5.367110   6.333122   3.213471  4.681867    ...       7.684033   \n",
       "CON__P13645   0.889442   6.892749   0.561703  1.760192    ...       7.459903   \n",
       "CON__P15636  12.878798  21.559158  14.028197  7.663422    ...      10.987683   \n",
       "CON__P35527   2.872820   3.753331   4.186027  2.490412    ...       2.876456   \n",
       "\n",
       "                WT7_T02    WT7_T03    WT7_T04    WT7_T05    WT7_T06  \\\n",
       "CON__P00761  111.804298  70.269131  46.431722  71.108583  59.157596   \n",
       "CON__P04264    7.000350   5.529750   3.083089   5.549082   8.059966   \n",
       "CON__P13645   10.434928   7.730365   5.783356  16.064515   4.615527   \n",
       "CON__P15636    7.503564   5.772006  17.601295   9.832842  24.968789   \n",
       "CON__P35527    0.330950   0.935541   3.802426   3.579611  10.761714   \n",
       "\n",
       "               WT7_T07    WT7_T08    WT7_T09    WT7_T10  \n",
       "CON__P00761  67.168189  18.576311  10.721906  30.374825  \n",
       "CON__P04264   4.581272   2.864099   6.615507   2.820079  \n",
       "CON__P13645   2.237787   8.932559   6.195019   7.190623  \n",
       "CON__P15636   9.896091  17.334928  22.422027  24.981888  \n",
       "CON__P35527   4.365478   1.076577   5.539552   3.279979  \n",
       "\n",
       "[5 rows x 33 columns]"
      ]
     },
     "execution_count": 3,
     "metadata": {},
     "output_type": "execute_result"
    }
   ],
   "source": [
    "# preview of the raw protein data\n",
    "print(raw_data_prot.shape)\n",
    "raw_data_prot.head()"
   ]
  },
  {
   "cell_type": "markdown",
   "metadata": {
    "deletable": true,
    "editable": true
   },
   "source": [
    "- The dataset counts **2969 proteins**. <br/>\n",
    "- For each protein, a relative concentration is measured for **11 time points** in **triplicate** (the 10 time points have been measured in 3 independent experiments).<br/>\n",
    "- These 11 concentrations are measured for 0h, 1h, 2h, 3h, 4h, 5h, 6h, 7h, 8h, 9h, 10h.<br/>\n",
    "- The 3 measures can differ (sometimes a lot in terms of order of magnitude), but the concentration's evolution seems to be the same (Averaged Pearson correlation coefficient = **0.8** between each measures A, B, C)."
   ]
  },
  {
   "cell_type": "markdown",
   "metadata": {
    "deletable": true,
    "editable": true
   },
   "source": [
    "### b) mRNA data"
   ]
  },
  {
   "cell_type": "code",
   "execution_count": 4,
   "metadata": {
    "collapsed": false,
    "deletable": true,
    "editable": true
   },
   "outputs": [
    {
     "name": "stdout",
     "output_type": "stream",
     "text": [
      "(5113, 15)\n"
     ]
    },
    {
     "data": {
      "text/html": [
       "<div>\n",
       "<table border=\"1\" class=\"dataframe\">\n",
       "  <thead>\n",
       "    <tr style=\"text-align: right;\">\n",
       "      <th></th>\n",
       "      <th>0</th>\n",
       "      <th>1</th>\n",
       "      <th>2</th>\n",
       "      <th>3</th>\n",
       "      <th>4</th>\n",
       "      <th>5</th>\n",
       "      <th>6</th>\n",
       "      <th>7</th>\n",
       "      <th>8</th>\n",
       "      <th>9</th>\n",
       "      <th>10</th>\n",
       "      <th>11</th>\n",
       "      <th>12</th>\n",
       "      <th>13</th>\n",
       "      <th>14</th>\n",
       "    </tr>\n",
       "  </thead>\n",
       "  <tbody>\n",
       "    <tr>\n",
       "      <th>0</th>\n",
       "      <td>aap1</td>\n",
       "      <td>AAP1</td>\n",
       "      <td>SPBC1652.02 SPBC16A3.20C</td>\n",
       "      <td>1.0</td>\n",
       "      <td>22.703531</td>\n",
       "      <td>0.960360</td>\n",
       "      <td>0.544460</td>\n",
       "      <td>0.896232</td>\n",
       "      <td>1.160251</td>\n",
       "      <td>1.252143</td>\n",
       "      <td>2.309153</td>\n",
       "      <td>2.310750</td>\n",
       "      <td>2.449327</td>\n",
       "      <td>2.706837</td>\n",
       "      <td>3.064384</td>\n",
       "    </tr>\n",
       "    <tr>\n",
       "      <th>1</th>\n",
       "      <td>abc1: C2D10.18</td>\n",
       "      <td>ABC1</td>\n",
       "      <td>SPBC2D10.18</td>\n",
       "      <td>1.0</td>\n",
       "      <td>1.043491</td>\n",
       "      <td>0.622283</td>\n",
       "      <td>0.663191</td>\n",
       "      <td>0.619409</td>\n",
       "      <td>0.648403</td>\n",
       "      <td>0.662236</td>\n",
       "      <td>0.655953</td>\n",
       "      <td>0.580761</td>\n",
       "      <td>0.606205</td>\n",
       "      <td>0.752322</td>\n",
       "      <td>0.798264</td>\n",
       "    </tr>\n",
       "    <tr>\n",
       "      <th>2</th>\n",
       "      <td>abc1: C9E9.12c</td>\n",
       "      <td>ABC1</td>\n",
       "      <td>SPAC9E9.12C</td>\n",
       "      <td>1.0</td>\n",
       "      <td>2.112546</td>\n",
       "      <td>0.906822</td>\n",
       "      <td>0.565746</td>\n",
       "      <td>0.535220</td>\n",
       "      <td>1.224398</td>\n",
       "      <td>10.170195</td>\n",
       "      <td>7.380023</td>\n",
       "      <td>4.455168</td>\n",
       "      <td>2.804587</td>\n",
       "      <td>1.657471</td>\n",
       "      <td>1.310630</td>\n",
       "    </tr>\n",
       "    <tr>\n",
       "      <th>3</th>\n",
       "      <td>abp1</td>\n",
       "      <td>CBP1 ABP1</td>\n",
       "      <td>SPBC1105.04C</td>\n",
       "      <td>1.0</td>\n",
       "      <td>1.351277</td>\n",
       "      <td>0.884985</td>\n",
       "      <td>0.705397</td>\n",
       "      <td>0.401055</td>\n",
       "      <td>0.202862</td>\n",
       "      <td>0.175360</td>\n",
       "      <td>0.829920</td>\n",
       "      <td>0.959749</td>\n",
       "      <td>1.121036</td>\n",
       "      <td>1.122949</td>\n",
       "      <td>1.103435</td>\n",
       "    </tr>\n",
       "    <tr>\n",
       "      <th>4</th>\n",
       "      <td>abp2</td>\n",
       "      <td>ABP2</td>\n",
       "      <td>SPBC1861.02</td>\n",
       "      <td>1.0</td>\n",
       "      <td>0.816301</td>\n",
       "      <td>1.969788</td>\n",
       "      <td>1.736116</td>\n",
       "      <td>1.057102</td>\n",
       "      <td>0.494822</td>\n",
       "      <td>0.372226</td>\n",
       "      <td>0.533438</td>\n",
       "      <td>0.851486</td>\n",
       "      <td>0.989702</td>\n",
       "      <td>1.115665</td>\n",
       "      <td>1.159631</td>\n",
       "    </tr>\n",
       "  </tbody>\n",
       "</table>\n",
       "</div>"
      ],
      "text/plain": [
       "               0          1                         2    3          4   \\\n",
       "0            aap1       AAP1  SPBC1652.02 SPBC16A3.20C  1.0  22.703531   \n",
       "1  abc1: C2D10.18       ABC1               SPBC2D10.18  1.0   1.043491   \n",
       "2  abc1: C9E9.12c       ABC1               SPAC9E9.12C  1.0   2.112546   \n",
       "3            abp1  CBP1 ABP1              SPBC1105.04C  1.0   1.351277   \n",
       "4            abp2       ABP2               SPBC1861.02  1.0   0.816301   \n",
       "\n",
       "         5         6         7         8          9         10        11  \\\n",
       "0  0.960360  0.544460  0.896232  1.160251   1.252143  2.309153  2.310750   \n",
       "1  0.622283  0.663191  0.619409  0.648403   0.662236  0.655953  0.580761   \n",
       "2  0.906822  0.565746  0.535220  1.224398  10.170195  7.380023  4.455168   \n",
       "3  0.884985  0.705397  0.401055  0.202862   0.175360  0.829920  0.959749   \n",
       "4  1.969788  1.736116  1.057102  0.494822   0.372226  0.533438  0.851486   \n",
       "\n",
       "         12        13        14  \n",
       "0  2.449327  2.706837  3.064384  \n",
       "1  0.606205  0.752322  0.798264  \n",
       "2  2.804587  1.657471  1.310630  \n",
       "3  1.121036  1.122949  1.103435  \n",
       "4  0.989702  1.115665  1.159631  "
      ]
     },
     "execution_count": 4,
     "metadata": {},
     "output_type": "execute_result"
    }
   ],
   "source": [
    "# preview of the raw mRNA data\n",
    "print(raw_data_mRNA.shape)\n",
    "raw_data_mRNA.head()"
   ]
  },
  {
   "cell_type": "markdown",
   "metadata": {
    "deletable": true,
    "editable": true
   },
   "source": [
    "- The data from the Bählerlab (ULC) is a table of measures for **5121 mRNAs**.<br/>\n",
    "- For each mRNA a relative concentration is measured for **11 time points** (12 with t0, in which we are not so interested in). These relative concentrations are an **average** of 4 independent experiments.<br/>\n",
    "- These 11 concentrations are measured for 0h, 1h, 2h, 3h, 4h, 5h, 6h, 7h, 8h, 10h, 12h<br/>\n",
    "- As in the protein's dataset, most values are located between 1 and 2, but some values can be about several hundreds.<br/>\n",
    "- The first 3 columns are respectively : the primer name, the common name and the systematic name of the mRNA. Only the systematic name corresponds to the name given in our first dataset."
   ]
  },
  {
   "cell_type": "markdown",
   "metadata": {
    "deletable": true,
    "editable": true
   },
   "source": [
    "For both datasets, **t0** is used as a ratio (thus, always equal to 1). In the proteins dataset, it is the time point at 0h (vegetative state), and in the mRNA dataset, it expresses another ratio, independent from time."
   ]
  },
  {
   "cell_type": "markdown",
   "metadata": {
    "deletable": true,
    "editable": true
   },
   "source": [
    "## 2 - Datasets preprocessing"
   ]
  },
  {
   "cell_type": "markdown",
   "metadata": {
    "deletable": true,
    "editable": true
   },
   "source": [
    "### a) Proteins data"
   ]
  },
  {
   "cell_type": "markdown",
   "metadata": {
    "deletable": true,
    "editable": true
   },
   "source": [
    "Our first preprocessing consists in averaging the triplicates at each time point. <br/>\n",
    "Indead, it would be more simple to compute corralation between mRNA et proteins concentrations if we have a single value at each time point."
   ]
  },
  {
   "cell_type": "code",
   "execution_count": 5,
   "metadata": {
    "collapsed": false,
    "deletable": true,
    "editable": true
   },
   "outputs": [],
   "source": [
    "# split protein data into 3 sets\n",
    "data_prot_A = pd.DataFrame(raw_data_prot.ix[:,0:11].values)\n",
    "data_prot_B = pd.DataFrame(raw_data_prot.ix[:,11:22].values)\n",
    "data_prot_C = pd.DataFrame(raw_data_prot.ix[:,22:33].values)\n",
    "\n",
    "# compute average of the 3 data sets\n",
    "data_prot = (data_prot_A + data_prot_B + data_prot_C).copy()/3.0"
   ]
  },
  {
   "cell_type": "markdown",
   "metadata": {
    "deletable": true,
    "editable": true
   },
   "source": [
    "In order to get measures at the same time points in both datasets, we remove the 9th measure (= 9h, absent from the mRNA dataset)."
   ]
  },
  {
   "cell_type": "code",
   "execution_count": 6,
   "metadata": {
    "collapsed": true,
    "deletable": true,
    "editable": true
   },
   "outputs": [],
   "source": [
    "data_prot = data_prot.drop(9, axis=1)"
   ]
  },
  {
   "cell_type": "markdown",
   "metadata": {
    "deletable": true,
    "editable": true
   },
   "source": [
    "Finally, we choose to use the protein's name as index, and name the features as the time of the measurement."
   ]
  },
  {
   "cell_type": "code",
   "execution_count": 7,
   "metadata": {
    "collapsed": false,
    "deletable": true,
    "editable": true
   },
   "outputs": [
    {
     "name": "stdout",
     "output_type": "stream",
     "text": [
      "(3281, 10)\n"
     ]
    },
    {
     "data": {
      "text/html": [
       "<div>\n",
       "<table border=\"1\" class=\"dataframe\">\n",
       "  <thead>\n",
       "    <tr style=\"text-align: right;\">\n",
       "      <th></th>\n",
       "      <th>h0</th>\n",
       "      <th>h1</th>\n",
       "      <th>h2</th>\n",
       "      <th>h3</th>\n",
       "      <th>h4</th>\n",
       "      <th>h5</th>\n",
       "      <th>h6</th>\n",
       "      <th>h7</th>\n",
       "      <th>h8</th>\n",
       "      <th>h10</th>\n",
       "    </tr>\n",
       "  </thead>\n",
       "  <tbody>\n",
       "    <tr>\n",
       "      <th>CON__P00761</th>\n",
       "      <td>62.703297</td>\n",
       "      <td>14.396267</td>\n",
       "      <td>57.974591</td>\n",
       "      <td>34.796653</td>\n",
       "      <td>24.998953</td>\n",
       "      <td>38.255215</td>\n",
       "      <td>37.618279</td>\n",
       "      <td>43.786914</td>\n",
       "      <td>42.088550</td>\n",
       "      <td>29.969380</td>\n",
       "    </tr>\n",
       "    <tr>\n",
       "      <th>CON__P04264</th>\n",
       "      <td>6.844208</td>\n",
       "      <td>7.315701</td>\n",
       "      <td>9.009564</td>\n",
       "      <td>7.077574</td>\n",
       "      <td>3.472497</td>\n",
       "      <td>6.154198</td>\n",
       "      <td>6.188080</td>\n",
       "      <td>5.591905</td>\n",
       "      <td>4.698724</td>\n",
       "      <td>6.585900</td>\n",
       "    </tr>\n",
       "    <tr>\n",
       "      <th>CON__P13645</th>\n",
       "      <td>5.565627</td>\n",
       "      <td>7.004613</td>\n",
       "      <td>9.074602</td>\n",
       "      <td>3.964237</td>\n",
       "      <td>5.710277</td>\n",
       "      <td>7.828472</td>\n",
       "      <td>3.950720</td>\n",
       "      <td>4.175028</td>\n",
       "      <td>4.711544</td>\n",
       "      <td>5.982843</td>\n",
       "    </tr>\n",
       "    <tr>\n",
       "      <th>CON__P15636</th>\n",
       "      <td>13.634706</td>\n",
       "      <td>9.466882</td>\n",
       "      <td>7.693673</td>\n",
       "      <td>9.907490</td>\n",
       "      <td>15.262446</td>\n",
       "      <td>11.852809</td>\n",
       "      <td>16.447941</td>\n",
       "      <td>14.847343</td>\n",
       "      <td>13.920279</td>\n",
       "      <td>16.075755</td>\n",
       "    </tr>\n",
       "    <tr>\n",
       "      <th>CON__P35527</th>\n",
       "      <td>6.987298</td>\n",
       "      <td>4.176773</td>\n",
       "      <td>3.488868</td>\n",
       "      <td>2.505684</td>\n",
       "      <td>4.240135</td>\n",
       "      <td>2.966327</td>\n",
       "      <td>5.963164</td>\n",
       "      <td>3.154968</td>\n",
       "      <td>2.449152</td>\n",
       "      <td>4.038704</td>\n",
       "    </tr>\n",
       "  </tbody>\n",
       "</table>\n",
       "</div>"
      ],
      "text/plain": [
       "                    h0         h1         h2         h3         h4         h5  \\\n",
       "CON__P00761  62.703297  14.396267  57.974591  34.796653  24.998953  38.255215   \n",
       "CON__P04264   6.844208   7.315701   9.009564   7.077574   3.472497   6.154198   \n",
       "CON__P13645   5.565627   7.004613   9.074602   3.964237   5.710277   7.828472   \n",
       "CON__P15636  13.634706   9.466882   7.693673   9.907490  15.262446  11.852809   \n",
       "CON__P35527   6.987298   4.176773   3.488868   2.505684   4.240135   2.966327   \n",
       "\n",
       "                    h6         h7         h8        h10  \n",
       "CON__P00761  37.618279  43.786914  42.088550  29.969380  \n",
       "CON__P04264   6.188080   5.591905   4.698724   6.585900  \n",
       "CON__P13645   3.950720   4.175028   4.711544   5.982843  \n",
       "CON__P15636  16.447941  14.847343  13.920279  16.075755  \n",
       "CON__P35527   5.963164   3.154968   2.449152   4.038704  "
      ]
     },
     "execution_count": 7,
     "metadata": {},
     "output_type": "execute_result"
    }
   ],
   "source": [
    "# set columns and rows indexes\n",
    "data_prot.columns = ['h'+str(k) for k in range(0,11) if k != 9]\n",
    "data_prot.index = raw_data_prot.index\n",
    "\n",
    "# show begining of dataframe\n",
    "print(data_prot.shape)\n",
    "data_prot.head()"
   ]
  },
  {
   "cell_type": "markdown",
   "metadata": {
    "deletable": true,
    "editable": true
   },
   "source": [
    "### b) mRNA data"
   ]
  },
  {
   "cell_type": "markdown",
   "metadata": {
    "deletable": true,
    "editable": true
   },
   "source": [
    "First of all, we remove the first 2 columns (the primer name and the common name) in which we are not interested."
   ]
  },
  {
   "cell_type": "code",
   "execution_count": 8,
   "metadata": {
    "collapsed": true,
    "deletable": true,
    "editable": true
   },
   "outputs": [],
   "source": [
    "# remove first 2 columns\n",
    "data_mRNA = raw_data_mRNA.drop([0,1], axis=1).copy()"
   ]
  },
  {
   "cell_type": "markdown",
   "metadata": {
    "deletable": true,
    "editable": true
   },
   "source": [
    "In order to get measures at the same time points in both datasets, we also remove t0 (which is meaningless for us) and t11 (=12h, which is missing in the proteins dataset)."
   ]
  },
  {
   "cell_type": "code",
   "execution_count": 9,
   "metadata": {
    "collapsed": true,
    "deletable": true,
    "editable": true
   },
   "outputs": [],
   "source": [
    "data_mRNA = data_mRNA.drop([3,14], axis=1)"
   ]
  },
  {
   "cell_type": "markdown",
   "metadata": {
    "deletable": true,
    "editable": true
   },
   "source": [
    "The remaining dataset counts 2434 missing values, involving 327 NaN entries. We chose to drop them :"
   ]
  },
  {
   "cell_type": "code",
   "execution_count": 10,
   "metadata": {
    "collapsed": true,
    "deletable": true,
    "editable": true
   },
   "outputs": [],
   "source": [
    "data_mRNA.dropna(how='any', inplace=True)"
   ]
  },
  {
   "cell_type": "markdown",
   "metadata": {
    "deletable": true,
    "editable": true
   },
   "source": [
    "Finally, as for the protein's dataset, we use the name as index and timing as columns.<br/>\n",
    "Notice that some names are duplicates."
   ]
  },
  {
   "cell_type": "code",
   "execution_count": 11,
   "metadata": {
    "collapsed": false,
    "deletable": true,
    "editable": true
   },
   "outputs": [
    {
     "name": "stdout",
     "output_type": "stream",
     "text": [
      "(4786, 10)\n"
     ]
    },
    {
     "data": {
      "text/html": [
       "<div>\n",
       "<table border=\"1\" class=\"dataframe\">\n",
       "  <thead>\n",
       "    <tr style=\"text-align: right;\">\n",
       "      <th></th>\n",
       "      <th>h0</th>\n",
       "      <th>h1</th>\n",
       "      <th>h2</th>\n",
       "      <th>h3</th>\n",
       "      <th>h4</th>\n",
       "      <th>h5</th>\n",
       "      <th>h6</th>\n",
       "      <th>h7</th>\n",
       "      <th>h8</th>\n",
       "      <th>h10</th>\n",
       "    </tr>\n",
       "  </thead>\n",
       "  <tbody>\n",
       "    <tr>\n",
       "      <th>SPBC1652.02 SPBC16A3.20C</th>\n",
       "      <td>22.703531</td>\n",
       "      <td>0.960360</td>\n",
       "      <td>0.544460</td>\n",
       "      <td>0.896232</td>\n",
       "      <td>1.160251</td>\n",
       "      <td>1.252143</td>\n",
       "      <td>2.309153</td>\n",
       "      <td>2.310750</td>\n",
       "      <td>2.449327</td>\n",
       "      <td>2.706837</td>\n",
       "    </tr>\n",
       "    <tr>\n",
       "      <th>SPBC2D10.18</th>\n",
       "      <td>1.043491</td>\n",
       "      <td>0.622283</td>\n",
       "      <td>0.663191</td>\n",
       "      <td>0.619409</td>\n",
       "      <td>0.648403</td>\n",
       "      <td>0.662236</td>\n",
       "      <td>0.655953</td>\n",
       "      <td>0.580761</td>\n",
       "      <td>0.606205</td>\n",
       "      <td>0.752322</td>\n",
       "    </tr>\n",
       "    <tr>\n",
       "      <th>SPAC9E9.12C</th>\n",
       "      <td>2.112546</td>\n",
       "      <td>0.906822</td>\n",
       "      <td>0.565746</td>\n",
       "      <td>0.535220</td>\n",
       "      <td>1.224398</td>\n",
       "      <td>10.170195</td>\n",
       "      <td>7.380023</td>\n",
       "      <td>4.455168</td>\n",
       "      <td>2.804587</td>\n",
       "      <td>1.657471</td>\n",
       "    </tr>\n",
       "    <tr>\n",
       "      <th>SPBC1105.04C</th>\n",
       "      <td>1.351277</td>\n",
       "      <td>0.884985</td>\n",
       "      <td>0.705397</td>\n",
       "      <td>0.401055</td>\n",
       "      <td>0.202862</td>\n",
       "      <td>0.175360</td>\n",
       "      <td>0.829920</td>\n",
       "      <td>0.959749</td>\n",
       "      <td>1.121036</td>\n",
       "      <td>1.122949</td>\n",
       "    </tr>\n",
       "    <tr>\n",
       "      <th>SPBC1861.02</th>\n",
       "      <td>0.816301</td>\n",
       "      <td>1.969788</td>\n",
       "      <td>1.736116</td>\n",
       "      <td>1.057102</td>\n",
       "      <td>0.494822</td>\n",
       "      <td>0.372226</td>\n",
       "      <td>0.533438</td>\n",
       "      <td>0.851486</td>\n",
       "      <td>0.989702</td>\n",
       "      <td>1.115665</td>\n",
       "    </tr>\n",
       "  </tbody>\n",
       "</table>\n",
       "</div>"
      ],
      "text/plain": [
       "                                 h0        h1        h2        h3        h4  \\\n",
       "SPBC1652.02 SPBC16A3.20C  22.703531  0.960360  0.544460  0.896232  1.160251   \n",
       "SPBC2D10.18                1.043491  0.622283  0.663191  0.619409  0.648403   \n",
       "SPAC9E9.12C                2.112546  0.906822  0.565746  0.535220  1.224398   \n",
       "SPBC1105.04C               1.351277  0.884985  0.705397  0.401055  0.202862   \n",
       "SPBC1861.02                0.816301  1.969788  1.736116  1.057102  0.494822   \n",
       "\n",
       "                                 h5        h6        h7        h8       h10  \n",
       "SPBC1652.02 SPBC16A3.20C   1.252143  2.309153  2.310750  2.449327  2.706837  \n",
       "SPBC2D10.18                0.662236  0.655953  0.580761  0.606205  0.752322  \n",
       "SPAC9E9.12C               10.170195  7.380023  4.455168  2.804587  1.657471  \n",
       "SPBC1105.04C               0.175360  0.829920  0.959749  1.121036  1.122949  \n",
       "SPBC1861.02                0.372226  0.533438  0.851486  0.989702  1.115665  "
      ]
     },
     "execution_count": 11,
     "metadata": {},
     "output_type": "execute_result"
    }
   ],
   "source": [
    "# set columns indexes\n",
    "data_mRNA.set_index([2], inplace=True) # Some names are duplicates\n",
    "data_mRNA.index.name = None\n",
    "data_mRNA.columns = ['h'+str(k) for k in range(0,11) if k != 9]\n",
    "\n",
    "print(data_mRNA.shape)\n",
    "data_mRNA.head()"
   ]
  },
  {
   "cell_type": "markdown",
   "metadata": {
    "deletable": true,
    "editable": true
   },
   "source": [
    "## 3 - Merging the mRNA and protein data sets"
   ]
  },
  {
   "cell_type": "markdown",
   "metadata": {
    "deletable": true,
    "editable": true
   },
   "source": [
    "We've got 2969 entries in our proteins dataset and 4786 entries in the mRNA one.<br/>\n",
    "We'll first reduce the 2 datasets to their common entries, and then join the 2 tables."
   ]
  },
  {
   "cell_type": "markdown",
   "metadata": {
    "deletable": true,
    "editable": true
   },
   "source": [
    "### a) Filtering mRNA data"
   ]
  },
  {
   "cell_type": "markdown",
   "metadata": {
    "deletable": true,
    "editable": true
   },
   "source": [
    "As mRNA names can be composed of several names, we extract the mRNA entries which name contains the one of our proteins."
   ]
  },
  {
   "cell_type": "code",
   "execution_count": 12,
   "metadata": {
    "collapsed": false,
    "deletable": true,
    "editable": true
   },
   "outputs": [
    {
     "name": "stdout",
     "output_type": "stream",
     "text": [
      "(3132, 10)\n"
     ]
    },
    {
     "data": {
      "text/html": [
       "<div>\n",
       "<table border=\"1\" class=\"dataframe\">\n",
       "  <thead>\n",
       "    <tr style=\"text-align: right;\">\n",
       "      <th></th>\n",
       "      <th>h0</th>\n",
       "      <th>h1</th>\n",
       "      <th>h2</th>\n",
       "      <th>h3</th>\n",
       "      <th>h4</th>\n",
       "      <th>h5</th>\n",
       "      <th>h6</th>\n",
       "      <th>h7</th>\n",
       "      <th>h8</th>\n",
       "      <th>h10</th>\n",
       "    </tr>\n",
       "  </thead>\n",
       "  <tbody>\n",
       "    <tr>\n",
       "      <th>SPBC2D10.18</th>\n",
       "      <td>1.043491</td>\n",
       "      <td>0.622283</td>\n",
       "      <td>0.663191</td>\n",
       "      <td>0.619409</td>\n",
       "      <td>0.648403</td>\n",
       "      <td>0.662236</td>\n",
       "      <td>0.655953</td>\n",
       "      <td>0.580761</td>\n",
       "      <td>0.606205</td>\n",
       "      <td>0.752322</td>\n",
       "    </tr>\n",
       "    <tr>\n",
       "      <th>SPBC1105.04C</th>\n",
       "      <td>1.351277</td>\n",
       "      <td>0.884985</td>\n",
       "      <td>0.705397</td>\n",
       "      <td>0.401055</td>\n",
       "      <td>0.202862</td>\n",
       "      <td>0.175360</td>\n",
       "      <td>0.829920</td>\n",
       "      <td>0.959749</td>\n",
       "      <td>1.121036</td>\n",
       "      <td>1.122949</td>\n",
       "    </tr>\n",
       "    <tr>\n",
       "      <th>SPBC32H8.12C</th>\n",
       "      <td>0.621846</td>\n",
       "      <td>0.325697</td>\n",
       "      <td>0.390388</td>\n",
       "      <td>0.419048</td>\n",
       "      <td>0.435039</td>\n",
       "      <td>0.539601</td>\n",
       "      <td>0.403898</td>\n",
       "      <td>0.337072</td>\n",
       "      <td>0.281851</td>\n",
       "      <td>0.265122</td>\n",
       "    </tr>\n",
       "    <tr>\n",
       "      <th>SPAC630.03</th>\n",
       "      <td>0.945575</td>\n",
       "      <td>0.576106</td>\n",
       "      <td>0.698916</td>\n",
       "      <td>0.638058</td>\n",
       "      <td>0.423130</td>\n",
       "      <td>0.352959</td>\n",
       "      <td>0.746192</td>\n",
       "      <td>0.829190</td>\n",
       "      <td>0.843786</td>\n",
       "      <td>0.889201</td>\n",
       "    </tr>\n",
       "    <tr>\n",
       "      <th>SPBC106.04</th>\n",
       "      <td>0.871751</td>\n",
       "      <td>0.869876</td>\n",
       "      <td>1.023361</td>\n",
       "      <td>0.727945</td>\n",
       "      <td>0.261486</td>\n",
       "      <td>0.143920</td>\n",
       "      <td>0.437443</td>\n",
       "      <td>0.805628</td>\n",
       "      <td>0.984534</td>\n",
       "      <td>0.974699</td>\n",
       "    </tr>\n",
       "  </tbody>\n",
       "</table>\n",
       "</div>"
      ],
      "text/plain": [
       "                    h0        h1        h2        h3        h4        h5  \\\n",
       "SPBC2D10.18   1.043491  0.622283  0.663191  0.619409  0.648403  0.662236   \n",
       "SPBC1105.04C  1.351277  0.884985  0.705397  0.401055  0.202862  0.175360   \n",
       "SPBC32H8.12C  0.621846  0.325697  0.390388  0.419048  0.435039  0.539601   \n",
       "SPAC630.03    0.945575  0.576106  0.698916  0.638058  0.423130  0.352959   \n",
       "SPBC106.04    0.871751  0.869876  1.023361  0.727945  0.261486  0.143920   \n",
       "\n",
       "                    h6        h7        h8       h10  \n",
       "SPBC2D10.18   0.655953  0.580761  0.606205  0.752322  \n",
       "SPBC1105.04C  0.829920  0.959749  1.121036  1.122949  \n",
       "SPBC32H8.12C  0.403898  0.337072  0.281851  0.265122  \n",
       "SPAC630.03    0.746192  0.829190  0.843786  0.889201  \n",
       "SPBC106.04    0.437443  0.805628  0.984534  0.974699  "
      ]
     },
     "execution_count": 12,
     "metadata": {},
     "output_type": "execute_result"
    }
   ],
   "source": [
    "# create the pattern and the filter\n",
    "pattern = '|'.join(data_prot.index.values)\n",
    "filter_ = data_mRNA.index.str.contains(pattern, case=False, na=False)\n",
    "\n",
    "# extract mRNA data with corresponding protein name\n",
    "data_mRNA = data_mRNA[filter_]\n",
    "\n",
    "# show preview\n",
    "print(data_mRNA.shape)\n",
    "data_mRNA.head()"
   ]
  },
  {
   "cell_type": "markdown",
   "metadata": {
    "deletable": true,
    "editable": true
   },
   "source": [
    "We've lost 95 entries, and still have 56 **duplicates**, representing 28 proteins."
   ]
  },
  {
   "cell_type": "code",
   "execution_count": 13,
   "metadata": {
    "collapsed": false,
    "deletable": true,
    "editable": true
   },
   "outputs": [
    {
     "name": "stdout",
     "output_type": "stream",
     "text": [
      "(60, 10)\n"
     ]
    },
    {
     "data": {
      "text/html": [
       "<div>\n",
       "<table border=\"1\" class=\"dataframe\">\n",
       "  <thead>\n",
       "    <tr style=\"text-align: right;\">\n",
       "      <th></th>\n",
       "      <th>h0</th>\n",
       "      <th>h1</th>\n",
       "      <th>h2</th>\n",
       "      <th>h3</th>\n",
       "      <th>h4</th>\n",
       "      <th>h5</th>\n",
       "      <th>h6</th>\n",
       "      <th>h7</th>\n",
       "      <th>h8</th>\n",
       "      <th>h10</th>\n",
       "    </tr>\n",
       "  </thead>\n",
       "  <tbody>\n",
       "    <tr>\n",
       "      <th>SPAC13G7.02C</th>\n",
       "      <td>1.139014</td>\n",
       "      <td>5.825920</td>\n",
       "      <td>7.595293</td>\n",
       "      <td>19.737550</td>\n",
       "      <td>24.382723</td>\n",
       "      <td>27.602160</td>\n",
       "      <td>7.971517</td>\n",
       "      <td>6.919817</td>\n",
       "      <td>9.305873</td>\n",
       "      <td>12.082448</td>\n",
       "    </tr>\n",
       "    <tr>\n",
       "      <th>SPAC13G7.02C</th>\n",
       "      <td>0.480851</td>\n",
       "      <td>1.821550</td>\n",
       "      <td>2.200407</td>\n",
       "      <td>2.647362</td>\n",
       "      <td>3.204608</td>\n",
       "      <td>2.962069</td>\n",
       "      <td>0.816963</td>\n",
       "      <td>0.817025</td>\n",
       "      <td>0.790903</td>\n",
       "      <td>1.049258</td>\n",
       "    </tr>\n",
       "    <tr>\n",
       "      <th>SPAC144.03</th>\n",
       "      <td>0.597784</td>\n",
       "      <td>0.552436</td>\n",
       "      <td>0.423964</td>\n",
       "      <td>0.333494</td>\n",
       "      <td>0.287265</td>\n",
       "      <td>0.176862</td>\n",
       "      <td>0.230313</td>\n",
       "      <td>0.223476</td>\n",
       "      <td>0.261122</td>\n",
       "      <td>0.277014</td>\n",
       "    </tr>\n",
       "    <tr>\n",
       "      <th>SPAC144.03</th>\n",
       "      <td>1.247429</td>\n",
       "      <td>2.754731</td>\n",
       "      <td>2.002274</td>\n",
       "      <td>1.818740</td>\n",
       "      <td>1.673060</td>\n",
       "      <td>2.102656</td>\n",
       "      <td>2.313404</td>\n",
       "      <td>2.398567</td>\n",
       "      <td>3.019608</td>\n",
       "      <td>3.698596</td>\n",
       "    </tr>\n",
       "    <tr>\n",
       "      <th>SPAC16E8.15</th>\n",
       "      <td>0.300177</td>\n",
       "      <td>1.893358</td>\n",
       "      <td>0.955042</td>\n",
       "      <td>0.580376</td>\n",
       "      <td>0.673911</td>\n",
       "      <td>1.094835</td>\n",
       "      <td>0.801017</td>\n",
       "      <td>0.614706</td>\n",
       "      <td>0.535658</td>\n",
       "      <td>0.551441</td>\n",
       "    </tr>\n",
       "  </tbody>\n",
       "</table>\n",
       "</div>"
      ],
      "text/plain": [
       "                    h0        h1        h2         h3         h4         h5  \\\n",
       "SPAC13G7.02C  1.139014  5.825920  7.595293  19.737550  24.382723  27.602160   \n",
       "SPAC13G7.02C  0.480851  1.821550  2.200407   2.647362   3.204608   2.962069   \n",
       "SPAC144.03    0.597784  0.552436  0.423964   0.333494   0.287265   0.176862   \n",
       "SPAC144.03    1.247429  2.754731  2.002274   1.818740   1.673060   2.102656   \n",
       "SPAC16E8.15   0.300177  1.893358  0.955042   0.580376   0.673911   1.094835   \n",
       "\n",
       "                    h6        h7        h8        h10  \n",
       "SPAC13G7.02C  7.971517  6.919817  9.305873  12.082448  \n",
       "SPAC13G7.02C  0.816963  0.817025  0.790903   1.049258  \n",
       "SPAC144.03    0.230313  0.223476  0.261122   0.277014  \n",
       "SPAC144.03    2.313404  2.398567  3.019608   3.698596  \n",
       "SPAC16E8.15   0.801017  0.614706  0.535658   0.551441  "
      ]
     },
     "execution_count": 13,
     "metadata": {},
     "output_type": "execute_result"
    }
   ],
   "source": [
    "duplicated_data_mRNA = data_mRNA.loc[data_mRNA[data_mRNA.index.duplicated()].index.sort_values()]\n",
    "print(duplicated_data_mRNA.shape)\n",
    "duplicated_data_mRNA.head()"
   ]
  },
  {
   "cell_type": "markdown",
   "metadata": {
    "deletable": true,
    "editable": true
   },
   "source": [
    "To keep things simple, we chose to add them. <br/>\n",
    "(As the duplicates are coding for the same protein, the sum of their concentration should be correlated with the proteins production)"
   ]
  },
  {
   "cell_type": "code",
   "execution_count": 14,
   "metadata": {
    "collapsed": false,
    "deletable": true,
    "editable": true
   },
   "outputs": [
    {
     "name": "stderr",
     "output_type": "stream",
     "text": [
      "/usr/local/lib/python3.4/dist-packages/ipykernel/__main__.py:1: SettingWithCopyWarning: \n",
      "A value is trying to be set on a copy of a slice from a DataFrame.\n",
      "Try using .loc[row_indexer,col_indexer] = value instead\n",
      "\n",
      "See the caveats in the documentation: http://pandas.pydata.org/pandas-docs/stable/indexing.html#indexing-view-versus-copy\n",
      "  if __name__ == '__main__':\n"
     ]
    }
   ],
   "source": [
    "duplicated_data_mRNA['name'] = duplicated_data_mRNA.index.values\n",
    "duplicated_data_mRNA_sum = duplicated_data_mRNA.groupby(['name']).sum()\n",
    "duplicated_data_mRNA_sum.index.name = None"
   ]
  },
  {
   "cell_type": "markdown",
   "metadata": {
    "deletable": true,
    "editable": true
   },
   "source": [
    "Finally, we replace them in our dataset :"
   ]
  },
  {
   "cell_type": "code",
   "execution_count": 15,
   "metadata": {
    "collapsed": false,
    "deletable": true,
    "editable": true
   },
   "outputs": [],
   "source": [
    "data_mRNA_without_duplicates = data_mRNA.drop(duplicated_data_mRNA_sum.index)\n",
    "data_mRNA = pd.concat([data_mRNA_without_duplicates, duplicated_data_mRNA_sum])"
   ]
  },
  {
   "cell_type": "markdown",
   "metadata": {
    "deletable": true,
    "editable": true
   },
   "source": [
    "### b) Ending with mRNA duplicates and Filtering proteins data"
   ]
  },
  {
   "cell_type": "markdown",
   "metadata": {
    "deletable": true,
    "editable": true
   },
   "source": [
    "Now, we have more proteins (2969) than we have mRNA (2858). Before extracting the common entries from the protein dataset, let's check if we have remaining duplicates :"
   ]
  },
  {
   "cell_type": "code",
   "execution_count": 16,
   "metadata": {
    "collapsed": false,
    "deletable": true,
    "editable": true
   },
   "outputs": [
    {
     "name": "stdout",
     "output_type": "stream",
     "text": [
      "Index(['SPAC145.04 SPAC20H4.10', 'SPAC20H4.10'], dtype='object') SPAC20H4.10\n",
      "Index(['SPAC2E1P5.01C SPAPB1E7.13C', 'SPAPB1E7.13 SPAC2E1P5.01C'], dtype='object') SPAC2E1P5.01c\n"
     ]
    }
   ],
   "source": [
    "duplicates = np.array([], dtype=object)\n",
    "\n",
    "for name in data_prot.index.values:\n",
    "    filter_ = data_mRNA.index.str.contains(name, case=False, na=False)\n",
    "    \n",
    "    if len(data_mRNA[filter_].index)>1:\n",
    "        print(data_mRNA[filter_].index, name)\n",
    "        duplicates = np.append(duplicates, data_mRNA[filter_].index)"
   ]
  },
  {
   "cell_type": "markdown",
   "metadata": {
    "deletable": true,
    "editable": true
   },
   "source": [
    "We still have one case of protein potentially produced by 2 distinct mRNA. Let's aggregate it as we did previously :"
   ]
  },
  {
   "cell_type": "code",
   "execution_count": 17,
   "metadata": {
    "collapsed": false,
    "deletable": true,
    "editable": true
   },
   "outputs": [],
   "source": [
    "last_duplicate = data_mRNA.loc[duplicates]\n",
    "last_duplicate_sum = last_duplicate.sum()\n",
    "last_duplicate_sum.name = 'SPAC20H4.10'\n",
    "\n",
    "data_mRNA = data_mRNA.drop(duplicates)\n",
    "data_mRNA = data_mRNA.append(last_duplicate_sum)"
   ]
  },
  {
   "cell_type": "markdown",
   "metadata": {
    "deletable": true,
    "editable": true
   },
   "source": [
    "Now, we can extract the common entries (the ARNm positions corresponding to proteins names) :"
   ]
  },
  {
   "cell_type": "code",
   "execution_count": 18,
   "metadata": {
    "collapsed": true,
    "deletable": true,
    "editable": true
   },
   "outputs": [],
   "source": [
    "# get list of indexes and names to sort\n",
    "idxname = np.array([], dtype=int)\n",
    "listname = np.array([], dtype=object)\n",
    "\n",
    "for name in data_prot.index.values:\n",
    "    filter_ = data_mRNA.index.str.contains(name, case=False, na=False)\n",
    "    \n",
    "    if len(data_mRNA[filter_].index)>0:\n",
    "        idxname = np.append(idxname, data_mRNA.index.get_loc(data_mRNA[filter_].index[0])) # mRNA numeric positions\n",
    "        listname = np.append(listname, name) # Protein index"
   ]
  },
  {
   "cell_type": "markdown",
   "metadata": {
    "deletable": true,
    "editable": true
   },
   "source": [
    "Let's filter the proteins dataset :"
   ]
  },
  {
   "cell_type": "code",
   "execution_count": 19,
   "metadata": {
    "collapsed": false,
    "deletable": true,
    "editable": true
   },
   "outputs": [
    {
     "name": "stdout",
     "output_type": "stream",
     "text": [
      "(3099, 10)\n"
     ]
    },
    {
     "data": {
      "text/html": [
       "<div>\n",
       "<table border=\"1\" class=\"dataframe\">\n",
       "  <thead>\n",
       "    <tr style=\"text-align: right;\">\n",
       "      <th></th>\n",
       "      <th>h0</th>\n",
       "      <th>h1</th>\n",
       "      <th>h2</th>\n",
       "      <th>h3</th>\n",
       "      <th>h4</th>\n",
       "      <th>h5</th>\n",
       "      <th>h6</th>\n",
       "      <th>h7</th>\n",
       "      <th>h8</th>\n",
       "      <th>h10</th>\n",
       "    </tr>\n",
       "  </thead>\n",
       "  <tbody>\n",
       "    <tr>\n",
       "      <th>SPAC1002.01</th>\n",
       "      <td>0.559502</td>\n",
       "      <td>0.797365</td>\n",
       "      <td>0.714320</td>\n",
       "      <td>0.908648</td>\n",
       "      <td>0.979913</td>\n",
       "      <td>1.149922</td>\n",
       "      <td>1.088235</td>\n",
       "      <td>1.056883</td>\n",
       "      <td>1.176179</td>\n",
       "      <td>1.217080</td>\n",
       "    </tr>\n",
       "    <tr>\n",
       "      <th>SPAC1002.02</th>\n",
       "      <td>0.294818</td>\n",
       "      <td>0.409764</td>\n",
       "      <td>0.965734</td>\n",
       "      <td>1.713490</td>\n",
       "      <td>2.126497</td>\n",
       "      <td>1.714607</td>\n",
       "      <td>1.103619</td>\n",
       "      <td>0.844587</td>\n",
       "      <td>0.630046</td>\n",
       "      <td>0.423492</td>\n",
       "    </tr>\n",
       "    <tr>\n",
       "      <th>SPAC1002.03c</th>\n",
       "      <td>1.199934</td>\n",
       "      <td>1.098280</td>\n",
       "      <td>0.951916</td>\n",
       "      <td>0.900738</td>\n",
       "      <td>0.901141</td>\n",
       "      <td>0.933986</td>\n",
       "      <td>0.973173</td>\n",
       "      <td>1.017834</td>\n",
       "      <td>1.054168</td>\n",
       "      <td>0.996403</td>\n",
       "    </tr>\n",
       "    <tr>\n",
       "      <th>SPAC1002.04c</th>\n",
       "      <td>1.228882</td>\n",
       "      <td>1.183849</td>\n",
       "      <td>1.146613</td>\n",
       "      <td>1.283379</td>\n",
       "      <td>1.497678</td>\n",
       "      <td>1.406864</td>\n",
       "      <td>1.090262</td>\n",
       "      <td>0.863794</td>\n",
       "      <td>0.894849</td>\n",
       "      <td>0.997622</td>\n",
       "    </tr>\n",
       "    <tr>\n",
       "      <th>SPAC1002.07c</th>\n",
       "      <td>0.626058</td>\n",
       "      <td>0.687943</td>\n",
       "      <td>0.815417</td>\n",
       "      <td>1.015540</td>\n",
       "      <td>1.293387</td>\n",
       "      <td>1.316786</td>\n",
       "      <td>1.299641</td>\n",
       "      <td>1.251533</td>\n",
       "      <td>1.197197</td>\n",
       "      <td>1.105592</td>\n",
       "    </tr>\n",
       "  </tbody>\n",
       "</table>\n",
       "</div>"
      ],
      "text/plain": [
       "                    h0        h1        h2        h3        h4        h5  \\\n",
       "SPAC1002.01   0.559502  0.797365  0.714320  0.908648  0.979913  1.149922   \n",
       "SPAC1002.02   0.294818  0.409764  0.965734  1.713490  2.126497  1.714607   \n",
       "SPAC1002.03c  1.199934  1.098280  0.951916  0.900738  0.901141  0.933986   \n",
       "SPAC1002.04c  1.228882  1.183849  1.146613  1.283379  1.497678  1.406864   \n",
       "SPAC1002.07c  0.626058  0.687943  0.815417  1.015540  1.293387  1.316786   \n",
       "\n",
       "                    h6        h7        h8       h10  \n",
       "SPAC1002.01   1.088235  1.056883  1.176179  1.217080  \n",
       "SPAC1002.02   1.103619  0.844587  0.630046  0.423492  \n",
       "SPAC1002.03c  0.973173  1.017834  1.054168  0.996403  \n",
       "SPAC1002.04c  1.090262  0.863794  0.894849  0.997622  \n",
       "SPAC1002.07c  1.299641  1.251533  1.197197  1.105592  "
      ]
     },
     "execution_count": 19,
     "metadata": {},
     "output_type": "execute_result"
    }
   ],
   "source": [
    "# removing non existant keys in protein data\n",
    "data_prot = data_prot.loc[listname]\n",
    "print(data_prot.shape)\n",
    "data_prot.head()"
   ]
  },
  {
   "cell_type": "markdown",
   "metadata": {
    "deletable": true,
    "editable": true
   },
   "source": [
    "We've lost 124 entries, and now we've got the same number of entries in both datasets (2845)."
   ]
  },
  {
   "cell_type": "markdown",
   "metadata": {
    "deletable": true,
    "editable": true
   },
   "source": [
    "### c) Joining the 2 datasets"
   ]
  },
  {
   "cell_type": "markdown",
   "metadata": {
    "deletable": true,
    "editable": true
   },
   "source": [
    "Before merging the 2 datasets, we have to sort the mRNA dataset in the same order than the protein one :"
   ]
  },
  {
   "cell_type": "code",
   "execution_count": 20,
   "metadata": {
    "collapsed": false,
    "deletable": true,
    "editable": true
   },
   "outputs": [
    {
     "data": {
      "text/html": [
       "<div>\n",
       "<table border=\"1\" class=\"dataframe\">\n",
       "  <thead>\n",
       "    <tr style=\"text-align: right;\">\n",
       "      <th></th>\n",
       "      <th>h0</th>\n",
       "      <th>h1</th>\n",
       "      <th>h2</th>\n",
       "      <th>h3</th>\n",
       "      <th>h4</th>\n",
       "      <th>h5</th>\n",
       "      <th>h6</th>\n",
       "      <th>h7</th>\n",
       "      <th>h8</th>\n",
       "      <th>h10</th>\n",
       "    </tr>\n",
       "  </thead>\n",
       "  <tbody>\n",
       "    <tr>\n",
       "      <th>SPAC1002.01</th>\n",
       "      <td>0.684485</td>\n",
       "      <td>1.199186</td>\n",
       "      <td>1.424561</td>\n",
       "      <td>1.597397</td>\n",
       "      <td>1.195754</td>\n",
       "      <td>1.172882</td>\n",
       "      <td>0.933155</td>\n",
       "      <td>0.819659</td>\n",
       "      <td>0.751874</td>\n",
       "      <td>0.683857</td>\n",
       "    </tr>\n",
       "    <tr>\n",
       "      <th>SPAC1002.02</th>\n",
       "      <td>1.035300</td>\n",
       "      <td>2.905877</td>\n",
       "      <td>4.153496</td>\n",
       "      <td>4.783120</td>\n",
       "      <td>2.603015</td>\n",
       "      <td>1.647060</td>\n",
       "      <td>1.481230</td>\n",
       "      <td>1.616345</td>\n",
       "      <td>1.347246</td>\n",
       "      <td>1.122512</td>\n",
       "    </tr>\n",
       "    <tr>\n",
       "      <th>SPAC1002.03c</th>\n",
       "      <td>0.958027</td>\n",
       "      <td>0.676712</td>\n",
       "      <td>0.703215</td>\n",
       "      <td>0.747138</td>\n",
       "      <td>0.861940</td>\n",
       "      <td>1.257074</td>\n",
       "      <td>1.235414</td>\n",
       "      <td>0.950157</td>\n",
       "      <td>0.988842</td>\n",
       "      <td>1.161624</td>\n",
       "    </tr>\n",
       "    <tr>\n",
       "      <th>SPAC1002.04c</th>\n",
       "      <td>1.133477</td>\n",
       "      <td>1.140642</td>\n",
       "      <td>1.189899</td>\n",
       "      <td>1.622498</td>\n",
       "      <td>2.308321</td>\n",
       "      <td>3.020603</td>\n",
       "      <td>1.853997</td>\n",
       "      <td>1.714919</td>\n",
       "      <td>1.682955</td>\n",
       "      <td>1.530989</td>\n",
       "    </tr>\n",
       "    <tr>\n",
       "      <th>SPAC1002.07c</th>\n",
       "      <td>0.783431</td>\n",
       "      <td>1.362667</td>\n",
       "      <td>1.602399</td>\n",
       "      <td>1.836938</td>\n",
       "      <td>1.938045</td>\n",
       "      <td>1.969526</td>\n",
       "      <td>0.570085</td>\n",
       "      <td>0.593492</td>\n",
       "      <td>0.524142</td>\n",
       "      <td>0.437590</td>\n",
       "    </tr>\n",
       "  </tbody>\n",
       "</table>\n",
       "</div>"
      ],
      "text/plain": [
       "                    h0        h1        h2        h3        h4        h5  \\\n",
       "SPAC1002.01   0.684485  1.199186  1.424561  1.597397  1.195754  1.172882   \n",
       "SPAC1002.02   1.035300  2.905877  4.153496  4.783120  2.603015  1.647060   \n",
       "SPAC1002.03c  0.958027  0.676712  0.703215  0.747138  0.861940  1.257074   \n",
       "SPAC1002.04c  1.133477  1.140642  1.189899  1.622498  2.308321  3.020603   \n",
       "SPAC1002.07c  0.783431  1.362667  1.602399  1.836938  1.938045  1.969526   \n",
       "\n",
       "                    h6        h7        h8       h10  \n",
       "SPAC1002.01   0.933155  0.819659  0.751874  0.683857  \n",
       "SPAC1002.02   1.481230  1.616345  1.347246  1.122512  \n",
       "SPAC1002.03c  1.235414  0.950157  0.988842  1.161624  \n",
       "SPAC1002.04c  1.853997  1.714919  1.682955  1.530989  \n",
       "SPAC1002.07c  0.570085  0.593492  0.524142  0.437590  "
      ]
     },
     "execution_count": 20,
     "metadata": {},
     "output_type": "execute_result"
    }
   ],
   "source": [
    "data_mRNA = data_mRNA.iloc[list(idxname)]\n",
    "data_mRNA.set_index([listname.tolist()], inplace=True)\n",
    "data_mRNA.head()"
   ]
  },
  {
   "cell_type": "markdown",
   "metadata": {
    "deletable": true,
    "editable": true
   },
   "source": [
    "Now, we can join the 2 datasets :"
   ]
  },
  {
   "cell_type": "code",
   "execution_count": 21,
   "metadata": {
    "collapsed": false,
    "deletable": true,
    "editable": true
   },
   "outputs": [
    {
     "name": "stdout",
     "output_type": "stream",
     "text": [
      "Size of joined data: (3099, 20)\n"
     ]
    },
    {
     "data": {
      "text/html": [
       "<div>\n",
       "<table border=\"1\" class=\"dataframe\">\n",
       "  <thead>\n",
       "    <tr>\n",
       "      <th></th>\n",
       "      <th colspan=\"10\" halign=\"left\">prot</th>\n",
       "      <th colspan=\"10\" halign=\"left\">mRNA</th>\n",
       "    </tr>\n",
       "    <tr>\n",
       "      <th></th>\n",
       "      <th>h0</th>\n",
       "      <th>h1</th>\n",
       "      <th>h2</th>\n",
       "      <th>h3</th>\n",
       "      <th>h4</th>\n",
       "      <th>h5</th>\n",
       "      <th>h6</th>\n",
       "      <th>h7</th>\n",
       "      <th>h8</th>\n",
       "      <th>h10</th>\n",
       "      <th>h0</th>\n",
       "      <th>h1</th>\n",
       "      <th>h2</th>\n",
       "      <th>h3</th>\n",
       "      <th>h4</th>\n",
       "      <th>h5</th>\n",
       "      <th>h6</th>\n",
       "      <th>h7</th>\n",
       "      <th>h8</th>\n",
       "      <th>h10</th>\n",
       "    </tr>\n",
       "  </thead>\n",
       "  <tbody>\n",
       "    <tr>\n",
       "      <th>SPAC1002.01</th>\n",
       "      <td>0.559502</td>\n",
       "      <td>0.797365</td>\n",
       "      <td>0.714320</td>\n",
       "      <td>0.908648</td>\n",
       "      <td>0.979913</td>\n",
       "      <td>1.149922</td>\n",
       "      <td>1.088235</td>\n",
       "      <td>1.056883</td>\n",
       "      <td>1.176179</td>\n",
       "      <td>1.217080</td>\n",
       "      <td>0.684485</td>\n",
       "      <td>1.199186</td>\n",
       "      <td>1.424561</td>\n",
       "      <td>1.597397</td>\n",
       "      <td>1.195754</td>\n",
       "      <td>1.172882</td>\n",
       "      <td>0.933155</td>\n",
       "      <td>0.819659</td>\n",
       "      <td>0.751874</td>\n",
       "      <td>0.683857</td>\n",
       "    </tr>\n",
       "    <tr>\n",
       "      <th>SPAC1002.02</th>\n",
       "      <td>0.294818</td>\n",
       "      <td>0.409764</td>\n",
       "      <td>0.965734</td>\n",
       "      <td>1.713490</td>\n",
       "      <td>2.126497</td>\n",
       "      <td>1.714607</td>\n",
       "      <td>1.103619</td>\n",
       "      <td>0.844587</td>\n",
       "      <td>0.630046</td>\n",
       "      <td>0.423492</td>\n",
       "      <td>1.035300</td>\n",
       "      <td>2.905877</td>\n",
       "      <td>4.153496</td>\n",
       "      <td>4.783120</td>\n",
       "      <td>2.603015</td>\n",
       "      <td>1.647060</td>\n",
       "      <td>1.481230</td>\n",
       "      <td>1.616345</td>\n",
       "      <td>1.347246</td>\n",
       "      <td>1.122512</td>\n",
       "    </tr>\n",
       "    <tr>\n",
       "      <th>SPAC1002.03c</th>\n",
       "      <td>1.199934</td>\n",
       "      <td>1.098280</td>\n",
       "      <td>0.951916</td>\n",
       "      <td>0.900738</td>\n",
       "      <td>0.901141</td>\n",
       "      <td>0.933986</td>\n",
       "      <td>0.973173</td>\n",
       "      <td>1.017834</td>\n",
       "      <td>1.054168</td>\n",
       "      <td>0.996403</td>\n",
       "      <td>0.958027</td>\n",
       "      <td>0.676712</td>\n",
       "      <td>0.703215</td>\n",
       "      <td>0.747138</td>\n",
       "      <td>0.861940</td>\n",
       "      <td>1.257074</td>\n",
       "      <td>1.235414</td>\n",
       "      <td>0.950157</td>\n",
       "      <td>0.988842</td>\n",
       "      <td>1.161624</td>\n",
       "    </tr>\n",
       "    <tr>\n",
       "      <th>SPAC1002.04c</th>\n",
       "      <td>1.228882</td>\n",
       "      <td>1.183849</td>\n",
       "      <td>1.146613</td>\n",
       "      <td>1.283379</td>\n",
       "      <td>1.497678</td>\n",
       "      <td>1.406864</td>\n",
       "      <td>1.090262</td>\n",
       "      <td>0.863794</td>\n",
       "      <td>0.894849</td>\n",
       "      <td>0.997622</td>\n",
       "      <td>1.133477</td>\n",
       "      <td>1.140642</td>\n",
       "      <td>1.189899</td>\n",
       "      <td>1.622498</td>\n",
       "      <td>2.308321</td>\n",
       "      <td>3.020603</td>\n",
       "      <td>1.853997</td>\n",
       "      <td>1.714919</td>\n",
       "      <td>1.682955</td>\n",
       "      <td>1.530989</td>\n",
       "    </tr>\n",
       "    <tr>\n",
       "      <th>SPAC1002.07c</th>\n",
       "      <td>0.626058</td>\n",
       "      <td>0.687943</td>\n",
       "      <td>0.815417</td>\n",
       "      <td>1.015540</td>\n",
       "      <td>1.293387</td>\n",
       "      <td>1.316786</td>\n",
       "      <td>1.299641</td>\n",
       "      <td>1.251533</td>\n",
       "      <td>1.197197</td>\n",
       "      <td>1.105592</td>\n",
       "      <td>0.783431</td>\n",
       "      <td>1.362667</td>\n",
       "      <td>1.602399</td>\n",
       "      <td>1.836938</td>\n",
       "      <td>1.938045</td>\n",
       "      <td>1.969526</td>\n",
       "      <td>0.570085</td>\n",
       "      <td>0.593492</td>\n",
       "      <td>0.524142</td>\n",
       "      <td>0.437590</td>\n",
       "    </tr>\n",
       "  </tbody>\n",
       "</table>\n",
       "</div>"
      ],
      "text/plain": [
       "                  prot                                                    \\\n",
       "                    h0        h1        h2        h3        h4        h5   \n",
       "SPAC1002.01   0.559502  0.797365  0.714320  0.908648  0.979913  1.149922   \n",
       "SPAC1002.02   0.294818  0.409764  0.965734  1.713490  2.126497  1.714607   \n",
       "SPAC1002.03c  1.199934  1.098280  0.951916  0.900738  0.901141  0.933986   \n",
       "SPAC1002.04c  1.228882  1.183849  1.146613  1.283379  1.497678  1.406864   \n",
       "SPAC1002.07c  0.626058  0.687943  0.815417  1.015540  1.293387  1.316786   \n",
       "\n",
       "                                                          mRNA            \\\n",
       "                    h6        h7        h8       h10        h0        h1   \n",
       "SPAC1002.01   1.088235  1.056883  1.176179  1.217080  0.684485  1.199186   \n",
       "SPAC1002.02   1.103619  0.844587  0.630046  0.423492  1.035300  2.905877   \n",
       "SPAC1002.03c  0.973173  1.017834  1.054168  0.996403  0.958027  0.676712   \n",
       "SPAC1002.04c  1.090262  0.863794  0.894849  0.997622  1.133477  1.140642   \n",
       "SPAC1002.07c  1.299641  1.251533  1.197197  1.105592  0.783431  1.362667   \n",
       "\n",
       "                                                                          \\\n",
       "                    h2        h3        h4        h5        h6        h7   \n",
       "SPAC1002.01   1.424561  1.597397  1.195754  1.172882  0.933155  0.819659   \n",
       "SPAC1002.02   4.153496  4.783120  2.603015  1.647060  1.481230  1.616345   \n",
       "SPAC1002.03c  0.703215  0.747138  0.861940  1.257074  1.235414  0.950157   \n",
       "SPAC1002.04c  1.189899  1.622498  2.308321  3.020603  1.853997  1.714919   \n",
       "SPAC1002.07c  1.602399  1.836938  1.938045  1.969526  0.570085  0.593492   \n",
       "\n",
       "                                  \n",
       "                    h8       h10  \n",
       "SPAC1002.01   0.751874  0.683857  \n",
       "SPAC1002.02   1.347246  1.122512  \n",
       "SPAC1002.03c  0.988842  1.161624  \n",
       "SPAC1002.04c  1.682955  1.530989  \n",
       "SPAC1002.07c  0.524142  0.437590  "
      ]
     },
     "execution_count": 21,
     "metadata": {},
     "output_type": "execute_result"
    }
   ],
   "source": [
    "#We add a hierarchical column name\n",
    "data_mRNA = pd.concat({\"mRNA\": pd.DataFrame(data_mRNA)}, axis=1)\n",
    "data_prot = pd.concat({\"prot\": pd.DataFrame(data_prot)}, axis=1)\n",
    "\n",
    "#And join\n",
    "data = data_prot.join(data_mRNA)\n",
    "print('Size of joined data:', data.shape)\n",
    "data.head()"
   ]
  },
  {
   "cell_type": "markdown",
   "metadata": {},
   "source": [
    "## 4 - Data variants"
   ]
  },
  {
   "cell_type": "markdown",
   "metadata": {
    "deletable": true,
    "editable": true
   },
   "source": [
    "### a) Data in log2"
   ]
  },
  {
   "cell_type": "code",
   "execution_count": 22,
   "metadata": {
    "collapsed": false,
    "deletable": true,
    "editable": true
   },
   "outputs": [],
   "source": [
    "data_prot_log2 = np.log2(data_prot)\n",
    "data_mRNA_log2 = np.log2(data_mRNA)\n",
    "data_log2 = np.log2(data)"
   ]
  },
  {
   "cell_type": "markdown",
   "metadata": {},
   "source": [
    "### b) Data in difference of log2"
   ]
  },
  {
   "cell_type": "code",
   "execution_count": 23,
   "metadata": {
    "collapsed": true
   },
   "outputs": [],
   "source": [
    "def create_diff_log2(df):\n",
    "    new_df = df.copy()\n",
    "    new_df = new_df.diff(axis=1)\n",
    "    new_df = new_df.drop('h0', axis=1)\n",
    "    new_df.columns = ['d'+str(k) for k in range(1,11) if k != 9]\n",
    "    \n",
    "    return new_df"
   ]
  },
  {
   "cell_type": "code",
   "execution_count": 24,
   "metadata": {
    "collapsed": false
   },
   "outputs": [],
   "source": [
    "data_prot_geom = create_diff_log2(data_prot_log2.prot)\n",
    "data_mRNA_geom = create_diff_log2(data_mRNA_log2.mRNA)\n",
    "\n",
    "#We add a hierarchical column name\n",
    "data_mRNA_geom = pd.concat({\"mRNA\": pd.DataFrame(data_mRNA_geom)}, axis=1)\n",
    "data_prot_geom = pd.concat({\"prot\": pd.DataFrame(data_prot_geom)}, axis=1)\n",
    "\n",
    "#And join\n",
    "data_geom = data_prot_geom.join(data_mRNA_geom)"
   ]
  },
  {
   "cell_type": "markdown",
   "metadata": {
    "deletable": true,
    "editable": true
   },
   "source": [
    "### c) Data Standardization (log2 and z-score)"
   ]
  },
  {
   "cell_type": "markdown",
   "metadata": {
    "deletable": true,
    "editable": true
   },
   "source": [
    "As we will need to cluster our data, it could be useful to standardize them.<br/>\n",
    "First of all, we define a suitable standization function :"
   ]
  },
  {
   "cell_type": "code",
   "execution_count": 25,
   "metadata": {
    "collapsed": true,
    "deletable": true,
    "editable": true
   },
   "outputs": [],
   "source": [
    "def standardize_by_row(df):\n",
    "    mean_rows = df.mean(axis=1)\n",
    "    std_rows = df.std(axis=1)\n",
    "    \n",
    "    df = df.sub(mean_rows, axis=0)\n",
    "    df = df.div(std_rows, axis=0)\n",
    "\n",
    "    return df"
   ]
  },
  {
   "cell_type": "markdown",
   "metadata": {
    "deletable": true,
    "editable": true
   },
   "source": [
    "We standardize the 10 measures of each mRNA and proteins independently :"
   ]
  },
  {
   "cell_type": "code",
   "execution_count": 26,
   "metadata": {
    "collapsed": false,
    "deletable": true,
    "editable": true,
    "scrolled": true
   },
   "outputs": [],
   "source": [
    "data_prot_norm = standardize_by_row(data_prot_log2)\n",
    "data_mRNA_norm = standardize_by_row(data_mRNA_log2)"
   ]
  },
  {
   "cell_type": "markdown",
   "metadata": {
    "deletable": true,
    "editable": true
   },
   "source": [
    "And finally join the standardized datasets :"
   ]
  },
  {
   "cell_type": "code",
   "execution_count": 27,
   "metadata": {
    "collapsed": false,
    "deletable": true,
    "editable": true
   },
   "outputs": [],
   "source": [
    "data_norm = data_prot_norm.join(data_mRNA_norm)"
   ]
  },
  {
   "cell_type": "markdown",
   "metadata": {
    "deletable": true,
    "editable": true
   },
   "source": [
    "### Saving datasets"
   ]
  },
  {
   "cell_type": "code",
   "execution_count": 28,
   "metadata": {
    "collapsed": false,
    "deletable": true,
    "editable": true
   },
   "outputs": [],
   "source": [
    "# Unstandardized data\n",
    "data_prot.to_csv('data/data_prot.csv')\n",
    "data_mRNA.to_csv('data/data_mRNA.csv')\n",
    "data.to_csv('data/data.csv')\n",
    "\n",
    "# Standardized data\n",
    "data_prot_norm.to_csv('data/data_prot_log2_zscore.csv')\n",
    "data_mRNA_norm.to_csv('data/data_mRNA_log2_zscore.csv')\n",
    "data_norm.to_csv('data/data_log2_zscore.csv')\n",
    "\n",
    "# Log2 data\n",
    "data_prot_log2.to_csv('data/data_prot_log2.csv')\n",
    "data_mRNA_log2.to_csv('data/data_mRNA_log2.csv')\n",
    "data_log2.to_csv('data/data_log2.csv')\n",
    "\n",
    "# Diff Log2 data\n",
    "data_prot_geom.to_csv('data/data_prot_diff_log2.csv')\n",
    "data_mRNA_geom.to_csv('data/data_mRNA_diff_log2.csv')\n",
    "data_geom.to_csv('data/data_diff_log2.csv')"
   ]
  },
  {
   "cell_type": "code",
   "execution_count": null,
   "metadata": {
    "collapsed": true
   },
   "outputs": [],
   "source": []
  }
 ],
 "metadata": {
  "anaconda-cloud": {},
  "kernelspec": {
   "display_name": "Python 3",
   "language": "python",
   "name": "python3"
  },
  "language_info": {
   "codemirror_mode": {
    "name": "ipython",
    "version": 3
   },
   "file_extension": ".py",
   "mimetype": "text/x-python",
   "name": "python",
   "nbconvert_exporter": "python",
   "pygments_lexer": "ipython3",
   "version": "3.4.2"
  }
 },
 "nbformat": 4,
 "nbformat_minor": 1
}
