{
 "cells": [
  {
   "cell_type": "markdown",
   "metadata": {},
   "source": [
    "# Correlation between the fission yeast transcriptome and proteome"
   ]
  },
  {
   "cell_type": "code",
   "execution_count": 1,
   "metadata": {
    "collapsed": false
   },
   "outputs": [],
   "source": [
    "%matplotlib inline\n",
    "import pandas as pd\n",
    "import numpy as np\n",
    "\n",
    "import matplotlib.pyplot as plt\n",
    "plt.style.use('ggplot')\n",
    "\n",
    "%load_ext autoreload\n",
    "%autoreload 2"
   ]
  },
  {
   "cell_type": "markdown",
   "metadata": {},
   "source": [
    "# Loading data"
   ]
  },
  {
   "cell_type": "code",
   "execution_count": 2,
   "metadata": {
    "collapsed": false
   },
   "outputs": [],
   "source": [
    "# set data path\n",
    "path_data_mRNA = \"data/pat1_average_modified.txt\"\n",
    "path_data_prot = \"data/wtratioall.csv\"\n",
    "\n",
    "# read data from files\n",
    "raw_data_mRNA = pd.read_csv(path_data_mRNA, sep='\\t', header=None)\n",
    "raw_data_prot = pd.read_csv(path_data_prot, index_col=0)"
   ]
  },
  {
   "cell_type": "code",
   "execution_count": 3,
   "metadata": {
    "collapsed": false
   },
   "outputs": [
    {
     "data": {
      "text/html": [
       "<div>\n",
       "<table border=\"1\" class=\"dataframe\">\n",
       "  <thead>\n",
       "    <tr style=\"text-align: right;\">\n",
       "      <th></th>\n",
       "      <th>0</th>\n",
       "      <th>1</th>\n",
       "      <th>2</th>\n",
       "      <th>3</th>\n",
       "      <th>4</th>\n",
       "      <th>5</th>\n",
       "      <th>6</th>\n",
       "      <th>7</th>\n",
       "      <th>8</th>\n",
       "      <th>9</th>\n",
       "      <th>10</th>\n",
       "      <th>11</th>\n",
       "      <th>12</th>\n",
       "      <th>13</th>\n",
       "      <th>14</th>\n",
       "    </tr>\n",
       "  </thead>\n",
       "  <tbody>\n",
       "    <tr>\n",
       "      <th>0</th>\n",
       "      <td>aap1</td>\n",
       "      <td>AAP1</td>\n",
       "      <td>SPBC1652.02 SPBC16A3.20C</td>\n",
       "      <td>1.0</td>\n",
       "      <td>22.703531</td>\n",
       "      <td>0.960360</td>\n",
       "      <td>0.544460</td>\n",
       "      <td>0.896232</td>\n",
       "      <td>1.160251</td>\n",
       "      <td>1.252143</td>\n",
       "      <td>2.309153</td>\n",
       "      <td>2.310750</td>\n",
       "      <td>2.449327</td>\n",
       "      <td>2.706837</td>\n",
       "      <td>3.064384</td>\n",
       "    </tr>\n",
       "    <tr>\n",
       "      <th>1</th>\n",
       "      <td>abc1: C2D10.18</td>\n",
       "      <td>ABC1</td>\n",
       "      <td>SPBC2D10.18</td>\n",
       "      <td>1.0</td>\n",
       "      <td>1.043491</td>\n",
       "      <td>0.622283</td>\n",
       "      <td>0.663191</td>\n",
       "      <td>0.619409</td>\n",
       "      <td>0.648403</td>\n",
       "      <td>0.662236</td>\n",
       "      <td>0.655953</td>\n",
       "      <td>0.580761</td>\n",
       "      <td>0.606205</td>\n",
       "      <td>0.752322</td>\n",
       "      <td>0.798264</td>\n",
       "    </tr>\n",
       "    <tr>\n",
       "      <th>2</th>\n",
       "      <td>abc1: C9E9.12c</td>\n",
       "      <td>ABC1</td>\n",
       "      <td>SPAC9E9.12C</td>\n",
       "      <td>1.0</td>\n",
       "      <td>2.112546</td>\n",
       "      <td>0.906822</td>\n",
       "      <td>0.565746</td>\n",
       "      <td>0.535220</td>\n",
       "      <td>1.224398</td>\n",
       "      <td>10.170195</td>\n",
       "      <td>7.380023</td>\n",
       "      <td>4.455168</td>\n",
       "      <td>2.804587</td>\n",
       "      <td>1.657471</td>\n",
       "      <td>1.310630</td>\n",
       "    </tr>\n",
       "    <tr>\n",
       "      <th>3</th>\n",
       "      <td>abp1</td>\n",
       "      <td>CBP1 ABP1</td>\n",
       "      <td>SPBC1105.04C</td>\n",
       "      <td>1.0</td>\n",
       "      <td>1.351277</td>\n",
       "      <td>0.884985</td>\n",
       "      <td>0.705397</td>\n",
       "      <td>0.401055</td>\n",
       "      <td>0.202862</td>\n",
       "      <td>0.175360</td>\n",
       "      <td>0.829920</td>\n",
       "      <td>0.959749</td>\n",
       "      <td>1.121036</td>\n",
       "      <td>1.122949</td>\n",
       "      <td>1.103435</td>\n",
       "    </tr>\n",
       "    <tr>\n",
       "      <th>4</th>\n",
       "      <td>abp2</td>\n",
       "      <td>ABP2</td>\n",
       "      <td>SPBC1861.02</td>\n",
       "      <td>1.0</td>\n",
       "      <td>0.816301</td>\n",
       "      <td>1.969788</td>\n",
       "      <td>1.736116</td>\n",
       "      <td>1.057102</td>\n",
       "      <td>0.494822</td>\n",
       "      <td>0.372226</td>\n",
       "      <td>0.533438</td>\n",
       "      <td>0.851486</td>\n",
       "      <td>0.989702</td>\n",
       "      <td>1.115665</td>\n",
       "      <td>1.159631</td>\n",
       "    </tr>\n",
       "  </tbody>\n",
       "</table>\n",
       "</div>"
      ],
      "text/plain": [
       "               0          1                         2    3          4   \\\n",
       "0            aap1       AAP1  SPBC1652.02 SPBC16A3.20C  1.0  22.703531   \n",
       "1  abc1: C2D10.18       ABC1               SPBC2D10.18  1.0   1.043491   \n",
       "2  abc1: C9E9.12c       ABC1               SPAC9E9.12C  1.0   2.112546   \n",
       "3            abp1  CBP1 ABP1              SPBC1105.04C  1.0   1.351277   \n",
       "4            abp2       ABP2               SPBC1861.02  1.0   0.816301   \n",
       "\n",
       "         5         6         7         8          9         10        11  \\\n",
       "0  0.960360  0.544460  0.896232  1.160251   1.252143  2.309153  2.310750   \n",
       "1  0.622283  0.663191  0.619409  0.648403   0.662236  0.655953  0.580761   \n",
       "2  0.906822  0.565746  0.535220  1.224398  10.170195  7.380023  4.455168   \n",
       "3  0.884985  0.705397  0.401055  0.202862   0.175360  0.829920  0.959749   \n",
       "4  1.969788  1.736116  1.057102  0.494822   0.372226  0.533438  0.851486   \n",
       "\n",
       "         12        13        14  \n",
       "0  2.449327  2.706837  3.064384  \n",
       "1  0.606205  0.752322  0.798264  \n",
       "2  2.804587  1.657471  1.310630  \n",
       "3  1.121036  1.122949  1.103435  \n",
       "4  0.989702  1.115665  1.159631  "
      ]
     },
     "execution_count": 3,
     "metadata": {},
     "output_type": "execute_result"
    }
   ],
   "source": [
    "# preview of the raw mRNA data\n",
    "raw_data_mRNA.head()"
   ]
  },
  {
   "cell_type": "code",
   "execution_count": 4,
   "metadata": {
    "collapsed": false
   },
   "outputs": [
    {
     "data": {
      "text/html": [
       "<div>\n",
       "<table border=\"1\" class=\"dataframe\">\n",
       "  <thead>\n",
       "    <tr style=\"text-align: right;\">\n",
       "      <th></th>\n",
       "      <th>A_00</th>\n",
       "      <th>A_01</th>\n",
       "      <th>A_02</th>\n",
       "      <th>A_03</th>\n",
       "      <th>A_04</th>\n",
       "      <th>A_05</th>\n",
       "      <th>A_06</th>\n",
       "      <th>A_07</th>\n",
       "      <th>A_08</th>\n",
       "      <th>A_09</th>\n",
       "      <th>...</th>\n",
       "      <th>C_01</th>\n",
       "      <th>C_02</th>\n",
       "      <th>C_03</th>\n",
       "      <th>C_04</th>\n",
       "      <th>C_05</th>\n",
       "      <th>C_06</th>\n",
       "      <th>C_07</th>\n",
       "      <th>C_08</th>\n",
       "      <th>C_09</th>\n",
       "      <th>C_10</th>\n",
       "    </tr>\n",
       "  </thead>\n",
       "  <tbody>\n",
       "    <tr>\n",
       "      <th>SPAC1002.02</th>\n",
       "      <td>1</td>\n",
       "      <td>1.451188</td>\n",
       "      <td>3.734827</td>\n",
       "      <td>6.181905</td>\n",
       "      <td>7.607555</td>\n",
       "      <td>5.215707</td>\n",
       "      <td>3.439898</td>\n",
       "      <td>2.598756</td>\n",
       "      <td>2.183230</td>\n",
       "      <td>1.811290</td>\n",
       "      <td>...</td>\n",
       "      <td>1.555395</td>\n",
       "      <td>3.676540</td>\n",
       "      <td>6.030714</td>\n",
       "      <td>6.635780</td>\n",
       "      <td>5.153358</td>\n",
       "      <td>3.210663</td>\n",
       "      <td>2.511956</td>\n",
       "      <td>1.853247</td>\n",
       "      <td>1.525539</td>\n",
       "      <td>1.332680</td>\n",
       "    </tr>\n",
       "    <tr>\n",
       "      <th>SPAC1002.03c</th>\n",
       "      <td>1</td>\n",
       "      <td>0.922745</td>\n",
       "      <td>0.763064</td>\n",
       "      <td>0.749450</td>\n",
       "      <td>0.742595</td>\n",
       "      <td>0.771641</td>\n",
       "      <td>0.819817</td>\n",
       "      <td>0.859544</td>\n",
       "      <td>0.849914</td>\n",
       "      <td>0.838128</td>\n",
       "      <td>...</td>\n",
       "      <td>0.901151</td>\n",
       "      <td>0.828585</td>\n",
       "      <td>0.779982</td>\n",
       "      <td>0.767321</td>\n",
       "      <td>0.813157</td>\n",
       "      <td>0.830826</td>\n",
       "      <td>0.875965</td>\n",
       "      <td>0.938763</td>\n",
       "      <td>0.819587</td>\n",
       "      <td>0.850455</td>\n",
       "    </tr>\n",
       "    <tr>\n",
       "      <th>SPAC1002.04c</th>\n",
       "      <td>1</td>\n",
       "      <td>1.063774</td>\n",
       "      <td>1.109541</td>\n",
       "      <td>1.105289</td>\n",
       "      <td>1.256196</td>\n",
       "      <td>1.193269</td>\n",
       "      <td>0.834514</td>\n",
       "      <td>0.698355</td>\n",
       "      <td>0.714280</td>\n",
       "      <td>0.716728</td>\n",
       "      <td>...</td>\n",
       "      <td>0.834014</td>\n",
       "      <td>0.829090</td>\n",
       "      <td>0.911089</td>\n",
       "      <td>1.179868</td>\n",
       "      <td>1.106116</td>\n",
       "      <td>0.824800</td>\n",
       "      <td>0.652223</td>\n",
       "      <td>0.654474</td>\n",
       "      <td>0.618405</td>\n",
       "      <td>0.651751</td>\n",
       "    </tr>\n",
       "    <tr>\n",
       "      <th>SPAC1002.07c</th>\n",
       "      <td>1</td>\n",
       "      <td>0.946289</td>\n",
       "      <td>1.270676</td>\n",
       "      <td>1.577819</td>\n",
       "      <td>2.059521</td>\n",
       "      <td>2.079450</td>\n",
       "      <td>2.026755</td>\n",
       "      <td>1.934475</td>\n",
       "      <td>1.886784</td>\n",
       "      <td>1.820797</td>\n",
       "      <td>...</td>\n",
       "      <td>1.145764</td>\n",
       "      <td>1.396319</td>\n",
       "      <td>1.819543</td>\n",
       "      <td>2.141494</td>\n",
       "      <td>2.219369</td>\n",
       "      <td>2.134959</td>\n",
       "      <td>2.000173</td>\n",
       "      <td>1.983480</td>\n",
       "      <td>1.959289</td>\n",
       "      <td>1.902660</td>\n",
       "    </tr>\n",
       "    <tr>\n",
       "      <th>SPAC1002.09c</th>\n",
       "      <td>1</td>\n",
       "      <td>0.909058</td>\n",
       "      <td>0.871595</td>\n",
       "      <td>0.907030</td>\n",
       "      <td>0.941867</td>\n",
       "      <td>0.963464</td>\n",
       "      <td>0.963832</td>\n",
       "      <td>0.978117</td>\n",
       "      <td>1.026633</td>\n",
       "      <td>1.043288</td>\n",
       "      <td>...</td>\n",
       "      <td>0.917147</td>\n",
       "      <td>0.879789</td>\n",
       "      <td>0.881237</td>\n",
       "      <td>0.897882</td>\n",
       "      <td>0.903383</td>\n",
       "      <td>0.907655</td>\n",
       "      <td>0.899867</td>\n",
       "      <td>0.909359</td>\n",
       "      <td>0.945886</td>\n",
       "      <td>0.975173</td>\n",
       "    </tr>\n",
       "  </tbody>\n",
       "</table>\n",
       "<p>5 rows × 33 columns</p>\n",
       "</div>"
      ],
      "text/plain": [
       "              A_00      A_01      A_02      A_03      A_04      A_05  \\\n",
       "SPAC1002.02      1  1.451188  3.734827  6.181905  7.607555  5.215707   \n",
       "SPAC1002.03c     1  0.922745  0.763064  0.749450  0.742595  0.771641   \n",
       "SPAC1002.04c     1  1.063774  1.109541  1.105289  1.256196  1.193269   \n",
       "SPAC1002.07c     1  0.946289  1.270676  1.577819  2.059521  2.079450   \n",
       "SPAC1002.09c     1  0.909058  0.871595  0.907030  0.941867  0.963464   \n",
       "\n",
       "                  A_06      A_07      A_08      A_09    ...         C_01  \\\n",
       "SPAC1002.02   3.439898  2.598756  2.183230  1.811290    ...     1.555395   \n",
       "SPAC1002.03c  0.819817  0.859544  0.849914  0.838128    ...     0.901151   \n",
       "SPAC1002.04c  0.834514  0.698355  0.714280  0.716728    ...     0.834014   \n",
       "SPAC1002.07c  2.026755  1.934475  1.886784  1.820797    ...     1.145764   \n",
       "SPAC1002.09c  0.963832  0.978117  1.026633  1.043288    ...     0.917147   \n",
       "\n",
       "                  C_02      C_03      C_04      C_05      C_06      C_07  \\\n",
       "SPAC1002.02   3.676540  6.030714  6.635780  5.153358  3.210663  2.511956   \n",
       "SPAC1002.03c  0.828585  0.779982  0.767321  0.813157  0.830826  0.875965   \n",
       "SPAC1002.04c  0.829090  0.911089  1.179868  1.106116  0.824800  0.652223   \n",
       "SPAC1002.07c  1.396319  1.819543  2.141494  2.219369  2.134959  2.000173   \n",
       "SPAC1002.09c  0.879789  0.881237  0.897882  0.903383  0.907655  0.899867   \n",
       "\n",
       "                  C_08      C_09      C_10  \n",
       "SPAC1002.02   1.853247  1.525539  1.332680  \n",
       "SPAC1002.03c  0.938763  0.819587  0.850455  \n",
       "SPAC1002.04c  0.654474  0.618405  0.651751  \n",
       "SPAC1002.07c  1.983480  1.959289  1.902660  \n",
       "SPAC1002.09c  0.909359  0.945886  0.975173  \n",
       "\n",
       "[5 rows x 33 columns]"
      ]
     },
     "execution_count": 4,
     "metadata": {},
     "output_type": "execute_result"
    }
   ],
   "source": [
    "# preview of the raw protein data\n",
    "raw_data_prot.head()"
   ]
  },
  {
   "cell_type": "markdown",
   "metadata": {},
   "source": [
    "Processing proteins data"
   ]
  },
  {
   "cell_type": "code",
   "execution_count": 5,
   "metadata": {
    "collapsed": false
   },
   "outputs": [
    {
     "data": {
      "text/html": [
       "<div>\n",
       "<table border=\"1\" class=\"dataframe\">\n",
       "  <thead>\n",
       "    <tr style=\"text-align: right;\">\n",
       "      <th></th>\n",
       "      <th>t0</th>\n",
       "      <th>t1</th>\n",
       "      <th>t2</th>\n",
       "      <th>t3</th>\n",
       "      <th>t4</th>\n",
       "      <th>t5</th>\n",
       "      <th>t6</th>\n",
       "      <th>t7</th>\n",
       "      <th>t8</th>\n",
       "      <th>t9</th>\n",
       "      <th>t10</th>\n",
       "    </tr>\n",
       "  </thead>\n",
       "  <tbody>\n",
       "    <tr>\n",
       "      <th>SPAC1002.02</th>\n",
       "      <td>1.0</td>\n",
       "      <td>1.393371</td>\n",
       "      <td>3.257203</td>\n",
       "      <td>5.591645</td>\n",
       "      <td>6.932151</td>\n",
       "      <td>5.479337</td>\n",
       "      <td>3.574659</td>\n",
       "      <td>2.726113</td>\n",
       "      <td>2.114409</td>\n",
       "      <td>1.764191</td>\n",
       "      <td>1.439884</td>\n",
       "    </tr>\n",
       "    <tr>\n",
       "      <th>SPAC1002.03c</th>\n",
       "      <td>1.0</td>\n",
       "      <td>0.910152</td>\n",
       "      <td>0.785974</td>\n",
       "      <td>0.750362</td>\n",
       "      <td>0.746000</td>\n",
       "      <td>0.770242</td>\n",
       "      <td>0.800074</td>\n",
       "      <td>0.843706</td>\n",
       "      <td>0.872157</td>\n",
       "      <td>0.819914</td>\n",
       "      <td>0.839864</td>\n",
       "    </tr>\n",
       "    <tr>\n",
       "      <th>SPAC1002.04c</th>\n",
       "      <td>1.0</td>\n",
       "      <td>0.990121</td>\n",
       "      <td>0.980455</td>\n",
       "      <td>1.050549</td>\n",
       "      <td>1.248047</td>\n",
       "      <td>1.217455</td>\n",
       "      <td>0.880529</td>\n",
       "      <td>0.704999</td>\n",
       "      <td>0.712103</td>\n",
       "      <td>0.701598</td>\n",
       "      <td>0.795477</td>\n",
       "    </tr>\n",
       "    <tr>\n",
       "      <th>SPAC1002.07c</th>\n",
       "      <td>1.0</td>\n",
       "      <td>1.046894</td>\n",
       "      <td>1.307253</td>\n",
       "      <td>1.640936</td>\n",
       "      <td>2.070811</td>\n",
       "      <td>2.125540</td>\n",
       "      <td>2.078482</td>\n",
       "      <td>1.997900</td>\n",
       "      <td>1.900363</td>\n",
       "      <td>1.857979</td>\n",
       "      <td>1.780422</td>\n",
       "    </tr>\n",
       "    <tr>\n",
       "      <th>SPAC1002.09c</th>\n",
       "      <td>1.0</td>\n",
       "      <td>0.904997</td>\n",
       "      <td>0.855320</td>\n",
       "      <td>0.872414</td>\n",
       "      <td>0.904201</td>\n",
       "      <td>0.923575</td>\n",
       "      <td>0.932110</td>\n",
       "      <td>0.939830</td>\n",
       "      <td>0.961271</td>\n",
       "      <td>0.991512</td>\n",
       "      <td>1.018891</td>\n",
       "    </tr>\n",
       "  </tbody>\n",
       "</table>\n",
       "</div>"
      ],
      "text/plain": [
       "               t0        t1        t2        t3        t4        t5        t6  \\\n",
       "SPAC1002.02   1.0  1.393371  3.257203  5.591645  6.932151  5.479337  3.574659   \n",
       "SPAC1002.03c  1.0  0.910152  0.785974  0.750362  0.746000  0.770242  0.800074   \n",
       "SPAC1002.04c  1.0  0.990121  0.980455  1.050549  1.248047  1.217455  0.880529   \n",
       "SPAC1002.07c  1.0  1.046894  1.307253  1.640936  2.070811  2.125540  2.078482   \n",
       "SPAC1002.09c  1.0  0.904997  0.855320  0.872414  0.904201  0.923575  0.932110   \n",
       "\n",
       "                    t7        t8        t9       t10  \n",
       "SPAC1002.02   2.726113  2.114409  1.764191  1.439884  \n",
       "SPAC1002.03c  0.843706  0.872157  0.819914  0.839864  \n",
       "SPAC1002.04c  0.704999  0.712103  0.701598  0.795477  \n",
       "SPAC1002.07c  1.997900  1.900363  1.857979  1.780422  \n",
       "SPAC1002.09c  0.939830  0.961271  0.991512  1.018891  "
      ]
     },
     "execution_count": 5,
     "metadata": {},
     "output_type": "execute_result"
    }
   ],
   "source": [
    "# split protein data into 3 sets\n",
    "data_prot_A = pd.DataFrame(raw_data_prot.ix[:,0:11].values)\n",
    "data_prot_B = pd.DataFrame(raw_data_prot.ix[:,11:22].values)\n",
    "data_prot_C = pd.DataFrame(raw_data_prot.ix[:,22:33].values)\n",
    "\n",
    "# compute average of the 3 data sets\n",
    "data_prot = (data_prot_A + data_prot_B + data_prot_C).copy()/3.0\n",
    "\n",
    "# set columns and rows indexes\n",
    "data_prot.columns = ['t'+str(k) for k in range(0,11)]\n",
    "data_prot.index = raw_data_prot.index\n",
    "\n",
    "# show begining of dataframe\n",
    "data_prot.head()"
   ]
  },
  {
   "cell_type": "markdown",
   "metadata": {},
   "source": [
    "Processing mRNA data"
   ]
  },
  {
   "cell_type": "code",
   "execution_count": 6,
   "metadata": {
    "collapsed": false
   },
   "outputs": [
    {
     "data": {
      "text/html": [
       "<div>\n",
       "<table border=\"1\" class=\"dataframe\">\n",
       "  <thead>\n",
       "    <tr style=\"text-align: right;\">\n",
       "      <th></th>\n",
       "      <th>t0</th>\n",
       "      <th>t1</th>\n",
       "      <th>t2</th>\n",
       "      <th>t3</th>\n",
       "      <th>t4</th>\n",
       "      <th>t5</th>\n",
       "      <th>t6</th>\n",
       "      <th>t7</th>\n",
       "      <th>t8</th>\n",
       "      <th>t9</th>\n",
       "      <th>t10</th>\n",
       "      <th>t11</th>\n",
       "    </tr>\n",
       "  </thead>\n",
       "  <tbody>\n",
       "    <tr>\n",
       "      <th>SPBC1652.02 SPBC16A3.20C</th>\n",
       "      <td>1.0</td>\n",
       "      <td>22.703531</td>\n",
       "      <td>0.960360</td>\n",
       "      <td>0.544460</td>\n",
       "      <td>0.896232</td>\n",
       "      <td>1.160251</td>\n",
       "      <td>1.252143</td>\n",
       "      <td>2.309153</td>\n",
       "      <td>2.310750</td>\n",
       "      <td>2.449327</td>\n",
       "      <td>2.706837</td>\n",
       "      <td>3.064384</td>\n",
       "    </tr>\n",
       "    <tr>\n",
       "      <th>SPBC2D10.18</th>\n",
       "      <td>1.0</td>\n",
       "      <td>1.043491</td>\n",
       "      <td>0.622283</td>\n",
       "      <td>0.663191</td>\n",
       "      <td>0.619409</td>\n",
       "      <td>0.648403</td>\n",
       "      <td>0.662236</td>\n",
       "      <td>0.655953</td>\n",
       "      <td>0.580761</td>\n",
       "      <td>0.606205</td>\n",
       "      <td>0.752322</td>\n",
       "      <td>0.798264</td>\n",
       "    </tr>\n",
       "    <tr>\n",
       "      <th>SPAC9E9.12C</th>\n",
       "      <td>1.0</td>\n",
       "      <td>2.112546</td>\n",
       "      <td>0.906822</td>\n",
       "      <td>0.565746</td>\n",
       "      <td>0.535220</td>\n",
       "      <td>1.224398</td>\n",
       "      <td>10.170195</td>\n",
       "      <td>7.380023</td>\n",
       "      <td>4.455168</td>\n",
       "      <td>2.804587</td>\n",
       "      <td>1.657471</td>\n",
       "      <td>1.310630</td>\n",
       "    </tr>\n",
       "    <tr>\n",
       "      <th>SPBC1105.04C</th>\n",
       "      <td>1.0</td>\n",
       "      <td>1.351277</td>\n",
       "      <td>0.884985</td>\n",
       "      <td>0.705397</td>\n",
       "      <td>0.401055</td>\n",
       "      <td>0.202862</td>\n",
       "      <td>0.175360</td>\n",
       "      <td>0.829920</td>\n",
       "      <td>0.959749</td>\n",
       "      <td>1.121036</td>\n",
       "      <td>1.122949</td>\n",
       "      <td>1.103435</td>\n",
       "    </tr>\n",
       "    <tr>\n",
       "      <th>SPBC1861.02</th>\n",
       "      <td>1.0</td>\n",
       "      <td>0.816301</td>\n",
       "      <td>1.969788</td>\n",
       "      <td>1.736116</td>\n",
       "      <td>1.057102</td>\n",
       "      <td>0.494822</td>\n",
       "      <td>0.372226</td>\n",
       "      <td>0.533438</td>\n",
       "      <td>0.851486</td>\n",
       "      <td>0.989702</td>\n",
       "      <td>1.115665</td>\n",
       "      <td>1.159631</td>\n",
       "    </tr>\n",
       "  </tbody>\n",
       "</table>\n",
       "</div>"
      ],
      "text/plain": [
       "                           t0         t1        t2        t3        t4  \\\n",
       "SPBC1652.02 SPBC16A3.20C  1.0  22.703531  0.960360  0.544460  0.896232   \n",
       "SPBC2D10.18               1.0   1.043491  0.622283  0.663191  0.619409   \n",
       "SPAC9E9.12C               1.0   2.112546  0.906822  0.565746  0.535220   \n",
       "SPBC1105.04C              1.0   1.351277  0.884985  0.705397  0.401055   \n",
       "SPBC1861.02               1.0   0.816301  1.969788  1.736116  1.057102   \n",
       "\n",
       "                                t5         t6        t7        t8        t9  \\\n",
       "SPBC1652.02 SPBC16A3.20C  1.160251   1.252143  2.309153  2.310750  2.449327   \n",
       "SPBC2D10.18               0.648403   0.662236  0.655953  0.580761  0.606205   \n",
       "SPAC9E9.12C               1.224398  10.170195  7.380023  4.455168  2.804587   \n",
       "SPBC1105.04C              0.202862   0.175360  0.829920  0.959749  1.121036   \n",
       "SPBC1861.02               0.494822   0.372226  0.533438  0.851486  0.989702   \n",
       "\n",
       "                               t10       t11  \n",
       "SPBC1652.02 SPBC16A3.20C  2.706837  3.064384  \n",
       "SPBC2D10.18               0.752322  0.798264  \n",
       "SPAC9E9.12C               1.657471  1.310630  \n",
       "SPBC1105.04C              1.122949  1.103435  \n",
       "SPBC1861.02               1.115665  1.159631  "
      ]
     },
     "execution_count": 6,
     "metadata": {},
     "output_type": "execute_result"
    }
   ],
   "source": [
    "# remove first 2 columns (TODO: need to check if it removes useful names)\n",
    "data_mRNA = raw_data_mRNA.drop([0,1], axis=1).copy()\n",
    "\n",
    "# set columns indexes\n",
    "data_mRNA.set_index([2], inplace=True)\n",
    "data_mRNA.index.name = None\n",
    "data_mRNA.columns = ['t'+str(k) for k in range(0,12)]\n",
    "\n",
    "# drop data without values\n",
    "data_mRNA.dropna(how='all', inplace=True)\n",
    "\n",
    "# show begining of dataframe\n",
    "data_mRNA.head()"
   ]
  },
  {
   "cell_type": "markdown",
   "metadata": {},
   "source": [
    "Some of the values in mRNA are duplicates and need to be dealt with"
   ]
  },
  {
   "cell_type": "code",
   "execution_count": 7,
   "metadata": {
    "collapsed": false
   },
   "outputs": [
    {
     "data": {
      "text/html": [
       "<div>\n",
       "<table border=\"1\" class=\"dataframe\">\n",
       "  <thead>\n",
       "    <tr style=\"text-align: right;\">\n",
       "      <th></th>\n",
       "      <th>0</th>\n",
       "      <th>1</th>\n",
       "      <th>2</th>\n",
       "      <th>3</th>\n",
       "      <th>4</th>\n",
       "      <th>5</th>\n",
       "      <th>6</th>\n",
       "      <th>7</th>\n",
       "      <th>8</th>\n",
       "      <th>9</th>\n",
       "      <th>10</th>\n",
       "      <th>11</th>\n",
       "      <th>12</th>\n",
       "      <th>13</th>\n",
       "      <th>14</th>\n",
       "    </tr>\n",
       "  </thead>\n",
       "  <tbody>\n",
       "    <tr>\n",
       "      <th>3590</th>\n",
       "      <td>cox4</td>\n",
       "      <td>COX4</td>\n",
       "      <td>SPAC1296.02</td>\n",
       "      <td>1.0</td>\n",
       "      <td>1.180228</td>\n",
       "      <td>0.838821</td>\n",
       "      <td>0.896886</td>\n",
       "      <td>0.820098</td>\n",
       "      <td>0.888293</td>\n",
       "      <td>1.236810</td>\n",
       "      <td>0.459174</td>\n",
       "      <td>0.457562</td>\n",
       "      <td>0.383835</td>\n",
       "      <td>0.393150</td>\n",
       "      <td>0.420465</td>\n",
       "    </tr>\n",
       "    <tr>\n",
       "      <th>3815</th>\n",
       "      <td>I18_cox4</td>\n",
       "      <td>COX4</td>\n",
       "      <td>SPAC1296.02</td>\n",
       "      <td>1.0</td>\n",
       "      <td>2.538960</td>\n",
       "      <td>1.661950</td>\n",
       "      <td>1.570960</td>\n",
       "      <td>1.675280</td>\n",
       "      <td>1.842940</td>\n",
       "      <td>2.966420</td>\n",
       "      <td>1.721756</td>\n",
       "      <td>NaN</td>\n",
       "      <td>1.758280</td>\n",
       "      <td>1.693030</td>\n",
       "      <td>1.982149</td>\n",
       "    </tr>\n",
       "    <tr>\n",
       "      <th>507</th>\n",
       "      <td>C13G7.02c.B</td>\n",
       "      <td>NaN</td>\n",
       "      <td>SPAC13G7.02C</td>\n",
       "      <td>1.0</td>\n",
       "      <td>0.480851</td>\n",
       "      <td>1.821550</td>\n",
       "      <td>2.200407</td>\n",
       "      <td>2.647362</td>\n",
       "      <td>3.204608</td>\n",
       "      <td>2.962069</td>\n",
       "      <td>0.816963</td>\n",
       "      <td>0.817025</td>\n",
       "      <td>0.790903</td>\n",
       "      <td>1.049258</td>\n",
       "      <td>1.244611</td>\n",
       "    </tr>\n",
       "    <tr>\n",
       "      <th>505</th>\n",
       "      <td>C13G7.02c</td>\n",
       "      <td>NaN</td>\n",
       "      <td>SPAC13G7.02C</td>\n",
       "      <td>NaN</td>\n",
       "      <td>NaN</td>\n",
       "      <td>NaN</td>\n",
       "      <td>NaN</td>\n",
       "      <td>NaN</td>\n",
       "      <td>NaN</td>\n",
       "      <td>NaN</td>\n",
       "      <td>NaN</td>\n",
       "      <td>NaN</td>\n",
       "      <td>NaN</td>\n",
       "      <td>NaN</td>\n",
       "      <td>NaN</td>\n",
       "    </tr>\n",
       "    <tr>\n",
       "      <th>506</th>\n",
       "      <td>C13G7.02c.A</td>\n",
       "      <td>NaN</td>\n",
       "      <td>SPAC13G7.02C</td>\n",
       "      <td>1.0</td>\n",
       "      <td>1.139014</td>\n",
       "      <td>5.825920</td>\n",
       "      <td>7.595293</td>\n",
       "      <td>19.737550</td>\n",
       "      <td>24.382723</td>\n",
       "      <td>27.602160</td>\n",
       "      <td>7.971517</td>\n",
       "      <td>6.919817</td>\n",
       "      <td>9.305873</td>\n",
       "      <td>12.082448</td>\n",
       "      <td>14.460800</td>\n",
       "    </tr>\n",
       "  </tbody>\n",
       "</table>\n",
       "</div>"
      ],
      "text/plain": [
       "               0     1             2    3         4         5         6   \\\n",
       "3590         cox4  COX4   SPAC1296.02  1.0  1.180228  0.838821  0.896886   \n",
       "3815     I18_cox4  COX4   SPAC1296.02  1.0  2.538960  1.661950  1.570960   \n",
       "507   C13G7.02c.B   NaN  SPAC13G7.02C  1.0  0.480851  1.821550  2.200407   \n",
       "505     C13G7.02c   NaN  SPAC13G7.02C  NaN       NaN       NaN       NaN   \n",
       "506   C13G7.02c.A   NaN  SPAC13G7.02C  1.0  1.139014  5.825920  7.595293   \n",
       "\n",
       "             7          8          9         10        11        12  \\\n",
       "3590   0.820098   0.888293   1.236810  0.459174  0.457562  0.383835   \n",
       "3815   1.675280   1.842940   2.966420  1.721756       NaN  1.758280   \n",
       "507    2.647362   3.204608   2.962069  0.816963  0.817025  0.790903   \n",
       "505         NaN        NaN        NaN       NaN       NaN       NaN   \n",
       "506   19.737550  24.382723  27.602160  7.971517  6.919817  9.305873   \n",
       "\n",
       "             13         14  \n",
       "3590   0.393150   0.420465  \n",
       "3815   1.693030   1.982149  \n",
       "507    1.049258   1.244611  \n",
       "505         NaN        NaN  \n",
       "506   12.082448  14.460800  "
      ]
     },
     "execution_count": 7,
     "metadata": {},
     "output_type": "execute_result"
    }
   ],
   "source": [
    "duplicated_data_mRNA = raw_data_mRNA[raw_data_mRNA[[2]].isin(data_mRNA[data_mRNA.index.duplicated()].index).values].copy()\n",
    "duplicated_data_mRNA = duplicated_data_mRNA.sort_values([2])\n",
    "\n",
    "# save duplicated mRNA data\n",
    "duplicated_data_mRNA.to_csv('data/duplicated_mRNA.csv')\n",
    "\n",
    "# show preview\n",
    "duplicated_data_mRNA.head()"
   ]
  },
  {
   "cell_type": "markdown",
   "metadata": {
    "collapsed": false
   },
   "source": [
    "Extracting data with common index between the protein and mRNA data"
   ]
  },
  {
   "cell_type": "code",
   "execution_count": 8,
   "metadata": {
    "collapsed": false
   },
   "outputs": [
    {
     "data": {
      "text/html": [
       "<div>\n",
       "<table border=\"1\" class=\"dataframe\">\n",
       "  <thead>\n",
       "    <tr style=\"text-align: right;\">\n",
       "      <th></th>\n",
       "      <th>t0</th>\n",
       "      <th>t1</th>\n",
       "      <th>t2</th>\n",
       "      <th>t3</th>\n",
       "      <th>t4</th>\n",
       "      <th>t5</th>\n",
       "      <th>t6</th>\n",
       "      <th>t7</th>\n",
       "      <th>t8</th>\n",
       "      <th>t9</th>\n",
       "      <th>t10</th>\n",
       "      <th>t11</th>\n",
       "    </tr>\n",
       "  </thead>\n",
       "  <tbody>\n",
       "    <tr>\n",
       "      <th>SPBC2D10.18</th>\n",
       "      <td>1.0</td>\n",
       "      <td>1.043491</td>\n",
       "      <td>0.622283</td>\n",
       "      <td>0.663191</td>\n",
       "      <td>0.619409</td>\n",
       "      <td>0.648403</td>\n",
       "      <td>0.662236</td>\n",
       "      <td>0.655953</td>\n",
       "      <td>0.580761</td>\n",
       "      <td>0.606205</td>\n",
       "      <td>0.752322</td>\n",
       "      <td>0.798264</td>\n",
       "    </tr>\n",
       "    <tr>\n",
       "      <th>SPBC1105.04C</th>\n",
       "      <td>1.0</td>\n",
       "      <td>1.351277</td>\n",
       "      <td>0.884985</td>\n",
       "      <td>0.705397</td>\n",
       "      <td>0.401055</td>\n",
       "      <td>0.202862</td>\n",
       "      <td>0.175360</td>\n",
       "      <td>0.829920</td>\n",
       "      <td>0.959749</td>\n",
       "      <td>1.121036</td>\n",
       "      <td>1.122949</td>\n",
       "      <td>1.103435</td>\n",
       "    </tr>\n",
       "    <tr>\n",
       "      <th>SPBC32H8.12C</th>\n",
       "      <td>1.0</td>\n",
       "      <td>0.621846</td>\n",
       "      <td>0.325697</td>\n",
       "      <td>0.390388</td>\n",
       "      <td>0.419048</td>\n",
       "      <td>0.435039</td>\n",
       "      <td>0.539601</td>\n",
       "      <td>0.403898</td>\n",
       "      <td>0.337072</td>\n",
       "      <td>0.281851</td>\n",
       "      <td>0.265122</td>\n",
       "      <td>0.281973</td>\n",
       "    </tr>\n",
       "    <tr>\n",
       "      <th>SPAC630.03</th>\n",
       "      <td>1.0</td>\n",
       "      <td>0.945575</td>\n",
       "      <td>0.576106</td>\n",
       "      <td>0.698916</td>\n",
       "      <td>0.638058</td>\n",
       "      <td>0.423130</td>\n",
       "      <td>0.352959</td>\n",
       "      <td>0.746192</td>\n",
       "      <td>0.829190</td>\n",
       "      <td>0.843786</td>\n",
       "      <td>0.889201</td>\n",
       "      <td>0.842393</td>\n",
       "    </tr>\n",
       "    <tr>\n",
       "      <th>SPBC106.04</th>\n",
       "      <td>1.0</td>\n",
       "      <td>0.871751</td>\n",
       "      <td>0.869876</td>\n",
       "      <td>1.023361</td>\n",
       "      <td>0.727945</td>\n",
       "      <td>0.261486</td>\n",
       "      <td>0.143920</td>\n",
       "      <td>0.437443</td>\n",
       "      <td>0.805628</td>\n",
       "      <td>0.984534</td>\n",
       "      <td>0.974699</td>\n",
       "      <td>1.019219</td>\n",
       "    </tr>\n",
       "  </tbody>\n",
       "</table>\n",
       "</div>"
      ],
      "text/plain": [
       "               t0        t1        t2        t3        t4        t5        t6  \\\n",
       "SPBC2D10.18   1.0  1.043491  0.622283  0.663191  0.619409  0.648403  0.662236   \n",
       "SPBC1105.04C  1.0  1.351277  0.884985  0.705397  0.401055  0.202862  0.175360   \n",
       "SPBC32H8.12C  1.0  0.621846  0.325697  0.390388  0.419048  0.435039  0.539601   \n",
       "SPAC630.03    1.0  0.945575  0.576106  0.698916  0.638058  0.423130  0.352959   \n",
       "SPBC106.04    1.0  0.871751  0.869876  1.023361  0.727945  0.261486  0.143920   \n",
       "\n",
       "                    t7        t8        t9       t10       t11  \n",
       "SPBC2D10.18   0.655953  0.580761  0.606205  0.752322  0.798264  \n",
       "SPBC1105.04C  0.829920  0.959749  1.121036  1.122949  1.103435  \n",
       "SPBC32H8.12C  0.403898  0.337072  0.281851  0.265122  0.281973  \n",
       "SPAC630.03    0.746192  0.829190  0.843786  0.889201  0.842393  \n",
       "SPBC106.04    0.437443  0.805628  0.984534  0.974699  1.019219  "
      ]
     },
     "execution_count": 8,
     "metadata": {},
     "output_type": "execute_result"
    }
   ],
   "source": [
    "# create the pattern and the filter\n",
    "pattern = '|'.join(data_prot.index.values)\n",
    "filter_ = data_mRNA.index.str.contains(pattern, case=False, na=False)\n",
    "\n",
    "# extract mRNA data with corresponding protein name\n",
    "data_mRNA = data_mRNA[filter_]\n",
    "\n",
    "# show preview\n",
    "data_mRNA.head()"
   ]
  },
  {
   "cell_type": "code",
   "execution_count": 9,
   "metadata": {
    "collapsed": false
   },
   "outputs": [
    {
     "name": "stdout",
     "output_type": "stream",
     "text": [
      "Size of the protein data: (2969, 11)\n",
      "Size of the filtered mRNA data: (2898, 12)\n",
      "Lost entries: 71\n"
     ]
    }
   ],
   "source": [
    "# comparing size of protein data and filtered mRNA data\n",
    "print('Size of the protein data:', data_prot.shape)\n",
    "print('Size of the filtered mRNA data:', data_mRNA.shape)\n",
    "print('Lost entries:', data_prot.shape[0]-data_mRNA.shape[0])"
   ]
  },
  {
   "cell_type": "markdown",
   "metadata": {
    "collapsed": true
   },
   "source": [
    "We lost 71 entries in the protein data which are not in the mRNA data. 5 entries might correspond to the last 5 entries of the protein data. The others come from the non available data in the mRNA data."
   ]
  },
  {
   "cell_type": "code",
   "execution_count": 10,
   "metadata": {
    "collapsed": false
   },
   "outputs": [],
   "source": [
    "# get list of indexes and names to sort and finalizing mergin of the two data frames\n",
    "idxname = np.array([], dtype=int)\n",
    "listname = np.array([], dtype=object)\n",
    "for name in data_prot.index.values:\n",
    "    filter_ = data_mRNA.index.str.contains(name, case=False, na=False)\n",
    "    \n",
    "    if len(data_mRNA[filter_].index)==1:\n",
    "        idxname = np.append(idxname, data_mRNA.index.get_loc(data_mRNA[filter_].index[0]))\n",
    "        listname = np.append(listname, name)"
   ]
  },
  {
   "cell_type": "code",
   "execution_count": 11,
   "metadata": {
    "collapsed": false,
    "scrolled": false
   },
   "outputs": [
    {
     "data": {
      "text/html": [
       "<div>\n",
       "<table border=\"1\" class=\"dataframe\">\n",
       "  <thead>\n",
       "    <tr style=\"text-align: right;\">\n",
       "      <th></th>\n",
       "      <th>t0</th>\n",
       "      <th>t1</th>\n",
       "      <th>t2</th>\n",
       "      <th>t3</th>\n",
       "      <th>t4</th>\n",
       "      <th>t5</th>\n",
       "      <th>t6</th>\n",
       "      <th>t7</th>\n",
       "      <th>t8</th>\n",
       "      <th>t9</th>\n",
       "      <th>t10</th>\n",
       "      <th>t11</th>\n",
       "    </tr>\n",
       "  </thead>\n",
       "  <tbody>\n",
       "    <tr>\n",
       "      <th>SPAC1002.02</th>\n",
       "      <td>1.0</td>\n",
       "      <td>1.035300</td>\n",
       "      <td>2.905877</td>\n",
       "      <td>4.153496</td>\n",
       "      <td>4.783120</td>\n",
       "      <td>2.603015</td>\n",
       "      <td>1.647060</td>\n",
       "      <td>1.481230</td>\n",
       "      <td>1.616345</td>\n",
       "      <td>1.347246</td>\n",
       "      <td>1.122512</td>\n",
       "      <td>1.064692</td>\n",
       "    </tr>\n",
       "    <tr>\n",
       "      <th>SPAC1002.03c</th>\n",
       "      <td>1.0</td>\n",
       "      <td>0.958027</td>\n",
       "      <td>0.676712</td>\n",
       "      <td>0.703215</td>\n",
       "      <td>0.747138</td>\n",
       "      <td>0.861940</td>\n",
       "      <td>1.257074</td>\n",
       "      <td>1.235414</td>\n",
       "      <td>0.950157</td>\n",
       "      <td>0.988842</td>\n",
       "      <td>1.161624</td>\n",
       "      <td>1.166776</td>\n",
       "    </tr>\n",
       "    <tr>\n",
       "      <th>SPAC1002.04c</th>\n",
       "      <td>1.0</td>\n",
       "      <td>1.133477</td>\n",
       "      <td>1.140642</td>\n",
       "      <td>1.189899</td>\n",
       "      <td>1.622498</td>\n",
       "      <td>2.308321</td>\n",
       "      <td>3.020603</td>\n",
       "      <td>1.853997</td>\n",
       "      <td>1.714919</td>\n",
       "      <td>1.682955</td>\n",
       "      <td>1.530989</td>\n",
       "      <td>1.539161</td>\n",
       "    </tr>\n",
       "    <tr>\n",
       "      <th>SPAC1002.07c</th>\n",
       "      <td>1.0</td>\n",
       "      <td>0.783431</td>\n",
       "      <td>1.362667</td>\n",
       "      <td>1.602399</td>\n",
       "      <td>1.836938</td>\n",
       "      <td>1.938045</td>\n",
       "      <td>1.969526</td>\n",
       "      <td>0.570085</td>\n",
       "      <td>0.593492</td>\n",
       "      <td>0.524142</td>\n",
       "      <td>0.437590</td>\n",
       "      <td>0.482167</td>\n",
       "    </tr>\n",
       "    <tr>\n",
       "      <th>SPAC1002.09c</th>\n",
       "      <td>1.0</td>\n",
       "      <td>0.728322</td>\n",
       "      <td>0.701878</td>\n",
       "      <td>1.354810</td>\n",
       "      <td>1.140213</td>\n",
       "      <td>0.637736</td>\n",
       "      <td>0.368306</td>\n",
       "      <td>0.276762</td>\n",
       "      <td>0.236933</td>\n",
       "      <td>0.258554</td>\n",
       "      <td>0.260154</td>\n",
       "      <td>0.297513</td>\n",
       "    </tr>\n",
       "  </tbody>\n",
       "</table>\n",
       "</div>"
      ],
      "text/plain": [
       "               t0        t1        t2        t3        t4        t5        t6  \\\n",
       "SPAC1002.02   1.0  1.035300  2.905877  4.153496  4.783120  2.603015  1.647060   \n",
       "SPAC1002.03c  1.0  0.958027  0.676712  0.703215  0.747138  0.861940  1.257074   \n",
       "SPAC1002.04c  1.0  1.133477  1.140642  1.189899  1.622498  2.308321  3.020603   \n",
       "SPAC1002.07c  1.0  0.783431  1.362667  1.602399  1.836938  1.938045  1.969526   \n",
       "SPAC1002.09c  1.0  0.728322  0.701878  1.354810  1.140213  0.637736  0.368306   \n",
       "\n",
       "                    t7        t8        t9       t10       t11  \n",
       "SPAC1002.02   1.481230  1.616345  1.347246  1.122512  1.064692  \n",
       "SPAC1002.03c  1.235414  0.950157  0.988842  1.161624  1.166776  \n",
       "SPAC1002.04c  1.853997  1.714919  1.682955  1.530989  1.539161  \n",
       "SPAC1002.07c  0.570085  0.593492  0.524142  0.437590  0.482167  \n",
       "SPAC1002.09c  0.276762  0.236933  0.258554  0.260154  0.297513  "
      ]
     },
     "execution_count": 11,
     "metadata": {},
     "output_type": "execute_result"
    }
   ],
   "source": [
    "# sorting data and removing duplicated keys for the mRNA data\n",
    "data_mRNA_sorted = data_mRNA.iloc[list(idxname)]\n",
    "data_mRNA_sorted.set_index([listname.tolist()], inplace=True)\n",
    "data_mRNA_sorted.head()"
   ]
  },
  {
   "cell_type": "code",
   "execution_count": 12,
   "metadata": {
    "collapsed": false
   },
   "outputs": [
    {
     "data": {
      "text/html": [
       "<div>\n",
       "<table border=\"1\" class=\"dataframe\">\n",
       "  <thead>\n",
       "    <tr style=\"text-align: right;\">\n",
       "      <th></th>\n",
       "      <th>t0</th>\n",
       "      <th>t1</th>\n",
       "      <th>t2</th>\n",
       "      <th>t3</th>\n",
       "      <th>t4</th>\n",
       "      <th>t5</th>\n",
       "      <th>t6</th>\n",
       "      <th>t7</th>\n",
       "      <th>t8</th>\n",
       "      <th>t9</th>\n",
       "      <th>t10</th>\n",
       "    </tr>\n",
       "  </thead>\n",
       "  <tbody>\n",
       "    <tr>\n",
       "      <th>SPAC1002.02</th>\n",
       "      <td>1.0</td>\n",
       "      <td>1.393371</td>\n",
       "      <td>3.257203</td>\n",
       "      <td>5.591645</td>\n",
       "      <td>6.932151</td>\n",
       "      <td>5.479337</td>\n",
       "      <td>3.574659</td>\n",
       "      <td>2.726113</td>\n",
       "      <td>2.114409</td>\n",
       "      <td>1.764191</td>\n",
       "      <td>1.439884</td>\n",
       "    </tr>\n",
       "    <tr>\n",
       "      <th>SPAC1002.03c</th>\n",
       "      <td>1.0</td>\n",
       "      <td>0.910152</td>\n",
       "      <td>0.785974</td>\n",
       "      <td>0.750362</td>\n",
       "      <td>0.746000</td>\n",
       "      <td>0.770242</td>\n",
       "      <td>0.800074</td>\n",
       "      <td>0.843706</td>\n",
       "      <td>0.872157</td>\n",
       "      <td>0.819914</td>\n",
       "      <td>0.839864</td>\n",
       "    </tr>\n",
       "    <tr>\n",
       "      <th>SPAC1002.04c</th>\n",
       "      <td>1.0</td>\n",
       "      <td>0.990121</td>\n",
       "      <td>0.980455</td>\n",
       "      <td>1.050549</td>\n",
       "      <td>1.248047</td>\n",
       "      <td>1.217455</td>\n",
       "      <td>0.880529</td>\n",
       "      <td>0.704999</td>\n",
       "      <td>0.712103</td>\n",
       "      <td>0.701598</td>\n",
       "      <td>0.795477</td>\n",
       "    </tr>\n",
       "    <tr>\n",
       "      <th>SPAC1002.07c</th>\n",
       "      <td>1.0</td>\n",
       "      <td>1.046894</td>\n",
       "      <td>1.307253</td>\n",
       "      <td>1.640936</td>\n",
       "      <td>2.070811</td>\n",
       "      <td>2.125540</td>\n",
       "      <td>2.078482</td>\n",
       "      <td>1.997900</td>\n",
       "      <td>1.900363</td>\n",
       "      <td>1.857979</td>\n",
       "      <td>1.780422</td>\n",
       "    </tr>\n",
       "    <tr>\n",
       "      <th>SPAC1002.09c</th>\n",
       "      <td>1.0</td>\n",
       "      <td>0.904997</td>\n",
       "      <td>0.855320</td>\n",
       "      <td>0.872414</td>\n",
       "      <td>0.904201</td>\n",
       "      <td>0.923575</td>\n",
       "      <td>0.932110</td>\n",
       "      <td>0.939830</td>\n",
       "      <td>0.961271</td>\n",
       "      <td>0.991512</td>\n",
       "      <td>1.018891</td>\n",
       "    </tr>\n",
       "  </tbody>\n",
       "</table>\n",
       "</div>"
      ],
      "text/plain": [
       "               t0        t1        t2        t3        t4        t5        t6  \\\n",
       "SPAC1002.02   1.0  1.393371  3.257203  5.591645  6.932151  5.479337  3.574659   \n",
       "SPAC1002.03c  1.0  0.910152  0.785974  0.750362  0.746000  0.770242  0.800074   \n",
       "SPAC1002.04c  1.0  0.990121  0.980455  1.050549  1.248047  1.217455  0.880529   \n",
       "SPAC1002.07c  1.0  1.046894  1.307253  1.640936  2.070811  2.125540  2.078482   \n",
       "SPAC1002.09c  1.0  0.904997  0.855320  0.872414  0.904201  0.923575  0.932110   \n",
       "\n",
       "                    t7        t8        t9       t10  \n",
       "SPAC1002.02   2.726113  2.114409  1.764191  1.439884  \n",
       "SPAC1002.03c  0.843706  0.872157  0.819914  0.839864  \n",
       "SPAC1002.04c  0.704999  0.712103  0.701598  0.795477  \n",
       "SPAC1002.07c  1.997900  1.900363  1.857979  1.780422  \n",
       "SPAC1002.09c  0.939830  0.961271  0.991512  1.018891  "
      ]
     },
     "execution_count": 12,
     "metadata": {},
     "output_type": "execute_result"
    }
   ],
   "source": [
    "# removing non existant keys in protein data\n",
    "data_prot_filtered = data_prot.loc[listname]\n",
    "data_prot_filtered.head()"
   ]
  },
  {
   "cell_type": "code",
   "execution_count": 13,
   "metadata": {
    "collapsed": false
   },
   "outputs": [
    {
     "name": "stdout",
     "output_type": "stream",
     "text": [
      "Size of the filtered protein data: (2830, 11)\n",
      "Size of the filtered and sorted mRNA data: (2830, 12)\n"
     ]
    }
   ],
   "source": [
    "print('Size of the filtered protein data:', data_prot_filtered.shape)\n",
    "print('Size of the filtered and sorted mRNA data:', data_mRNA_sorted.shape)"
   ]
  },
  {
   "cell_type": "markdown",
   "metadata": {
    "collapsed": false
   },
   "source": [
    "Joining the two tables"
   ]
  },
  {
   "cell_type": "code",
   "execution_count": 16,
   "metadata": {
    "collapsed": false
   },
   "outputs": [
    {
     "name": "stdout",
     "output_type": "stream",
     "text": [
      "Size of joined data: (2830, 23)\n"
     ]
    },
    {
     "data": {
      "text/html": [
       "<div>\n",
       "<table border=\"1\" class=\"dataframe\">\n",
       "  <thead>\n",
       "    <tr style=\"text-align: right;\">\n",
       "      <th></th>\n",
       "      <th>t0m</th>\n",
       "      <th>t1m</th>\n",
       "      <th>t2m</th>\n",
       "      <th>t3m</th>\n",
       "      <th>t4m</th>\n",
       "      <th>t5m</th>\n",
       "      <th>t6m</th>\n",
       "      <th>t7m</th>\n",
       "      <th>t8m</th>\n",
       "      <th>t9m</th>\n",
       "      <th>...</th>\n",
       "      <th>t1p</th>\n",
       "      <th>t2p</th>\n",
       "      <th>t3p</th>\n",
       "      <th>t4p</th>\n",
       "      <th>t5p</th>\n",
       "      <th>t6p</th>\n",
       "      <th>t7p</th>\n",
       "      <th>t8p</th>\n",
       "      <th>t9p</th>\n",
       "      <th>t10p</th>\n",
       "    </tr>\n",
       "  </thead>\n",
       "  <tbody>\n",
       "    <tr>\n",
       "      <th>SPAC1002.02</th>\n",
       "      <td>1.0</td>\n",
       "      <td>1.035300</td>\n",
       "      <td>2.905877</td>\n",
       "      <td>4.153496</td>\n",
       "      <td>4.783120</td>\n",
       "      <td>2.603015</td>\n",
       "      <td>1.647060</td>\n",
       "      <td>1.481230</td>\n",
       "      <td>1.616345</td>\n",
       "      <td>1.347246</td>\n",
       "      <td>...</td>\n",
       "      <td>1.393371</td>\n",
       "      <td>3.257203</td>\n",
       "      <td>5.591645</td>\n",
       "      <td>6.932151</td>\n",
       "      <td>5.479337</td>\n",
       "      <td>3.574659</td>\n",
       "      <td>2.726113</td>\n",
       "      <td>2.114409</td>\n",
       "      <td>1.764191</td>\n",
       "      <td>1.439884</td>\n",
       "    </tr>\n",
       "    <tr>\n",
       "      <th>SPAC1002.03c</th>\n",
       "      <td>1.0</td>\n",
       "      <td>0.958027</td>\n",
       "      <td>0.676712</td>\n",
       "      <td>0.703215</td>\n",
       "      <td>0.747138</td>\n",
       "      <td>0.861940</td>\n",
       "      <td>1.257074</td>\n",
       "      <td>1.235414</td>\n",
       "      <td>0.950157</td>\n",
       "      <td>0.988842</td>\n",
       "      <td>...</td>\n",
       "      <td>0.910152</td>\n",
       "      <td>0.785974</td>\n",
       "      <td>0.750362</td>\n",
       "      <td>0.746000</td>\n",
       "      <td>0.770242</td>\n",
       "      <td>0.800074</td>\n",
       "      <td>0.843706</td>\n",
       "      <td>0.872157</td>\n",
       "      <td>0.819914</td>\n",
       "      <td>0.839864</td>\n",
       "    </tr>\n",
       "    <tr>\n",
       "      <th>SPAC1002.04c</th>\n",
       "      <td>1.0</td>\n",
       "      <td>1.133477</td>\n",
       "      <td>1.140642</td>\n",
       "      <td>1.189899</td>\n",
       "      <td>1.622498</td>\n",
       "      <td>2.308321</td>\n",
       "      <td>3.020603</td>\n",
       "      <td>1.853997</td>\n",
       "      <td>1.714919</td>\n",
       "      <td>1.682955</td>\n",
       "      <td>...</td>\n",
       "      <td>0.990121</td>\n",
       "      <td>0.980455</td>\n",
       "      <td>1.050549</td>\n",
       "      <td>1.248047</td>\n",
       "      <td>1.217455</td>\n",
       "      <td>0.880529</td>\n",
       "      <td>0.704999</td>\n",
       "      <td>0.712103</td>\n",
       "      <td>0.701598</td>\n",
       "      <td>0.795477</td>\n",
       "    </tr>\n",
       "    <tr>\n",
       "      <th>SPAC1002.07c</th>\n",
       "      <td>1.0</td>\n",
       "      <td>0.783431</td>\n",
       "      <td>1.362667</td>\n",
       "      <td>1.602399</td>\n",
       "      <td>1.836938</td>\n",
       "      <td>1.938045</td>\n",
       "      <td>1.969526</td>\n",
       "      <td>0.570085</td>\n",
       "      <td>0.593492</td>\n",
       "      <td>0.524142</td>\n",
       "      <td>...</td>\n",
       "      <td>1.046894</td>\n",
       "      <td>1.307253</td>\n",
       "      <td>1.640936</td>\n",
       "      <td>2.070811</td>\n",
       "      <td>2.125540</td>\n",
       "      <td>2.078482</td>\n",
       "      <td>1.997900</td>\n",
       "      <td>1.900363</td>\n",
       "      <td>1.857979</td>\n",
       "      <td>1.780422</td>\n",
       "    </tr>\n",
       "    <tr>\n",
       "      <th>SPAC1002.09c</th>\n",
       "      <td>1.0</td>\n",
       "      <td>0.728322</td>\n",
       "      <td>0.701878</td>\n",
       "      <td>1.354810</td>\n",
       "      <td>1.140213</td>\n",
       "      <td>0.637736</td>\n",
       "      <td>0.368306</td>\n",
       "      <td>0.276762</td>\n",
       "      <td>0.236933</td>\n",
       "      <td>0.258554</td>\n",
       "      <td>...</td>\n",
       "      <td>0.904997</td>\n",
       "      <td>0.855320</td>\n",
       "      <td>0.872414</td>\n",
       "      <td>0.904201</td>\n",
       "      <td>0.923575</td>\n",
       "      <td>0.932110</td>\n",
       "      <td>0.939830</td>\n",
       "      <td>0.961271</td>\n",
       "      <td>0.991512</td>\n",
       "      <td>1.018891</td>\n",
       "    </tr>\n",
       "  </tbody>\n",
       "</table>\n",
       "<p>5 rows × 23 columns</p>\n",
       "</div>"
      ],
      "text/plain": [
       "              t0m       t1m       t2m       t3m       t4m       t5m       t6m  \\\n",
       "SPAC1002.02   1.0  1.035300  2.905877  4.153496  4.783120  2.603015  1.647060   \n",
       "SPAC1002.03c  1.0  0.958027  0.676712  0.703215  0.747138  0.861940  1.257074   \n",
       "SPAC1002.04c  1.0  1.133477  1.140642  1.189899  1.622498  2.308321  3.020603   \n",
       "SPAC1002.07c  1.0  0.783431  1.362667  1.602399  1.836938  1.938045  1.969526   \n",
       "SPAC1002.09c  1.0  0.728322  0.701878  1.354810  1.140213  0.637736  0.368306   \n",
       "\n",
       "                   t7m       t8m       t9m    ...          t1p       t2p  \\\n",
       "SPAC1002.02   1.481230  1.616345  1.347246    ...     1.393371  3.257203   \n",
       "SPAC1002.03c  1.235414  0.950157  0.988842    ...     0.910152  0.785974   \n",
       "SPAC1002.04c  1.853997  1.714919  1.682955    ...     0.990121  0.980455   \n",
       "SPAC1002.07c  0.570085  0.593492  0.524142    ...     1.046894  1.307253   \n",
       "SPAC1002.09c  0.276762  0.236933  0.258554    ...     0.904997  0.855320   \n",
       "\n",
       "                   t3p       t4p       t5p       t6p       t7p       t8p  \\\n",
       "SPAC1002.02   5.591645  6.932151  5.479337  3.574659  2.726113  2.114409   \n",
       "SPAC1002.03c  0.750362  0.746000  0.770242  0.800074  0.843706  0.872157   \n",
       "SPAC1002.04c  1.050549  1.248047  1.217455  0.880529  0.704999  0.712103   \n",
       "SPAC1002.07c  1.640936  2.070811  2.125540  2.078482  1.997900  1.900363   \n",
       "SPAC1002.09c  0.872414  0.904201  0.923575  0.932110  0.939830  0.961271   \n",
       "\n",
       "                   t9p      t10p  \n",
       "SPAC1002.02   1.764191  1.439884  \n",
       "SPAC1002.03c  0.819914  0.839864  \n",
       "SPAC1002.04c  0.701598  0.795477  \n",
       "SPAC1002.07c  1.857979  1.780422  \n",
       "SPAC1002.09c  0.991512  1.018891  \n",
       "\n",
       "[5 rows x 23 columns]"
      ]
     },
     "execution_count": 16,
     "metadata": {},
     "output_type": "execute_result"
    }
   ],
   "source": [
    "data = data_mRNA_sorted.join(data_prot_filtered, lsuffix='m', rsuffix='p')\n",
    "print('Size of joined data:', data.shape)\n",
    "data.head()"
   ]
  },
  {
   "cell_type": "markdown",
   "metadata": {},
   "source": [
    "Defining standardizing function (return z-score)"
   ]
  },
  {
   "cell_type": "code",
   "execution_count": 17,
   "metadata": {
    "collapsed": true
   },
   "outputs": [],
   "source": [
    "def standardize(df):\n",
    "    return df.sub(df.mean(1), axis=0).div(df.std(1), axis=0)"
   ]
  },
  {
   "cell_type": "markdown",
   "metadata": {},
   "source": [
    "Renaming tables for easier use and standardizing them (remplacing with z-score)"
   ]
  },
  {
   "cell_type": "code",
   "execution_count": 21,
   "metadata": {
    "collapsed": false
   },
   "outputs": [],
   "source": [
    "prot_data = standardize(data_prot_filtered)\n",
    "mRNA_data = standardize(data_mRNA_sorted.drop('t11', axis=1))\n",
    "# TODO: check time scale"
   ]
  },
  {
   "cell_type": "markdown",
   "metadata": {},
   "source": [
    "# Plots"
   ]
  },
  {
   "cell_type": "markdown",
   "metadata": {},
   "source": [
    "Plotting entries for one set of mRNA and proteins for each time points"
   ]
  },
  {
   "cell_type": "code",
   "execution_count": 22,
   "metadata": {
    "collapsed": false
   },
   "outputs": [
    {
     "data": {
      "image/png": "[encoded data removed]",
      "text/plain": [
       "<matplotlib.figure.Figure at 0x7faf51e621d0>"
      ]
     },
     "metadata": {},
     "output_type": "display_data"
    }
   ],
   "source": [
    "def plot_set(k):\n",
    "    plt.plot(prot_data.iloc[k].values, label='Protein')\n",
    "    plt.plot(mRNA_data.iloc[k].values, label='mRNA')\n",
    "    \n",
    "    plt.xlabel('Time []')\n",
    "    plt.ylabel('Standardized ratio')\n",
    "    \n",
    "    plt.title(prot_data.index[k])\n",
    "    \n",
    "    plt.legend()\n",
    "    plt.show()\n",
    "\n",
    "plot_set(0)"
   ]
  },
  {
   "cell_type": "markdown",
   "metadata": {},
   "source": [
    "The standardized ratio for the protein 'SPAC1002.02' and the correspond mRNA looks correlated"
   ]
  },
  {
   "cell_type": "code",
   "execution_count": 23,
   "metadata": {
    "collapsed": false
   },
   "outputs": [
    {
     "data": {
      "image/png": "[encoded data removed]",
      "text/plain": [
       "<matplotlib.figure.Figure at 0x7faf4f9daeb8>"
      ]
     },
     "metadata": {},
     "output_type": "display_data"
    }
   ],
   "source": [
    "from ipywidgets import IntSlider, interact\n",
    "\n",
    "x_min = -3\n",
    "x_max = 3\n",
    "y_min = -3\n",
    "y_max = 3\n",
    "nbins = 40\n",
    "\n",
    "def plot_relation(t):\n",
    "    fig, ax = plt.subplots()\n",
    "    hx = ax.hexbin(np.log(data)['t'+str(t)+'p'], np.log(data)['t'+str(t)+'m'], cmap='Greens', gridsize=nbins, extent=[x_min, x_max, y_min, y_max])\n",
    "    fig.colorbar(hx)\n",
    "    plt.xlabel('Protein level [log(plt'+str(t)+'/plt0)]')\n",
    "    plt.ylabel('mRNA level [log(mlt'+str(t)+'/mlt0)]')\n",
    "    plt.show()\n",
    "    \n",
    "interact(plot_relation, t=IntSlider(min=0, max=10))"
   ]
  },
  {
   "cell_type": "markdown",
   "metadata": {},
   "source": [
    "The action-reaction between mRNA and protein can be observed when looking at time *t = 1* and *t = 2*. At *t = 1*, the mRNA spreads and the stay small as if they are uncorrelated. At *t = 2*, the proteins level responds and we can see that the protein and mRNA levels are correlated. We can also see that correlation until time *t = 7*. After time *t = 6*, the data looks uncorrelated for some reason."
   ]
  },
  {
   "cell_type": "markdown",
   "metadata": {
    "collapsed": true
   },
   "source": [
    "# Correlations"
   ]
  },
  {
   "cell_type": "markdown",
   "metadata": {},
   "source": [
    "Quantification of the correlation between the standardized ratio of the protein 'SPAC1002.02' and the correspond mRNA using Pearson correlation :\n",
    "\n",
    "$$ \\text{corr}(X,Y) = \\dfrac{\\text{cov}(X,Y)}{\\sigma_X \\sigma_Y} $$"
   ]
  },
  {
   "cell_type": "code",
   "execution_count": 54,
   "metadata": {
    "collapsed": false
   },
   "outputs": [
    {
     "name": "stdout",
     "output_type": "stream",
     "text": [
      "correlation : 0.921495693413\n"
     ]
    }
   ],
   "source": [
    "def compute_corr(k):\n",
    "    return prot_data.iloc[k].corr(mRNA_data.iloc[k], method='pearson')\n",
    "\n",
    "print('correlation :', compute_corr(0))"
   ]
  },
  {
   "cell_type": "markdown",
   "metadata": {},
   "source": [
    "The Pearson correlation values are between *-1* and *1*. A correlation of *0* means that they are **uncorrelated**, *-1* **anticorrelated** and *1* **correlated**."
   ]
  },
  {
   "cell_type": "markdown",
   "metadata": {},
   "source": [
    "Let's compute the correlation for all protein and mRNA pairs"
   ]
  },
  {
   "cell_type": "code",
   "execution_count": 55,
   "metadata": {
    "collapsed": false
   },
   "outputs": [],
   "source": [
    "correl = np.zeros((data.shape[0],))\n",
    "for k in range(data.shape[0]):\n",
    "    correl[k] = compute_corr(k)\n",
    "\n",
    "corr_ = pd.Series(correl, index=data.index)"
   ]
  },
  {
   "cell_type": "code",
   "execution_count": null,
   "metadata": {
    "collapsed": false
   },
   "outputs": [],
   "source": []
  },
  {
   "cell_type": "markdown",
   "metadata": {
    "collapsed": true
   },
   "source": [
    "# TODO:\n",
    "- check and add correct time scale\n",
    "- find method to cluster correlation\n",
    "- find method to visualize correlation"
   ]
  },
  {
   "cell_type": "code",
   "execution_count": null,
   "metadata": {
    "collapsed": true
   },
   "outputs": [],
   "source": []
  },
  {
   "cell_type": "code",
   "execution_count": null,
   "metadata": {
    "collapsed": true
   },
   "outputs": [],
   "source": []
  },
  {
   "cell_type": "code",
   "execution_count": null,
   "metadata": {
    "collapsed": true
   },
   "outputs": [],
   "source": []
  },
  {
   "cell_type": "code",
   "execution_count": null,
   "metadata": {
    "collapsed": true
   },
   "outputs": [],
   "source": []
  },
  {
   "cell_type": "code",
   "execution_count": null,
   "metadata": {
    "collapsed": true
   },
   "outputs": [],
   "source": []
  },
  {
   "cell_type": "code",
   "execution_count": null,
   "metadata": {
    "collapsed": true
   },
   "outputs": [],
   "source": []
  },
  {
   "cell_type": "code",
   "execution_count": null,
   "metadata": {
    "collapsed": true
   },
   "outputs": [],
   "source": []
  }
 ],
 "metadata": {
  "kernelspec": {
   "display_name": "Python 3",
   "language": "python",
   "name": "python3"
  },
  "language_info": {
   "codemirror_mode": {
    "name": "ipython",
    "version": 3
   },
   "file_extension": ".py",
   "mimetype": "text/x-python",
   "name": "python",
   "nbconvert_exporter": "python",
   "pygments_lexer": "ipython3",
   "version": "3.5.2+"
  },
  "widgets": {
   "state": {
    "5176a49dbcde4b93be896d066b15fb57": {
     "views": [
      {
       "cell_index": 29
      }
     ]
    }
   },
   "version": "1.2.0"
  }
 },
 "nbformat": 4,
 "nbformat_minor": 1
}
